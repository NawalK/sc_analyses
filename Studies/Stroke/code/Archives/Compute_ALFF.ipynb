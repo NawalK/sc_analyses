{
 "cells": [
  {
   "cell_type": "markdown",
   "id": "24dc923d",
   "metadata": {},
   "source": [
    "# ALFF analyses of SUVA dataset\n",
    "\n",
    "Compute and compare the amplitude of low frequency fluctuations"
   ]
  },
  {
   "cell_type": "code",
   "execution_count": 17,
   "id": "9b1ca82b",
   "metadata": {},
   "outputs": [
    {
     "name": "stdout",
     "output_type": "stream",
     "text": [
      "220414-08:05:50,985 nipype.utils WARNING:\n",
      "\t A newer version (1.7.1) of nipy/nipype is available. You are using 1.7.0\n"
     ]
    }
   ],
   "source": [
    "import pandas as pd\n",
    "import numpy as np\n",
    "import seaborn as sns\n",
    "import matplotlib.pyplot as plt\n",
    "import nibabel as nib\n",
    "import os.path, os\n",
    "import sys\n",
    "#from nilearn.plotting import plot_anat\n",
    "from nilearn.signal import clean\n",
    "from nipype.interfaces.fsl import ImageStats\n",
    "from nipype.interfaces.fsl.maths import StdImage\n",
    "sys.path.append(\"/home/kinany/\")\n",
    "from scipy.signal import filtfilt, cheby2\n",
    "\n",
    "%matplotlib inline"
   ]
  },
  {
   "cell_type": "markdown",
   "id": "caf0b3f8",
   "metadata": {},
   "source": [
    "## Data structure\n",
    "*Note: Inputs images are preprocessed images (native space) NOT filtered*"
   ]
  },
  {
   "cell_type": "code",
   "execution_count": 5,
   "id": "0785c4bd",
   "metadata": {},
   "outputs": [],
   "source": [
    "Root_patients='/media/miplab-nas2/Data/SpinalCord/5_Stroke/SUVA/'\n",
    "Root_controls='/media/miplab-nas2/Data/SpinalCord/3_RestingState/LongRecordings/Cervical/'\n",
    "#Root='/Volumes/Data/SpinalCord/5_Stroke/SUVA/'\n",
    "Directories={# Subject info\n",
    "             #'list_patients':{'001':['T4'],'002':['T3','T4'],'003':['T3','T4'],'004':['T3'],'005':['T2','T3'],'006':['T3'],'007':['T3'],'008':['T2','T3'],'009':['T4'],'010':['T3','T4'],'011':['T2','T4'],'014':['T3','T4'],'016':['T2','T3'],'017':['T3'],'018':['T2','T3'],'019':['T2'],'020':['T4'],'021':['T3'],'022':['T2','T3'],'023':['T3'],'024':['T3'],'025':['T3'],'026':['T2','T3'],'027':['T3'],'028':['T3']},\n",
    "             #'list_patients':{'005':['T2','T3'],'008':['T2','T3'],'016':['T2','T3'],'018':['T2','T3'],'022':['T2','T3'],'026':['T2','T3']},\n",
    "             'keep_only_T3':'True',\n",
    "             'list_patients':{\n",
    "                '001':{'sess':['T4'],'side':'R','keep_T3':'False'},\n",
    "                '002':{'sess':['T3','T4'],'side':'R','keep_T3':'True'},\n",
    "                '003':{'sess':['T3','T4'],'side':'L','keep_T3':'True'},\n",
    "                '004':{'sess':['T3'],'side':'L','keep_T3':'False'},\n",
    "                '005':{'sess':['T2','T3'],'side':'R','keep_T3':'True'},\n",
    "                '006':{'sess':['T3'],'side':'L','keep_T3':'True'},\n",
    "                '007':{'sess':['T3'],'side':'R','keep_T3':'True'},\n",
    "                '008':{'sess':['T2','T3'],'side':'L','keep_T3':'True'},\n",
    "                '009':{'sess':['T4'],'side':'L','keep_T3':'False'},\n",
    "                '010':{'sess':['T3','T4'],'side':'R','keep_T3':'True'},\n",
    "                '011':{'sess':['T2','T4'],'side':'R','keep_T3':'False'},\n",
    "                '014':{'sess':['T3','T4'],'side':'R','keep_T3':'True'},\n",
    "                '016':{'sess':['T2','T3'],'side':'R','keep_T3':'True'},\n",
    "                '017':{'sess':['T3'],'side':'L','keep_T3':'False'},\n",
    "                '018':{'sess':['T2','T3'],'side':'L','keep_T3':'False'},\n",
    "                '019':{'sess':['T2'],'side':'R','keep_T3':'False'},\n",
    "                '020':{'sess':['T4'],'side':'L','keep_T3':'False'},\n",
    "                '021':{'sess':['T3'],'side':'L','keep_T3':'True'},\n",
    "                '022':{'sess':['T2','T3'],'side':'R','keep_T3':'True'},\n",
    "                '023':{'sess':['T3'],'side':'R','keep_T3':'True'},\n",
    "                '024':{'sess':['T3'],'side':'R','keep_T3':'False'},\n",
    "                '025':{'sess':['T3'],'side':'R','keep_T3':'True'},\n",
    "                '026':{'sess':['T2','T3'],'side':'L','keep_T3':'True'},\n",
    "                '027':{'sess':['T3'],'side':'L','keep_T3':'False'},\n",
    "                '028':{'sess':['T3'],'side':'R','keep_T3':'True'},\n",
    "                '031':{'sess':['T3'],'side':'L','keep_T3':'True'}},\n",
    "             'list_controls':{'RS_AT':['RS_Moco_SCT'],'RS_EP':['RS_Moco_SCT'],'RS_FB':['RS_Moco_SCT'],'RS_GB':['RS_Moco_SCT'],'RS_GP':['RS_Moco_SCT'],'RS_LJ':['RS_Moco_SCT'],'RS_MD':['RS_Moco_SCT'],'RS_MP':['RS_Moco_SCT'],'RS_NG':['RS_Moco_SCT'],'RS_NK':['RS_Moco_SCT'],'RS_RL':['RS_Moco_SCT'],'RS_SA':['RS_Moco_SCT'],'RS_SL':['RS_Moco_SCT'],'RS_SW':['RS_Moco_SCT'],'RS_VG':['RS_Moco_SCT'],'RS_VS':['RS_Moco_SCT'],'RS_YF':['RS_Moco_SCT'],'RS_AO':['RS_Moco_SCT'],'RS_AS':['RS_Moco_SCT']},\n",
    "             'SubRoot_patients':'SUVA-TIMES-',\n",
    "              # Functional info\n",
    "             'FuncDir_patients':'/Functional/',\n",
    "             'FuncDir_controls':'/Functional_SCT/',\n",
    "             'FuncName_patients':'fmri_moco_denoised',\n",
    "             'FuncName_controls':'residuals240vol_native_noWM',\n",
    "             'MaskName_patients':'fmri_mask_sc',\n",
    "             'MaskName_controls':'mask_sc',\n",
    "             'MaskDir':'Segmentation/',\n",
    "             # Lesion info\n",
    "             'LesionDir': Root_patients + 'LesionAnalysis/',\n",
    "             'acute_only': True, # True if we take only acute part of the lesions (for the subjects with old lesions)\n",
    "             # ALFF info\n",
    "             'bp_range': [0.01,0.13],\n",
    "             'overwrite_bp': False, # Set True to overwrite previous band-pass filtering\n",
    "             'overwrite_alff': False, # Set True to overwrite previous ALFF computation\n",
    "             'overwrite_flipped': False, # Set True to overwrite previous L-R flipping \n",
    "             'overwrite_df': False, # Set True to overwrite dataframe containing ALFF values\n",
    "             # ROI info\n",
    "             'RoiDir': '/media/miplab-nas2/Data/SpinalCord/3_RestingState/LongRecordings/Cervical/PAM50_t2_common/masks/mask_',\n",
    "             'roi_names':['C5toC7_short_gm_RV','C5toC7_short_gm_LV','C5toC7_short_gm_RD','C5toC7_short_gm_LD']\n",
    "             } "
   ]
  },
  {
   "cell_type": "markdown",
   "id": "b40eb6fe",
   "metadata": {},
   "source": [
    "## ALFF function"
   ]
  },
  {
   "cell_type": "code",
   "execution_count": 3,
   "id": "5457c01f",
   "metadata": {},
   "outputs": [],
   "source": [
    "def compute_alff(data_path,func_file,mask_file,Wn):\n",
    "    ''' Computes amplitude of low frequency fluctuations (ALFF) for each voxel.\n",
    "    \n",
    "        Parameter\n",
    "        ----------\n",
    "        data_path : path containing the data\n",
    "        func_file : name of the 4D nifti file containing the time series (native space)\n",
    "        mask_file : name of the 3D nifti file containing the spinal cord mask (native space)\n",
    "        Wn : range of frequencies to keep [f1 f2]\n",
    "\n",
    "        Return\n",
    "        -------\n",
    "        alff_img : 3D array containing the sum of the amplitudes in the low frequency band (ALFF)\n",
    "        alff_Z_img : 3D array containing the Z-scored ALFF \n",
    "    '''\n",
    "    \n",
    "    print('Input -> ' + func_file)\n",
    "    print('STEP 1: Bandpass filter') \n",
    "    \n",
    "#     # Test\n",
    "#     data_img = nib.load(data_path+func_file+ '.nii.gz')\n",
    "#     data_bp = clean(signals=data_img.get_fdata(), t_r=2.5, high_pass=bp1, low_pass=bp2, detrend=False, standardize=False, standardize_confounds=False)\n",
    "#     print(f'Data shape {data_bp.shape}')\n",
    "#     data_bp_img = nib.Nifti1Image(data_bp, data_img.affine, data_img.header)\n",
    "#     nib.save(data_bp_img,data_path+func_file+ '_bp_clean.nii.gz')\n",
    "    \n",
    "#     # end test\n",
    "    if not os.path.isfile(data_path+func_file + '_bp.nii.gz') or Directories['overwrite_bp']:\n",
    "        # Using the same filter as Barry 2014 (gave nicest filtering when checking with Ila)\n",
    "        img = nib.load(data_path+func_file+ '.nii.gz')\n",
    "        data = img.get_fdata()\n",
    "        filtered_data = temporal_filter2(data,Wn)\n",
    "        data_bp_img = nib.Nifti1Image(filtered_data, img.affine, img.header)\n",
    "        nib.save(data_bp_img,data_path+func_file + '_bp.nii.gz')\n",
    "    \n",
    "    print('STEP 2: Standard deviation')\n",
    "    if not os.path.isfile(data_path+func_file + '_alff.nii.gz') or Directories['overwrite_alff']:\n",
    "        std = StdImage(in_file=data_path+func_file + '_bp.nii.gz', out_file=data_path+func_file + '_alff.nii.gz', output_type='NIFTI_GZ')\n",
    "        std.run()\n",
    "    \n",
    "    print('STEP 3: Z-score')\n",
    "    if not os.path.isfile(data_path+func_file + '_alff_Z.nii.gz') or Directories['overwrite_alff']:\n",
    "        # Compute std and mean in mask\n",
    "        stats_mean = ImageStats(in_file=data_path+func_file + '_alff.nii.gz', mask_file=data_path+mask_file+'.nii.gz',op_string= '-m')\n",
    "        mean = stats_mean.run().outputs.out_stat\n",
    "        stats_std = ImageStats(in_file=data_path+func_file + '_alff.nii.gz', mask_file=data_path+mask_file+'.nii.gz',op_string= '-s')\n",
    "        std = stats_std.run().outputs.out_stat\n",
    "        # Compute z-score ALFF\n",
    "        run_string = 'fslmaths ' + data_path+func_file + '_alff.nii.gz -sub ' + str(mean) + ' -div ' + str(std) + ' ' + data_path + func_file + '_alff_Z.nii.gz'\n",
    "        os.system(run_string)\n",
    "    \n",
    "    print('STEP 4: Normalization')\n",
    "    if not os.path.isfile(data_path+func_file + '_alff_Z_pam50.nii.gz') or Directories['overwrite_alff']:\n",
    "        run_string = '/home/kinany/sct_3.2.7/bin/sct_apply_transfo -i ' + data_path + func_file + '_alff_Z.nii.gz -d /media/miplab-nas3/Data/SpinalCord/3_RestingState/LongRecordings/Cervical/PAM50_t2_common/template/PAM50_t2.nii.gz -w ' + data_path + 'Normalization/warp_fmri2template.nii.gz -x linear -o ' + data_path+func_file + '_alff_Z_pam50.nii.gz'\n",
    "        os.system(run_string)  \n",
    "        \n",
    "def temporal_filter2(raw_signal, Wn):\n",
    "    ''' Computes filtered version of a timeseries (voxelwise) \n",
    "        Note: same filter as Barry 2014\n",
    "    \n",
    "        Parameter\n",
    "        ----------\n",
    "        raw_signal : unfiltered signal (array)\n",
    "        Wn : range of frequencies to keep [f1 f2]\n",
    "        \n",
    "        Return\n",
    "        -------\n",
    "        filt_signal : filtered signal (array)\n",
    "    '''    \n",
    "    b,a = cheby2(4, 30, Wn, 'bandpass', fs=1./2.5)\n",
    "    filt_signal = filtfilt(b,a,raw_signal)\n",
    "    return filt_signal"
   ]
  },
  {
   "cell_type": "markdown",
   "id": "da06aa1a",
   "metadata": {},
   "source": [
    "### ALFF"
   ]
  },
  {
   "cell_type": "markdown",
   "id": "9edf7298",
   "metadata": {},
   "source": [
    "### Compute ALFF maps"
   ]
  },
  {
   "cell_type": "markdown",
   "id": "7084fcab",
   "metadata": {},
   "source": [
    "### _1. Patients_"
   ]
  },
  {
   "cell_type": "code",
   "execution_count": 4,
   "id": "9dc0d4b9",
   "metadata": {},
   "outputs": [
    {
     "name": "stdout",
     "output_type": "stream",
     "text": [
      "Input -> SUVA-TIMES-001-T4-fmri_moco_denoised\n",
      "STEP 1: Bandpass filter\n"
     ]
    },
    {
     "ename": "KeyboardInterrupt",
     "evalue": "",
     "output_type": "error",
     "traceback": [
      "\u001b[0;31m---------------------------------------------------------------------------\u001b[0m",
      "\u001b[0;31mKeyboardInterrupt\u001b[0m                         Traceback (most recent call last)",
      "\u001b[0;32m/tmp/ipykernel_2585002/1621669524.py\u001b[0m in \u001b[0;36m<module>\u001b[0;34m\u001b[0m\n\u001b[1;32m      4\u001b[0m         \u001b[0msub_data_path\u001b[0m \u001b[0;34m=\u001b[0m \u001b[0mRoot_patients\u001b[0m \u001b[0;34m+\u001b[0m \u001b[0mDirectories\u001b[0m\u001b[0;34m[\u001b[0m\u001b[0;34m'SubRoot_patients'\u001b[0m\u001b[0;34m]\u001b[0m \u001b[0;34m+\u001b[0m \u001b[0msub\u001b[0m \u001b[0;34m+\u001b[0m \u001b[0;34m'/'\u001b[0m \u001b[0;34m+\u001b[0m \u001b[0msession\u001b[0m \u001b[0;34m+\u001b[0m \u001b[0mDirectories\u001b[0m\u001b[0;34m[\u001b[0m\u001b[0;34m'FuncDir_patients'\u001b[0m\u001b[0;34m]\u001b[0m\u001b[0;34m\u001b[0m\u001b[0;34m\u001b[0m\u001b[0m\n\u001b[1;32m      5\u001b[0m         \u001b[0msub_func_file\u001b[0m \u001b[0;34m=\u001b[0m \u001b[0msub_id\u001b[0m \u001b[0;34m+\u001b[0m \u001b[0mDirectories\u001b[0m\u001b[0;34m[\u001b[0m\u001b[0;34m'FuncName_patients'\u001b[0m\u001b[0;34m]\u001b[0m\u001b[0;34m\u001b[0m\u001b[0;34m\u001b[0m\u001b[0m\n\u001b[0;32m----> 6\u001b[0;31m         \u001b[0mcompute_alff\u001b[0m\u001b[0;34m(\u001b[0m\u001b[0mdata_path\u001b[0m \u001b[0;34m=\u001b[0m \u001b[0msub_data_path\u001b[0m\u001b[0;34m,\u001b[0m \u001b[0mfunc_file\u001b[0m \u001b[0;34m=\u001b[0m \u001b[0msub_func_file\u001b[0m\u001b[0;34m,\u001b[0m \u001b[0mmask_file\u001b[0m \u001b[0;34m=\u001b[0m \u001b[0mDirectories\u001b[0m\u001b[0;34m[\u001b[0m\u001b[0;34m'MaskDir'\u001b[0m\u001b[0;34m]\u001b[0m \u001b[0;34m+\u001b[0m \u001b[0msub_id\u001b[0m \u001b[0;34m+\u001b[0m \u001b[0mDirectories\u001b[0m\u001b[0;34m[\u001b[0m\u001b[0;34m'MaskName_patients'\u001b[0m\u001b[0;34m]\u001b[0m\u001b[0;34m,\u001b[0m\u001b[0mWn\u001b[0m \u001b[0;34m=\u001b[0m \u001b[0mDirectories\u001b[0m\u001b[0;34m[\u001b[0m\u001b[0;34m'bp_range'\u001b[0m\u001b[0;34m]\u001b[0m\u001b[0;34m)\u001b[0m\u001b[0;34m\u001b[0m\u001b[0;34m\u001b[0m\u001b[0m\n\u001b[0m\u001b[1;32m      7\u001b[0m \u001b[0;34m\u001b[0m\u001b[0m\n\u001b[1;32m      8\u001b[0m         \u001b[0;31m# Flip brain to have consistently the lesions on the right side\u001b[0m\u001b[0;34m\u001b[0m\u001b[0;34m\u001b[0m\u001b[0m\n",
      "\u001b[0;32m/tmp/ipykernel_2585002/1578918555.py\u001b[0m in \u001b[0;36mcompute_alff\u001b[0;34m(data_path, func_file, mask_file, Wn)\u001b[0m\n\u001b[1;32m     32\u001b[0m         \u001b[0mfiltered_data\u001b[0m \u001b[0;34m=\u001b[0m \u001b[0mtemporal_filter2\u001b[0m\u001b[0;34m(\u001b[0m\u001b[0mdata\u001b[0m\u001b[0;34m,\u001b[0m\u001b[0mWn\u001b[0m\u001b[0;34m)\u001b[0m\u001b[0;34m\u001b[0m\u001b[0;34m\u001b[0m\u001b[0m\n\u001b[1;32m     33\u001b[0m         \u001b[0mdata_bp_img\u001b[0m \u001b[0;34m=\u001b[0m \u001b[0mnib\u001b[0m\u001b[0;34m.\u001b[0m\u001b[0mNifti1Image\u001b[0m\u001b[0;34m(\u001b[0m\u001b[0mfiltered_data\u001b[0m\u001b[0;34m,\u001b[0m \u001b[0mimg\u001b[0m\u001b[0;34m.\u001b[0m\u001b[0maffine\u001b[0m\u001b[0;34m,\u001b[0m \u001b[0mimg\u001b[0m\u001b[0;34m.\u001b[0m\u001b[0mheader\u001b[0m\u001b[0;34m)\u001b[0m\u001b[0;34m\u001b[0m\u001b[0;34m\u001b[0m\u001b[0m\n\u001b[0;32m---> 34\u001b[0;31m         \u001b[0mnib\u001b[0m\u001b[0;34m.\u001b[0m\u001b[0msave\u001b[0m\u001b[0;34m(\u001b[0m\u001b[0mdata_bp_img\u001b[0m\u001b[0;34m,\u001b[0m\u001b[0mdata_path\u001b[0m\u001b[0;34m+\u001b[0m\u001b[0mfunc_file\u001b[0m \u001b[0;34m+\u001b[0m \u001b[0;34m'_bp.nii.gz'\u001b[0m\u001b[0;34m)\u001b[0m\u001b[0;34m\u001b[0m\u001b[0;34m\u001b[0m\u001b[0m\n\u001b[0m\u001b[1;32m     35\u001b[0m \u001b[0;34m\u001b[0m\u001b[0m\n\u001b[1;32m     36\u001b[0m     \u001b[0mprint\u001b[0m\u001b[0;34m(\u001b[0m\u001b[0;34m'STEP 2: Standard deviation'\u001b[0m\u001b[0;34m)\u001b[0m\u001b[0;34m\u001b[0m\u001b[0;34m\u001b[0m\u001b[0m\n",
      "\u001b[0;32m~/.local/lib/python3.9/site-packages/nibabel/loadsave.py\u001b[0m in \u001b[0;36msave\u001b[0;34m(img, filename)\u001b[0m\n\u001b[1;32m     97\u001b[0m     \u001b[0;31m# Save the type as expected\u001b[0m\u001b[0;34m\u001b[0m\u001b[0;34m\u001b[0m\u001b[0m\n\u001b[1;32m     98\u001b[0m     \u001b[0;32mtry\u001b[0m\u001b[0;34m:\u001b[0m\u001b[0;34m\u001b[0m\u001b[0;34m\u001b[0m\u001b[0m\n\u001b[0;32m---> 99\u001b[0;31m         \u001b[0mimg\u001b[0m\u001b[0;34m.\u001b[0m\u001b[0mto_filename\u001b[0m\u001b[0;34m(\u001b[0m\u001b[0mfilename\u001b[0m\u001b[0;34m)\u001b[0m\u001b[0;34m\u001b[0m\u001b[0;34m\u001b[0m\u001b[0m\n\u001b[0m\u001b[1;32m    100\u001b[0m     \u001b[0;32mexcept\u001b[0m \u001b[0mImageFileError\u001b[0m\u001b[0;34m:\u001b[0m\u001b[0;34m\u001b[0m\u001b[0;34m\u001b[0m\u001b[0m\n\u001b[1;32m    101\u001b[0m         \u001b[0;32mpass\u001b[0m\u001b[0;34m\u001b[0m\u001b[0;34m\u001b[0m\u001b[0m\n",
      "\u001b[0;32m~/.local/lib/python3.9/site-packages/nibabel/filebasedimages.py\u001b[0m in \u001b[0;36mto_filename\u001b[0;34m(self, filename)\u001b[0m\n\u001b[1;32m    331\u001b[0m         \"\"\"\n\u001b[1;32m    332\u001b[0m         \u001b[0mself\u001b[0m\u001b[0;34m.\u001b[0m\u001b[0mfile_map\u001b[0m \u001b[0;34m=\u001b[0m \u001b[0mself\u001b[0m\u001b[0;34m.\u001b[0m\u001b[0mfilespec_to_file_map\u001b[0m\u001b[0;34m(\u001b[0m\u001b[0mfilename\u001b[0m\u001b[0;34m)\u001b[0m\u001b[0;34m\u001b[0m\u001b[0;34m\u001b[0m\u001b[0m\n\u001b[0;32m--> 333\u001b[0;31m         \u001b[0mself\u001b[0m\u001b[0;34m.\u001b[0m\u001b[0mto_file_map\u001b[0m\u001b[0;34m(\u001b[0m\u001b[0;34m)\u001b[0m\u001b[0;34m\u001b[0m\u001b[0;34m\u001b[0m\u001b[0m\n\u001b[0m\u001b[1;32m    334\u001b[0m \u001b[0;34m\u001b[0m\u001b[0m\n\u001b[1;32m    335\u001b[0m     @deprecate_with_version('to_filespec method is deprecated.\\n'\n",
      "\u001b[0;32m~/.local/lib/python3.9/site-packages/nibabel/analyze.py\u001b[0m in \u001b[0;36mto_file_map\u001b[0;34m(self, file_map)\u001b[0m\n\u001b[1;32m   1042\u001b[0m         \u001b[0mseek_tell\u001b[0m\u001b[0;34m(\u001b[0m\u001b[0mimgf\u001b[0m\u001b[0;34m,\u001b[0m \u001b[0mhdr\u001b[0m\u001b[0;34m.\u001b[0m\u001b[0mget_data_offset\u001b[0m\u001b[0;34m(\u001b[0m\u001b[0;34m)\u001b[0m\u001b[0;34m,\u001b[0m \u001b[0mwrite0\u001b[0m\u001b[0;34m=\u001b[0m\u001b[0;32mTrue\u001b[0m\u001b[0;34m)\u001b[0m\u001b[0;34m\u001b[0m\u001b[0;34m\u001b[0m\u001b[0m\n\u001b[1;32m   1043\u001b[0m         \u001b[0;31m# Write array data\u001b[0m\u001b[0;34m\u001b[0m\u001b[0;34m\u001b[0m\u001b[0m\n\u001b[0;32m-> 1044\u001b[0;31m         \u001b[0marr_writer\u001b[0m\u001b[0;34m.\u001b[0m\u001b[0mto_fileobj\u001b[0m\u001b[0;34m(\u001b[0m\u001b[0mimgf\u001b[0m\u001b[0;34m)\u001b[0m\u001b[0;34m\u001b[0m\u001b[0;34m\u001b[0m\u001b[0m\n\u001b[0m\u001b[1;32m   1045\u001b[0m         \u001b[0mhdrf\u001b[0m\u001b[0;34m.\u001b[0m\u001b[0mclose_if_mine\u001b[0m\u001b[0;34m(\u001b[0m\u001b[0;34m)\u001b[0m\u001b[0;34m\u001b[0m\u001b[0;34m\u001b[0m\u001b[0m\n\u001b[1;32m   1046\u001b[0m         \u001b[0;32mif\u001b[0m \u001b[0;32mnot\u001b[0m \u001b[0mhdr_img_same\u001b[0m\u001b[0;34m:\u001b[0m\u001b[0;34m\u001b[0m\u001b[0;34m\u001b[0m\u001b[0m\n",
      "\u001b[0;32m~/.local/lib/python3.9/site-packages/nibabel/arraywriters.py\u001b[0m in \u001b[0;36mto_fileobj\u001b[0;34m(self, fileobj, order, nan2zero)\u001b[0m\n\u001b[1;32m    550\u001b[0m         \u001b[0mself\u001b[0m\u001b[0;34m.\u001b[0m\u001b[0m_check_nan2zero\u001b[0m\u001b[0;34m(\u001b[0m\u001b[0mnan2zero\u001b[0m\u001b[0;34m)\u001b[0m\u001b[0;34m\u001b[0m\u001b[0;34m\u001b[0m\u001b[0m\n\u001b[1;32m    551\u001b[0m         \u001b[0mmn\u001b[0m\u001b[0;34m,\u001b[0m \u001b[0mmx\u001b[0m \u001b[0;34m=\u001b[0m \u001b[0mself\u001b[0m\u001b[0;34m.\u001b[0m\u001b[0m_writing_range\u001b[0m\u001b[0;34m(\u001b[0m\u001b[0;34m)\u001b[0m\u001b[0;34m\u001b[0m\u001b[0;34m\u001b[0m\u001b[0m\n\u001b[0;32m--> 552\u001b[0;31m         array_to_file(self._array,\n\u001b[0m\u001b[1;32m    553\u001b[0m                       \u001b[0mfileobj\u001b[0m\u001b[0;34m,\u001b[0m\u001b[0;34m\u001b[0m\u001b[0;34m\u001b[0m\u001b[0m\n\u001b[1;32m    554\u001b[0m                       \u001b[0mself\u001b[0m\u001b[0;34m.\u001b[0m\u001b[0m_out_dtype\u001b[0m\u001b[0;34m,\u001b[0m\u001b[0;34m\u001b[0m\u001b[0;34m\u001b[0m\u001b[0m\n",
      "\u001b[0;32m~/.local/lib/python3.9/site-packages/nibabel/volumeutils.py\u001b[0m in \u001b[0;36marray_to_file\u001b[0;34m(data, fileobj, out_dtype, offset, intercept, divslope, mn, mx, order, nan2zero)\u001b[0m\n\u001b[1;32m    664\u001b[0m     \u001b[0mout_kind\u001b[0m \u001b[0;34m=\u001b[0m \u001b[0mout_dtype\u001b[0m\u001b[0;34m.\u001b[0m\u001b[0mkind\u001b[0m\u001b[0;34m\u001b[0m\u001b[0;34m\u001b[0m\u001b[0m\n\u001b[1;32m    665\u001b[0m     \u001b[0;32mif\u001b[0m \u001b[0mout_kind\u001b[0m \u001b[0;32min\u001b[0m \u001b[0;34m'fc'\u001b[0m\u001b[0;34m:\u001b[0m\u001b[0;34m\u001b[0m\u001b[0;34m\u001b[0m\u001b[0m\n\u001b[0;32m--> 666\u001b[0;31m         return _write_data(data, fileobj, out_dtype, order,\n\u001b[0m\u001b[1;32m    667\u001b[0m                            \u001b[0mslope\u001b[0m\u001b[0;34m=\u001b[0m\u001b[0mslope\u001b[0m\u001b[0;34m,\u001b[0m\u001b[0;34m\u001b[0m\u001b[0;34m\u001b[0m\u001b[0m\n\u001b[1;32m    668\u001b[0m                            \u001b[0minter\u001b[0m\u001b[0;34m=\u001b[0m\u001b[0minter\u001b[0m\u001b[0;34m,\u001b[0m\u001b[0;34m\u001b[0m\u001b[0;34m\u001b[0m\u001b[0m\n",
      "\u001b[0;32m~/.local/lib/python3.9/site-packages/nibabel/volumeutils.py\u001b[0m in \u001b[0;36m_write_data\u001b[0;34m(data, fileobj, out_dtype, order, in_cast, pre_clips, inter, slope, post_clips, nan_fill)\u001b[0m\n\u001b[1;32m    825\u001b[0m         \u001b[0;32mif\u001b[0m \u001b[0mdslice\u001b[0m\u001b[0;34m.\u001b[0m\u001b[0mdtype\u001b[0m \u001b[0;34m!=\u001b[0m \u001b[0mout_dtype\u001b[0m\u001b[0;34m:\u001b[0m\u001b[0;34m\u001b[0m\u001b[0;34m\u001b[0m\u001b[0m\n\u001b[1;32m    826\u001b[0m             \u001b[0mdslice\u001b[0m \u001b[0;34m=\u001b[0m \u001b[0mdslice\u001b[0m\u001b[0;34m.\u001b[0m\u001b[0mastype\u001b[0m\u001b[0;34m(\u001b[0m\u001b[0mout_dtype\u001b[0m\u001b[0;34m)\u001b[0m\u001b[0;34m\u001b[0m\u001b[0;34m\u001b[0m\u001b[0m\n\u001b[0;32m--> 827\u001b[0;31m         \u001b[0mfileobj\u001b[0m\u001b[0;34m.\u001b[0m\u001b[0mwrite\u001b[0m\u001b[0;34m(\u001b[0m\u001b[0mdslice\u001b[0m\u001b[0;34m.\u001b[0m\u001b[0mtobytes\u001b[0m\u001b[0;34m(\u001b[0m\u001b[0;34m)\u001b[0m\u001b[0;34m)\u001b[0m\u001b[0;34m\u001b[0m\u001b[0;34m\u001b[0m\u001b[0m\n\u001b[0m\u001b[1;32m    828\u001b[0m \u001b[0;34m\u001b[0m\u001b[0m\n\u001b[1;32m    829\u001b[0m \u001b[0;34m\u001b[0m\u001b[0m\n",
      "\u001b[0;32m~/.local/lib/python3.9/site-packages/nibabel/openers.py\u001b[0m in \u001b[0;36mwrite\u001b[0;34m(self, *args, **kwargs)\u001b[0m\n\u001b[1;32m    163\u001b[0m \u001b[0;34m\u001b[0m\u001b[0m\n\u001b[1;32m    164\u001b[0m     \u001b[0;32mdef\u001b[0m \u001b[0mwrite\u001b[0m\u001b[0;34m(\u001b[0m\u001b[0mself\u001b[0m\u001b[0;34m,\u001b[0m \u001b[0;34m*\u001b[0m\u001b[0margs\u001b[0m\u001b[0;34m,\u001b[0m \u001b[0;34m**\u001b[0m\u001b[0mkwargs\u001b[0m\u001b[0;34m)\u001b[0m\u001b[0;34m:\u001b[0m\u001b[0;34m\u001b[0m\u001b[0;34m\u001b[0m\u001b[0m\n\u001b[0;32m--> 165\u001b[0;31m         \u001b[0;32mreturn\u001b[0m \u001b[0mself\u001b[0m\u001b[0;34m.\u001b[0m\u001b[0mfobj\u001b[0m\u001b[0;34m.\u001b[0m\u001b[0mwrite\u001b[0m\u001b[0;34m(\u001b[0m\u001b[0;34m*\u001b[0m\u001b[0margs\u001b[0m\u001b[0;34m,\u001b[0m \u001b[0;34m**\u001b[0m\u001b[0mkwargs\u001b[0m\u001b[0;34m)\u001b[0m\u001b[0;34m\u001b[0m\u001b[0;34m\u001b[0m\u001b[0m\n\u001b[0m\u001b[1;32m    166\u001b[0m \u001b[0;34m\u001b[0m\u001b[0m\n\u001b[1;32m    167\u001b[0m     \u001b[0;32mdef\u001b[0m \u001b[0mseek\u001b[0m\u001b[0;34m(\u001b[0m\u001b[0mself\u001b[0m\u001b[0;34m,\u001b[0m \u001b[0;34m*\u001b[0m\u001b[0margs\u001b[0m\u001b[0;34m,\u001b[0m \u001b[0;34m**\u001b[0m\u001b[0mkwargs\u001b[0m\u001b[0;34m)\u001b[0m\u001b[0;34m:\u001b[0m\u001b[0;34m\u001b[0m\u001b[0;34m\u001b[0m\u001b[0m\n",
      "\u001b[0;32m~/anaconda3/lib/python3.9/gzip.py\u001b[0m in \u001b[0;36mwrite\u001b[0;34m(self, data)\u001b[0m\n\u001b[1;32m    286\u001b[0m \u001b[0;34m\u001b[0m\u001b[0m\n\u001b[1;32m    287\u001b[0m         \u001b[0;32mif\u001b[0m \u001b[0mlength\u001b[0m \u001b[0;34m>\u001b[0m \u001b[0;36m0\u001b[0m\u001b[0;34m:\u001b[0m\u001b[0;34m\u001b[0m\u001b[0;34m\u001b[0m\u001b[0m\n\u001b[0;32m--> 288\u001b[0;31m             \u001b[0mself\u001b[0m\u001b[0;34m.\u001b[0m\u001b[0mfileobj\u001b[0m\u001b[0;34m.\u001b[0m\u001b[0mwrite\u001b[0m\u001b[0;34m(\u001b[0m\u001b[0mself\u001b[0m\u001b[0;34m.\u001b[0m\u001b[0mcompress\u001b[0m\u001b[0;34m.\u001b[0m\u001b[0mcompress\u001b[0m\u001b[0;34m(\u001b[0m\u001b[0mdata\u001b[0m\u001b[0;34m)\u001b[0m\u001b[0;34m)\u001b[0m\u001b[0;34m\u001b[0m\u001b[0;34m\u001b[0m\u001b[0m\n\u001b[0m\u001b[1;32m    289\u001b[0m             \u001b[0mself\u001b[0m\u001b[0;34m.\u001b[0m\u001b[0msize\u001b[0m \u001b[0;34m+=\u001b[0m \u001b[0mlength\u001b[0m\u001b[0;34m\u001b[0m\u001b[0;34m\u001b[0m\u001b[0m\n\u001b[1;32m    290\u001b[0m             \u001b[0mself\u001b[0m\u001b[0;34m.\u001b[0m\u001b[0mcrc\u001b[0m \u001b[0;34m=\u001b[0m \u001b[0mzlib\u001b[0m\u001b[0;34m.\u001b[0m\u001b[0mcrc32\u001b[0m\u001b[0;34m(\u001b[0m\u001b[0mdata\u001b[0m\u001b[0;34m,\u001b[0m \u001b[0mself\u001b[0m\u001b[0;34m.\u001b[0m\u001b[0mcrc\u001b[0m\u001b[0;34m)\u001b[0m\u001b[0;34m\u001b[0m\u001b[0;34m\u001b[0m\u001b[0m\n",
      "\u001b[0;31mKeyboardInterrupt\u001b[0m: "
     ]
    }
   ],
   "source": [
    "for sub in Directories['list_patients']: # Loop through all subjects\n",
    "    for session in Directories['list_patients'][sub]['sess']: # Loop through sessions for a particular subject        \n",
    "        sub_id = Directories['SubRoot_patients'] + sub + '-' + session + '-'\n",
    "        sub_data_path = Root_patients + Directories['SubRoot_patients'] + sub + '/' + session + Directories['FuncDir_patients']\n",
    "        sub_func_file = sub_id + Directories['FuncName_patients'] \n",
    "        compute_alff(data_path = sub_data_path, func_file = sub_func_file, mask_file = Directories['MaskDir'] + sub_id + Directories['MaskName_patients'],Wn = Directories['bp_range'])\n",
    "        \n",
    "        # Flip brain to have consistently the lesions on the right side\n",
    "        if (not os.path.isfile(sub_data_path + sub_func_file + '_alff_Z_pam50_flipped.nii.gz') or Directories['overwrite_flipped']) and Directories['list_patients'][sub]['side'] == 'L':\n",
    "            img_toflip = nib.load(sub_data_path + sub_func_file + '_alff_Z_pam50.nii.gz')\n",
    "            data_toflip = img_toflip.get_fdata()\n",
    "            data_flipped = data_toflip[::-1]\n",
    "            img_flipped = nib.Nifti1Image(data_flipped, img_toflip.affine, img_toflip.header)\n",
    "            nib.save(img_flipped,sub_data_path + sub_func_file + '_alff_Z_pam50_flipped.nii.gz')"
   ]
  },
  {
   "cell_type": "markdown",
   "id": "a275b487",
   "metadata": {},
   "source": [
    "### _2. Controls_"
   ]
  },
  {
   "cell_type": "code",
   "execution_count": null,
   "id": "cbbb9f80",
   "metadata": {},
   "outputs": [],
   "source": [
    "for sub in Directories['list_controls']: # Loop through all subjects\n",
    "    for session in Directories['list_controls'][sub]: # Loop through sessions for a particular subject        \n",
    "        compute_alff(data_path = Root_controls + sub + Directories['FuncDir_controls'] + session + '/',\n",
    "                     func_file = Directories['FuncName_controls'], mask_file = Directories['MaskDir'] + Directories['MaskName_controls'],\n",
    "                     Wn = Directories['bp_range'])"
   ]
  },
  {
   "cell_type": "markdown",
   "id": "8024cffd",
   "metadata": {},
   "source": [
    "### Compute mean ALFF in masks"
   ]
  },
  {
   "cell_type": "code",
   "execution_count": 6,
   "id": "d18246d7",
   "metadata": {},
   "outputs": [],
   "source": [
    "subs = []\n",
    "sessions = []\n",
    "rois = []\n",
    "alffs = []\n",
    "\n",
    "if not os.path.isfile('alff_df.pkl') or Directories['overwrite_df']:\n",
    "    for roi in Directories['roi_names']:\n",
    "        for sub in Directories['list_patients']: # Loop through all subjects\n",
    "            for session in Directories['list_patients'][sub]['sess']: # Loop through sessions for a particular subject\n",
    "                # Either we keep only T3, or we consider all subjects\n",
    "                if (Directories['keep_only_T3'] == 'True' and Directories['list_patients'][sub]['keep_T3'] == 'True' and session == 'T3') or Directories['keep_only_T3'] == 'False':\n",
    "                    subs.append(sub)\n",
    "                    sessions.append(session)\n",
    "                    rois.append(roi)\n",
    "                    if Directories['list_patients'][sub]['side'] == 'R':\n",
    "                        stats = ImageStats(in_file=Root_patients + Directories['SubRoot_patients'] + sub + '/' + session + Directories['FuncDir_patients'] + Directories['SubRoot_patients'] + sub + '-' + session + \"-\" + Directories['FuncName_patients'] + '_alff_Z_pam50.nii.gz', mask_file=Directories['RoiDir'] + roi + '.nii.gz',op_string= '-k %s -M')\n",
    "                    else:\n",
    "                        stats = ImageStats(in_file=Root_patients + Directories['SubRoot_patients'] + sub + '/' + session + Directories['FuncDir_patients'] + Directories['SubRoot_patients'] + sub + '-' + session + \"-\" + Directories['FuncName_patients'] + '_alff_Z_pam50_flipped.nii.gz', mask_file=Directories['RoiDir'] + roi + '.nii.gz',op_string= '-k %s -M')\n",
    "\n",
    "                    alffs.append(stats.run().outputs.out_stat)\n",
    "        for sub in Directories['list_controls']: # Loop through all subjects\n",
    "            for session in Directories['list_controls'][sub]: # Loop through sessions for a particular subject\n",
    "                subs.append(sub)\n",
    "                sessions.append(session)\n",
    "                rois.append(roi)\n",
    "                stats = ImageStats(in_file=Root_controls + sub + Directories['FuncDir_controls'] + session + '/' + Directories['FuncName_controls'] + '_alff_Z_pam50.nii.gz', mask_file=Directories['RoiDir'] + roi + '.nii.gz',op_string= '-k %s -M')\n",
    "                alffs.append(stats.run().outputs.out_stat)\n",
    "\n",
    "    colnames = [\"sub\",\"sess\",\"roi\",\"alff\"]\n",
    "    alff_df = pd.DataFrame(list(zip(subs,sessions,rois,alffs)),columns=colnames)\n",
    "    alff_df.to_pickle('alff_df.pkl')  # Save dataframe\n",
    "else:\n",
    "    alff_df = pd.read_pickle('alff_df.pkl')\n"
   ]
  },
  {
   "cell_type": "markdown",
   "id": "ad44abeb",
   "metadata": {},
   "source": [
    "### Plot mean ALFF (over subjects) per session and per roi"
   ]
  },
  {
   "cell_type": "code",
   "execution_count": 7,
   "id": "c812472a",
   "metadata": {},
   "outputs": [
    {
     "data": {
      "image/png": "[encoded data removed]",
      "text/plain": [
       "<Figure size 720x432 with 1 Axes>"
      ]
     },
     "metadata": {
      "needs_background": "light"
     },
     "output_type": "display_data"
    }
   ],
   "source": [
    "plt.figure(figsize=(10,6))\n",
    "ax = sns.barplot(x=\"roi\",y=\"alff\",hue=\"sess\",data=alff_df,hue_order=['RS_Moco_SCT','T3'],palette='flare')"
   ]
  },
  {
   "cell_type": "markdown",
   "id": "ccd14423",
   "metadata": {},
   "source": [
    "### Compute lesion CST load"
   ]
  },
  {
   "cell_type": "code",
   "execution_count": 9,
   "id": "759b27f7",
   "metadata": {},
   "outputs": [],
   "source": [
    "subs = []\n",
    "sessions = []\n",
    "weighted_load_L = []\n",
    "weighted_load_R = []\n",
    "lesion_vol = []\n",
    "\n",
    "# Function for CST load computation\n",
    "def compute_weighted_load(lesion,side):\n",
    "    ''' Computes CST load (weighted, using binarized atlas), see https://onlinelibrary.wiley.com/doi/10.1002/ana.24510\n",
    "    \n",
    "        Parameter\n",
    "        ----------\n",
    "        lesion : 3D array containing the mask of the overlap\n",
    "        side: left (0) or right (1) hemicord\n",
    "\n",
    "        Return\n",
    "        -------\n",
    "        load : weighted load\n",
    "    '''\n",
    "    # ATLAS\n",
    "    if side == 0:\n",
    "        template = nib.load(Directories['LesionDir'] + 'Atlas/FSL_CST_L_resized_bin_thr70.nii.gz')\n",
    "    elif side == 1:\n",
    "        template = nib.load(Directories['LesionDir'] + 'Atlas/FSL_CST_R_resized_bin_thr70.nii.gz')\n",
    "    template_np = template.get_fdata()   \n",
    "    sum_slice = template_np.sum(axis=(0,1)) # Sum of voxels per slice (atlas)\n",
    "    with np.errstate(all='ignore'):\n",
    "        ratio_slice = sum_slice.max() / sum_slice # Maximum number of voxels\n",
    "        \n",
    "    # LESION\n",
    "    sum_slice_lesion = lesion.sum(axis=(0,1)) # Sum of voxel per slice (lesion)\n",
    "    with np.errstate(all='ignore'):\n",
    "        weighted_overlap = np.nansum(sum_slice_lesion * ratio_slice)\n",
    "    return weighted_overlap\n",
    "\n",
    "# Compute load for each subject / session\n",
    "for sub in Directories['list_patients']: # Loop through all subjects\n",
    "    for session in Directories['list_patients'][sub]['sess']: # Loop through sessions for a particular subject\n",
    "        if (Directories['keep_only_T3'] == 'True' and Directories['list_patients'][sub]['keep_T3'] == 'True' and session == 'T3') or Directories['keep_only_T3'] == 'False':\n",
    "            subs.append(sub)\n",
    "            sessions.append(session)\n",
    "            tmp_load = np.zeros((2,1))\n",
    "            for sideix,side in enumerate(['L','R']):\n",
    "                if Directories['acute_only']==True and os.path.isfile(Directories['LesionDir'] + 'Lesions/' + Directories['SubRoot_patients'] + sub + '-' + session + '-acute_only-overlap_FSL_CST_' + side + '.nii.gz'):\n",
    "                    lesion_overlap = nib.load(Directories['LesionDir'] + 'Lesions/' + Directories['SubRoot_patients'] + sub + '-' + session + '-acute_only-overlap_FSL_CST_' + side + '.nii.gz')\n",
    "                else:\n",
    "                    lesion_overlap = nib.load(Directories['LesionDir'] + 'Lesions/' + Directories['SubRoot_patients'] + sub + '-' + session + '-overlap_FSL_CST_' + side + '.nii.gz')\n",
    "                lesion_overlap_np = lesion_overlap.get_fdata()\n",
    "                if side == 'L':\n",
    "                    weighted_load_L.append(compute_weighted_load(lesion_overlap_np,sideix))\n",
    "                elif side =='R':\n",
    "                    weighted_load_R.append(compute_weighted_load(lesion_overlap_np,sideix))\n",
    "\n",
    "            # Add also total volume of lesion\n",
    "            if Directories['acute_only']==True and os.path.isfile(Directories['LesionDir'] + 'Lesions/' + Directories['SubRoot_patients'] + sub + '-' + session + '-acute_only-overlap_FSL_CST_' + side + '.nii.gz'):\n",
    "                lesion = nib.load(Directories['LesionDir'] + 'Lesions/' + Directories['SubRoot_patients'] + sub + '-' + session + '-lesion_acute_only.nii')\n",
    "            else:\n",
    "                lesion = nib.load(Directories['LesionDir'] + 'Lesions/' + Directories['SubRoot_patients'] + sub + '-' + session + '-lesion.nii')\n",
    "            lesion_np = lesion.get_fdata()\n",
    "            lesion_vol.append(np.sum(lesion_np))   \n",
    "            del tmp_load\n",
    "                \n",
    "colnames = [\"sub\",\"sess\",\"CST_L\", \"CST_R\", \"vol\"]\n",
    "lesions_df = pd.DataFrame(list(zip(subs,sessions,weighted_load_L,weighted_load_R,lesion_vol)),columns=colnames)\n"
   ]
  },
  {
   "cell_type": "markdown",
   "id": "012cd381",
   "metadata": {},
   "source": [
    "### Evaluate link between CST load and ALFF"
   ]
  },
  {
   "cell_type": "code",
   "execution_count": 10,
   "id": "9b464965",
   "metadata": {},
   "outputs": [
    {
     "data": {
      "text/html": [
       "<div>\n",
       "<style scoped>\n",
       "    .dataframe tbody tr th:only-of-type {\n",
       "        vertical-align: middle;\n",
       "    }\n",
       "\n",
       "    .dataframe tbody tr th {\n",
       "        vertical-align: top;\n",
       "    }\n",
       "\n",
       "    .dataframe thead th {\n",
       "        text-align: right;\n",
       "    }\n",
       "</style>\n",
       "<table border=\"1\" class=\"dataframe\">\n",
       "  <thead>\n",
       "    <tr style=\"text-align: right;\">\n",
       "      <th></th>\n",
       "      <th>sub</th>\n",
       "      <th>sess</th>\n",
       "      <th>CST_L</th>\n",
       "      <th>CST_R</th>\n",
       "      <th>vol</th>\n",
       "    </tr>\n",
       "  </thead>\n",
       "  <tbody>\n",
       "    <tr>\n",
       "      <th>0</th>\n",
       "      <td>002</td>\n",
       "      <td>T3</td>\n",
       "      <td>0.000000</td>\n",
       "      <td>37.492105</td>\n",
       "      <td>153.0</td>\n",
       "    </tr>\n",
       "    <tr>\n",
       "      <th>1</th>\n",
       "      <td>003</td>\n",
       "      <td>T3</td>\n",
       "      <td>378.224805</td>\n",
       "      <td>0.000000</td>\n",
       "      <td>583.0</td>\n",
       "    </tr>\n",
       "    <tr>\n",
       "      <th>2</th>\n",
       "      <td>005</td>\n",
       "      <td>T3</td>\n",
       "      <td>0.000000</td>\n",
       "      <td>0.000000</td>\n",
       "      <td>7336.0</td>\n",
       "    </tr>\n",
       "    <tr>\n",
       "      <th>3</th>\n",
       "      <td>006</td>\n",
       "      <td>T3</td>\n",
       "      <td>183.473253</td>\n",
       "      <td>0.000000</td>\n",
       "      <td>821.0</td>\n",
       "    </tr>\n",
       "    <tr>\n",
       "      <th>4</th>\n",
       "      <td>007</td>\n",
       "      <td>T3</td>\n",
       "      <td>0.000000</td>\n",
       "      <td>0.000000</td>\n",
       "      <td>1449.0</td>\n",
       "    </tr>\n",
       "    <tr>\n",
       "      <th>5</th>\n",
       "      <td>008</td>\n",
       "      <td>T3</td>\n",
       "      <td>268.873440</td>\n",
       "      <td>0.000000</td>\n",
       "      <td>305.0</td>\n",
       "    </tr>\n",
       "    <tr>\n",
       "      <th>6</th>\n",
       "      <td>010</td>\n",
       "      <td>T3</td>\n",
       "      <td>0.000000</td>\n",
       "      <td>0.000000</td>\n",
       "      <td>621.0</td>\n",
       "    </tr>\n",
       "    <tr>\n",
       "      <th>7</th>\n",
       "      <td>014</td>\n",
       "      <td>T3</td>\n",
       "      <td>0.000000</td>\n",
       "      <td>0.000000</td>\n",
       "      <td>3645.0</td>\n",
       "    </tr>\n",
       "    <tr>\n",
       "      <th>8</th>\n",
       "      <td>016</td>\n",
       "      <td>T3</td>\n",
       "      <td>0.000000</td>\n",
       "      <td>8.970100</td>\n",
       "      <td>15344.0</td>\n",
       "    </tr>\n",
       "    <tr>\n",
       "      <th>9</th>\n",
       "      <td>021</td>\n",
       "      <td>T3</td>\n",
       "      <td>0.000000</td>\n",
       "      <td>0.000000</td>\n",
       "      <td>3020.0</td>\n",
       "    </tr>\n",
       "    <tr>\n",
       "      <th>10</th>\n",
       "      <td>022</td>\n",
       "      <td>T3</td>\n",
       "      <td>0.000000</td>\n",
       "      <td>0.000000</td>\n",
       "      <td>5286.0</td>\n",
       "    </tr>\n",
       "    <tr>\n",
       "      <th>11</th>\n",
       "      <td>023</td>\n",
       "      <td>T3</td>\n",
       "      <td>0.000000</td>\n",
       "      <td>270.000000</td>\n",
       "      <td>1412.0</td>\n",
       "    </tr>\n",
       "    <tr>\n",
       "      <th>12</th>\n",
       "      <td>025</td>\n",
       "      <td>T3</td>\n",
       "      <td>0.000000</td>\n",
       "      <td>124.323952</td>\n",
       "      <td>117.0</td>\n",
       "    </tr>\n",
       "    <tr>\n",
       "      <th>13</th>\n",
       "      <td>026</td>\n",
       "      <td>T3</td>\n",
       "      <td>437.864576</td>\n",
       "      <td>0.000000</td>\n",
       "      <td>1449.0</td>\n",
       "    </tr>\n",
       "    <tr>\n",
       "      <th>14</th>\n",
       "      <td>028</td>\n",
       "      <td>T3</td>\n",
       "      <td>0.000000</td>\n",
       "      <td>948.932548</td>\n",
       "      <td>154889.0</td>\n",
       "    </tr>\n",
       "    <tr>\n",
       "      <th>15</th>\n",
       "      <td>031</td>\n",
       "      <td>T3</td>\n",
       "      <td>123.686328</td>\n",
       "      <td>0.000000</td>\n",
       "      <td>3131.0</td>\n",
       "    </tr>\n",
       "  </tbody>\n",
       "</table>\n",
       "</div>"
      ],
      "text/plain": [
       "    sub sess       CST_L       CST_R       vol\n",
       "0   002   T3    0.000000   37.492105     153.0\n",
       "1   003   T3  378.224805    0.000000     583.0\n",
       "2   005   T3    0.000000    0.000000    7336.0\n",
       "3   006   T3  183.473253    0.000000     821.0\n",
       "4   007   T3    0.000000    0.000000    1449.0\n",
       "5   008   T3  268.873440    0.000000     305.0\n",
       "6   010   T3    0.000000    0.000000     621.0\n",
       "7   014   T3    0.000000    0.000000    3645.0\n",
       "8   016   T3    0.000000    8.970100   15344.0\n",
       "9   021   T3    0.000000    0.000000    3020.0\n",
       "10  022   T3    0.000000    0.000000    5286.0\n",
       "11  023   T3    0.000000  270.000000    1412.0\n",
       "12  025   T3    0.000000  124.323952     117.0\n",
       "13  026   T3  437.864576    0.000000    1449.0\n",
       "14  028   T3    0.000000  948.932548  154889.0\n",
       "15  031   T3  123.686328    0.000000    3131.0"
      ]
     },
     "execution_count": 10,
     "metadata": {},
     "output_type": "execute_result"
    }
   ],
   "source": [
    "lesions_df"
   ]
  },
  {
   "cell_type": "code",
   "execution_count": 12,
   "id": "ce62c59a",
   "metadata": {},
   "outputs": [
    {
     "data": {
      "image/png": "[encoded data removed]",
      "text/plain": [
       "<Figure size 432x288 with 1 Axes>"
      ]
     },
     "metadata": {
      "needs_background": "light"
     },
     "output_type": "display_data"
    }
   ],
   "source": [
    "fig = sns.scatterplot(x=(alff_df.loc[(alff_df['sess']=='T3') & (alff_df['roi']=='C5toC7_short_gm_LV'),'alff'].values),y=lesions_df.loc[lesions_df['sess']=='T3','vol'].values)\n"
   ]
  },
  {
   "cell_type": "code",
   "execution_count": 14,
   "id": "17a1c231",
   "metadata": {},
   "outputs": [
    {
     "data": {
      "image/png": "[encoded data removed]",
      "text/plain": [
       "<Figure size 432x288 with 1 Axes>"
      ]
     },
     "metadata": {
      "needs_background": "light"
     },
     "output_type": "display_data"
    }
   ],
   "source": [
    "fig = sns.scatterplot(x=(alff_df.loc[(alff_df['sess']=='T3') & (alff_df['roi']=='C5toC7_short_gm_LV'),'alff'].values),y=(lesions_df.loc[lesions_df['sess']=='T3','CST_L'].values+lesions_df.loc[lesions_df['sess']=='T3','CST_R']).values)\n",
    "\n"
   ]
  },
  {
   "cell_type": "code",
   "execution_count": 15,
   "id": "e4aa2431",
   "metadata": {},
   "outputs": [
    {
     "ename": "SyntaxError",
     "evalue": "unexpected EOF while parsing (798851414.py, line 2)",
     "output_type": "error",
     "traceback": [
      "\u001b[0;36m  File \u001b[0;32m\"/tmp/ipykernel_2585002/798851414.py\"\u001b[0;36m, line \u001b[0;32m2\u001b[0m\n\u001b[0;31m    \u001b[0m\n\u001b[0m    ^\u001b[0m\n\u001b[0;31mSyntaxError\u001b[0m\u001b[0;31m:\u001b[0m unexpected EOF while parsing\n"
     ]
    }
   ],
   "source": [
    "fig = sns.scatterplot(x=(alff_df.loc[(alff_df['sess']=='T3') & (alff_df['roi']=='C5toC7_short_gm_LV'),'alff'].values),y=(np.sum(lesions_df.loc[lesions_df['sess']=='T3','CST_L'].values+lesions_df.loc[lesions_df['sess']=='T3','CST_R'].values)\n",
    "                      "
   ]
  },
  {
   "cell_type": "code",
   "execution_count": 16,
   "id": "b9451e2c",
   "metadata": {},
   "outputs": [
    {
     "data": {
      "image/png": "[encoded data removed]",
      "text/plain": [
       "<Figure size 1080x360 with 3 Axes>"
      ]
     },
     "metadata": {
      "needs_background": "light"
     },
     "output_type": "display_data"
    }
   ],
   "source": [
    "# Find which sessions to include\n",
    "sessnames = sorted(alff_df.loc[:,\"sess\"].unique())\n",
    "# Note, to access specific values -> alff_df[(alff_df['sess']=='T2') & (alff_df['sub']=='005')]\n",
    "fig, axes = plt.subplots(1,3, figsize=(15,5), sharey=True)\n",
    "fig.suptitle('ALFF vs CST load',fontsize='x-large',weight=\"bold\");\n",
    "for sessix,sess in enumerate(sessnames):\n",
    "    sns.scatterplot(x=alff_df.loc[(alff_df['sess']==sess) & (alff_df['roi']=='C5toC7_short_LD'),'alff'],y=np.sum(lesions_df.loc[lesions_df['sess']=='T3','CST_L'].values+lesions_df.loc[lesions_df['sess']=='T3','CST_R'].values),ax=axes[sessix])\n",
    "    axes[sessix].set_title(sess)\n",
    "plt.setp(axes[0], xlabel='ALFF');\n",
    "plt.setp(axes[0], ylabel='CST load');"
   ]
  },
  {
   "cell_type": "markdown",
   "id": "de23ab84",
   "metadata": {},
   "source": [
    "Test"
   ]
  },
  {
   "cell_type": "code",
   "execution_count": 11,
   "id": "150167c6",
   "metadata": {},
   "outputs": [],
   "source": [
    "from nilearn.maskers import NiftiMasker\n",
    "from nilearn.masking import apply_mask"
   ]
  },
  {
   "cell_type": "code",
   "execution_count": 6,
   "id": "ca0ab0be",
   "metadata": {},
   "outputs": [],
   "source": [
    "masker = NiftiMasker(mask_img='/media/miplab-nas2/Data/SpinalCord/3_RestingState/LongRecordings/Cervical/PAM50_t2_common_light/masks/GM_bin_RV_C5toC7.nii.gz')\n",
    "time_series = masker.fit_transform('/media/miplab-nas2/Data/SpinalCord/3_RestingState/LongRecordings/Cervical/RS_AT/Functional_SCT/RS_Moco_SCT/residuals240vol_native_noWM_bp_pam50_caro.nii.gz')"
   ]
  },
  {
   "cell_type": "code",
   "execution_count": 14,
   "id": "b2e6c5ad",
   "metadata": {},
   "outputs": [
    {
     "data": {
      "text/plain": [
       "(360, 906)"
      ]
     },
     "execution_count": 14,
     "metadata": {},
     "output_type": "execute_result"
    }
   ],
   "source": [
    "time_series.shape"
   ]
  },
  {
   "cell_type": "code",
   "execution_count": 22,
   "id": "dc31d3c1",
   "metadata": {},
   "outputs": [
    {
     "data": {
      "text/plain": [
       "[<matplotlib.lines.Line2D at 0x7f488be068b0>]"
      ]
     },
     "execution_count": 22,
     "metadata": {},
     "output_type": "execute_result"
    },
    {
     "data": {
      "image/png": "[encoded data removed]",
      "text/plain": [
       "<Figure size 432x288 with 1 Axes>"
      ]
     },
     "metadata": {
      "needs_background": "light"
     },
     "output_type": "display_data"
    }
   ],
   "source": [
    "mean_ts = np.mean(time_series,axis=1)\n",
    "plt.plot(mean_ts)"
   ]
  },
  {
   "cell_type": "code",
   "execution_count": 12,
   "id": "39f3c086",
   "metadata": {},
   "outputs": [],
   "source": [
    "ts = apply_mask('/media/miplab-nas2/Data/SpinalCord/3_RestingState/LongRecordings/Cervical/RS_AT/Functional_SCT/RS_Moco_SCT/residuals240vol_native_noWM_bp_pam50_caro.nii.gz','/media/miplab-nas2/Data/SpinalCord/3_RestingState/LongRecordings/Cervical/PAM50_t2_common_light/masks/GM_bin_RV_C5toC7.nii.gz')"
   ]
  },
  {
   "cell_type": "code",
   "execution_count": 27,
   "id": "e961ab22",
   "metadata": {},
   "outputs": [
    {
     "data": {
      "image/png": "[encoded data removed]",
      "text/plain": [
       "<Figure size 432x288 with 1 Axes>"
      ]
     },
     "metadata": {
      "needs_background": "light"
     },
     "output_type": "display_data"
    }
   ],
   "source": [
    "mean_ts2 = np.mean(ts,axis=1)\n",
    "plt.plot(mean_ts2);"
   ]
  },
  {
   "cell_type": "markdown",
   "id": "80fab375",
   "metadata": {},
   "source": [
    "## Useful "
   ]
  },
  {
   "cell_type": "code",
   "execution_count": null,
   "id": "768aef59",
   "metadata": {},
   "outputs": [],
   "source": [
    "# # Two ways to store images\n",
    "# # OPTION 1: list\n",
    "# list_img = []\n",
    "# for sub in Directories['list_patients']: # Loop through all subjects\n",
    "#     for session in Directories['list_patients'][sub]: # Loop through sessions for a particular subject        \n",
    "#         list_img.append(nib.load(Root + Directories['SubRoot_patients'] + sub + '/' + session + Directories['FuncDir_patients'] + Directories['SubRoot_patients'] + sub + '-' + session + '-' + Directories['FuncName_patients']).get_fdata())\n",
    "\n",
    "# # OPTION 2: dictionary    \n",
    "# subs_dict = {sub: [] for sub in Directories['list_patients']} # create empty dictionary\n",
    "# for sub in Directories['list_patients']: # Loop through all subjects\n",
    "#     for session in Directories['list_patients'][sub]: # Loop through sessions for a particular subject        \n",
    "#         subs_dict[sub].append(nib.load(Root + Directories['SubRoot_patients'] + sub + '/' + session + Directories['FuncDir_patients'] + Directories['SubRoot_patients'] + sub + '-' + session + '-' + Directories['FuncName_patients']).get_fdata())\n",
    "\n",
    "# # Can access list with subs_dict['001'][1]"
   ]
  }
 ],
 "metadata": {
  "kernelspec": {
   "display_name": "Python 3 (ipykernel)",
   "language": "python",
   "name": "python3"
  },
  "language_info": {
   "codemirror_mode": {
    "name": "ipython",
    "version": 3
   },
   "file_extension": ".py",
   "mimetype": "text/x-python",
   "name": "python",
   "nbconvert_exporter": "python",
   "pygments_lexer": "ipython3",
   "version": "3.9.7"
  }
 },
 "nbformat": 4,
 "nbformat_minor": 5
}
