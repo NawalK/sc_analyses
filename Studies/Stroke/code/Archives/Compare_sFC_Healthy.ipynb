{
 "cells": [
  {
   "cell_type": "markdown",
   "id": "74ee29e4",
   "metadata": {},
   "source": [
    "# Compare normalization in spiCiCAP dataset\n",
    "\n",
    "Goal: compare sFC results using my normalization procedure and Caro's"
   ]
  },
  {
   "cell_type": "code",
   "execution_count": 48,
   "id": "868c757c",
   "metadata": {},
   "outputs": [],
   "source": [
    "import pandas as pd\n",
    "import numpy as np\n",
    "import seaborn as sns\n",
    "import matplotlib.pyplot as plt\n",
    "import nibabel as nib\n",
    "import os.path"
   ]
  },
  {
   "cell_type": "code",
   "execution_count": 49,
   "id": "9415715f",
   "metadata": {},
   "outputs": [],
   "source": [
    "# Set numpy to print only 2 decimal digits for neatness\n",
    "np.set_printoptions(precision=2, suppress=True)"
   ]
  },
  {
   "cell_type": "code",
   "execution_count": 50,
   "id": "f499e629",
   "metadata": {},
   "outputs": [],
   "source": [
    "%matplotlib inline"
   ]
  },
  {
   "cell_type": "markdown",
   "id": "6707dc98",
   "metadata": {},
   "source": [
    "## Import data"
   ]
  },
  {
   "cell_type": "markdown",
   "id": "250f0c0d",
   "metadata": {},
   "source": [
    "### Data structure"
   ]
  },
  {
   "cell_type": "markdown",
   "id": "fccf1e5e",
   "metadata": {},
   "source": [
    "_**Note:** Here, only subjects with FD < 0.3mm are kept._"
   ]
  },
  {
   "cell_type": "code",
   "execution_count": 51,
   "id": "bde67fa5",
   "metadata": {},
   "outputs": [],
   "source": [
    "Root='/media/miplab-nas2/Data/SpinalCord/3_RestingState/LongRecordings/Cervical/'\n",
    "Directories={'FuncDir':'/Functional/',\n",
    "             'TCDir':'TC/',\n",
    "             'maskNames':['C5toC7_VR','C5toC7_VL','C5toC7_DR','C5toC7_DL'],\n",
    "             'list_subjects':{'RS_AT':['RS_Moco_SCT'],'RS_EP':['RS_Moco_SCT'],'RS_FB':['RS_Moco_SCT'],'RS_GB':['RS_Moco_SCT'],'RS_GP':['RS_Moco_SCT'],'RS_LJ':['RS_Moco_SCT'],'RS_MD':['RS_Moco_SCT'],'RS_MP':['RS_Moco_SCT'],'RS_NG':['RS_Moco_SCT'],'RS_NK':['RS_Moco_SCT'],'RS_RL':['RS_Moco_SCT'],'RS_SA':['RS_Moco_SCT'],'RS_SL':['RS_Moco_SCT'],'RS_SW':['RS_Moco_SCT'],'RS_VG':['RS_Moco_SCT'],'RS_VS':['RS_Moco_SCT'],'RS_YF':['RS_Moco_SCT'],'RS_AO':['RS_Moco_SCT']},\n",
    "             'FuncDir':'/Functional_SCT/',\n",
    "             'TCDir':'/TC_atlas_masks/',\n",
    "} "
   ]
  },
  {
   "cell_type": "markdown",
   "id": "88812f25",
   "metadata": {},
   "source": [
    "### Read subject data"
   ]
  },
  {
   "cell_type": "markdown",
   "id": "6572820f",
   "metadata": {},
   "source": [
    "#### Timecourses"
   ]
  },
  {
   "cell_type": "code",
   "execution_count": 52,
   "id": "1a88e252",
   "metadata": {},
   "outputs": [
    {
     "name": "stdout",
     "output_type": "stream",
     "text": [
      "RS_AT\n",
      "RS_EP\n",
      "RS_FB\n",
      "RS_GB\n",
      "RS_GP\n",
      "RS_LJ\n",
      "RS_MD\n",
      "RS_MP\n",
      "RS_NG\n",
      "RS_NK\n",
      "RS_RL\n",
      "RS_SA\n",
      "RS_SL\n",
      "RS_SW\n",
      "RS_VG\n",
      "RS_VS\n",
      "RS_YF\n",
      "RS_AO\n"
     ]
    }
   ],
   "source": [
    "subs = []\n",
    "sessions = []\n",
    "masks = []\n",
    "tc_caro = np.empty((239,0))\n",
    "tc_mine = np.empty((239,0))\n",
    "tc_spline = np.empty((239,0))\n",
    "\n",
    "\n",
    "for sub in Directories['list_subjects']: # Loop through all subjects\n",
    "    for session in Directories['list_subjects'][sub]: # Loop through sessions for a particular subject        \n",
    "        print(sub)\n",
    "        SubDir = Root + sub + '/' + Directories['FuncDir'] + session \n",
    "        for mask in range(0,len(Directories['maskNames'])): # Loop through masks\n",
    "            subs.append(sub)\n",
    "            sessions.append(session)\n",
    "            masks.append(Directories['maskNames'][mask])\n",
    "            tc_caro = np.append(tc_caro,np.array(pd.read_csv(SubDir + Directories['TCDir'] + Directories['maskNames'][mask] + '_nn_caro.txt')),axis=1)       \n",
    "            tc_mine = np.append(tc_mine,np.array(pd.read_csv(SubDir + Directories['TCDir'] + Directories['maskNames'][mask]+ '_nn_mynorm.txt')),axis=1)    \n",
    "            tc_spline = np.append(tc_spline,np.array(pd.read_csv(SubDir + Directories['TCDir'] + Directories['maskNames'][mask]+ '_spline_mynorm.txt')),axis=1)    \n",
    "\n",
    "\n",
    "colnames = pd.MultiIndex.from_arrays([subs,sessions,masks], names=[\"subjects\",\"sessions\",\"masks\"])\n",
    "# Caro's \n",
    "tcs_caro_df = pd.DataFrame(tc_caro,columns=colnames)\n",
    "# Mine\n",
    "tcs_mine_df = pd.DataFrame(tc_mine,columns=colnames)\n",
    "# Mine (spline)\n",
    "tcs_spline_df = pd.DataFrame(tc_spline,columns=colnames)"
   ]
  },
  {
   "cell_type": "code",
   "execution_count": 77,
   "id": "3d420347",
   "metadata": {},
   "outputs": [],
   "source": [
    "# Note: to access a particular element in df: tcs_df.xs((\"T4\",\"C5_short_gm_LD\"),level=(\"sessions\",\"masks\"),axis=1)"
   ]
  },
  {
   "cell_type": "markdown",
   "id": "40752515",
   "metadata": {},
   "source": [
    "## Correlation analyses"
   ]
  },
  {
   "cell_type": "markdown",
   "id": "3d021564",
   "metadata": {},
   "source": [
    "### Compute correlations"
   ]
  },
  {
   "cell_type": "code",
   "execution_count": 53,
   "id": "3d5aa191",
   "metadata": {},
   "outputs": [],
   "source": [
    "corr_all_caro = np.empty((len(Directories['maskNames'])**2,0)) # One value for each correlation type (i.e., between two masks)\n",
    "corr_all_mine = np.empty((len(Directories['maskNames'])**2,0)) # One value for each correlation type (i.e., between two masks)\n",
    "corr_all_spline = np.empty((len(Directories['maskNames'])**2,0)) # One value for each correlation type (i.e., between two masks)\n",
    "\n",
    "subs = [] # For the column names\n",
    "sessions = []\n",
    "masks1 = []\n",
    "masks2 = []\n",
    "for sub in Directories['list_subjects']:\n",
    "    for session in Directories['list_subjects'][sub]: # Loop through sessions for a particular subject        \n",
    "            subs.append(sub)\n",
    "            sessions.append(session)\n",
    "            tmp_corr_caro = np.zeros((len(Directories['maskNames'])**2,1))\n",
    "            tmp_corr_mine = np.zeros((len(Directories['maskNames'])**2,1))\n",
    "            tmp_corr_spline = np.zeros((len(Directories['maskNames'])**2,1))\n",
    "            ix = 0\n",
    "            for mask1ix,mask1 in enumerate(Directories['maskNames']):\n",
    "                for mask2ix,mask2 in enumerate(Directories['maskNames']):\n",
    "                        tmp_corr_caro[ix]=np.corrcoef(tcs_caro_df.xs((sub,session,mask1),level=(\"subjects\",\"sessions\",\"masks\"),axis=1),tcs_caro_df.xs((sub,session,mask2),level=(\"subjects\",\"sessions\",\"masks\"),axis=1),rowvar=False)[1,0]\n",
    "                        tmp_corr_mine[ix]=np.corrcoef(tcs_mine_df.xs((sub,session,mask1),level=(\"subjects\",\"sessions\",\"masks\"),axis=1),tcs_mine_df.xs((sub,session,mask2),level=(\"subjects\",\"sessions\",\"masks\"),axis=1),rowvar=False)[1,0]\n",
    "                        tmp_corr_spline[ix]=np.corrcoef(tcs_spline_df.xs((sub,session,mask1),level=(\"subjects\",\"sessions\",\"masks\"),axis=1),tcs_spline_df.xs((sub,session,mask2),level=(\"subjects\",\"sessions\",\"masks\"),axis=1),rowvar=False)[1,0]\n",
    "                        masks1.append(mask1)\n",
    "                        masks2.append(mask2)\n",
    "                        ix+=1\n",
    "            corr_all_caro=np.append(corr_all_caro,tmp_corr_caro,axis=1)            \n",
    "            corr_all_mine=np.append(corr_all_mine,tmp_corr_mine,axis=1)\n",
    "            corr_all_spline=np.append(corr_all_spline,tmp_corr_spline,axis=1)\n",
    "\n",
    "colnames = pd.MultiIndex.from_arrays([subs,sessions], names=[\"subjects\",\"sessions\"])\n",
    "indnames = pd.MultiIndex.from_arrays([masks1[0:len(Directories['maskNames'])**2],masks2[0:len(Directories['maskNames'])**2]], names=[\"mask1\",\"mask2\"])\n",
    "corrs_df_caro = pd.DataFrame(corr_all_caro,index=indnames,columns=colnames)\n",
    "corrs_df_mine = pd.DataFrame(corr_all_mine,index=indnames,columns=colnames)\n",
    "corrs_df_spline = pd.DataFrame(corr_all_spline,index=indnames,columns=colnames)"
   ]
  },
  {
   "cell_type": "markdown",
   "id": "9e89546a",
   "metadata": {},
   "source": [
    "### Plot correlation matrix for each normalization"
   ]
  },
  {
   "cell_type": "code",
   "execution_count": 55,
   "id": "40228bd9",
   "metadata": {},
   "outputs": [
    {
     "data": {
      "image/png": "[encoded data removed]",
      "text/plain": [
       "<Figure size 1080x360 with 6 Axes>"
      ]
     },
     "metadata": {
      "needs_background": "light"
     },
     "output_type": "display_data"
    }
   ],
   "source": [
    "# Then, we compute the average confusion matrix for each normalization\n",
    "mean_corr_caro = np.zeros((len(Directories['maskNames']),len(Directories['maskNames'])))\n",
    "mean_corr_mine = np.zeros((len(Directories['maskNames']),len(Directories['maskNames'])))\n",
    "mean_corr_spline = np.zeros((len(Directories['maskNames']),len(Directories['maskNames'])))\n",
    "\n",
    "\n",
    "fig, axes = plt.subplots(1,3, figsize=(15,5), sharey=True)\n",
    "fig.suptitle('Mean correlations',y=0.94,fontsize='x-large',weight=\"bold\");\n",
    "mean_corr_caro = np.reshape(np.array(corrs_df_caro.xs('RS_Moco_SCT',level=\"sessions\",axis=1)).mean(axis=1), (len(Directories['maskNames']), len(Directories['maskNames'])))\n",
    "sns.heatmap(mean_corr_caro,ax=axes[0],xticklabels=Directories['maskNames'],yticklabels=Directories['maskNames'],vmin=0,vmax=0.3,square=True,cbar_kws={\"shrink\": 0.72})\n",
    "axes[0].set_title('Caro');\n",
    "mean_corr_mine = np.reshape(np.array(corrs_df_mine.xs('RS_Moco_SCT',level=\"sessions\",axis=1)).mean(axis=1), (len(Directories['maskNames']), len(Directories['maskNames'])))\n",
    "sns.heatmap(mean_corr_mine,ax=axes[1],xticklabels=Directories['maskNames'],yticklabels=Directories['maskNames'],vmin=0,vmax=0.3,square=True,cbar_kws={\"shrink\": 0.72})\n",
    "axes[1].set_title('Mynorm');\n",
    "mean_corr_spline = np.reshape(np.array(corrs_df_spline.xs('RS_Moco_SCT',level=\"sessions\",axis=1)).mean(axis=1), (len(Directories['maskNames']), len(Directories['maskNames'])))\n",
    "sns.heatmap(mean_corr_spline,ax=axes[2],xticklabels=Directories['maskNames'],yticklabels=Directories['maskNames'],vmin=0,vmax=0.3,square=True,cbar_kws={\"shrink\": 0.72})\n",
    "axes[2].set_title('Spline');"
   ]
  }
 ],
 "metadata": {
  "kernelspec": {
   "display_name": "Python 3 (ipykernel)",
   "language": "python",
   "name": "python3"
  },
  "language_info": {
   "codemirror_mode": {
    "name": "ipython",
    "version": 3
   },
   "file_extension": ".py",
   "mimetype": "text/x-python",
   "name": "python",
   "nbconvert_exporter": "python",
   "pygments_lexer": "ipython3",
   "version": "3.9.7"
  }
 },
 "nbformat": 4,
 "nbformat_minor": 5
}
