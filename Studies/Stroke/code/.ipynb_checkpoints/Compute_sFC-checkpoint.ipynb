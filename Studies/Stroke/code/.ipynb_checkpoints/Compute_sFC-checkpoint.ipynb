{
 "cells": [
  {
   "cell_type": "markdown",
   "id": "74ee29e4",
   "metadata": {},
   "source": [
    "# SFC analyses of SUVA dataset\n",
    "\n",
    "Here, the idea is mostly to explore the functional connectivity between the two hemicords"
   ]
  },
  {
   "cell_type": "code",
   "execution_count": 1,
   "id": "868c757c",
   "metadata": {},
   "outputs": [],
   "source": [
    "import pandas as pd\n",
    "import numpy as np\n",
    "import seaborn as sns\n",
    "import matplotlib.pyplot as plt\n",
    "import nibabel as nib\n",
    "import os.path"
   ]
  },
  {
   "cell_type": "code",
   "execution_count": 2,
   "id": "9415715f",
   "metadata": {},
   "outputs": [],
   "source": [
    "# Set numpy to print only 2 decimal digits for neatness\n",
    "np.set_printoptions(precision=2, suppress=True)"
   ]
  },
  {
   "cell_type": "code",
   "execution_count": 3,
   "id": "f499e629",
   "metadata": {},
   "outputs": [],
   "source": [
    "%matplotlib inline"
   ]
  },
  {
   "cell_type": "markdown",
   "id": "6707dc98",
   "metadata": {},
   "source": [
    "## Import data"
   ]
  },
  {
   "cell_type": "markdown",
   "id": "250f0c0d",
   "metadata": {},
   "source": [
    "### Data structure"
   ]
  },
  {
   "cell_type": "markdown",
   "id": "fccf1e5e",
   "metadata": {},
   "source": [
    "_**Note:** Here, only subjects with FD < 0.3mm are kept._"
   ]
  },
  {
   "cell_type": "code",
   "execution_count": 4,
   "id": "bde67fa5",
   "metadata": {},
   "outputs": [],
   "source": [
    "Root='/media/miplab-nas2/Data/SpinalCord/5_Stroke/SUVA/'\n",
    "Directories={'FuncDir':'/Functional/',\n",
    "             'SubRoot':'SUVA-TIMES-',\n",
    "             'TCDir':'TC/',\n",
    "             'OutputDir': Root + 'Analyses/sFC/',\n",
    "             'LesionDir': Root + 'LesionAnalysis/',\n",
    "             #'maskNames':['C5_short_gm_LD','C5_short_gm_LV','C5_short_gm_RD','C5_short_gm_RV','C6_short_gm_LD','C6_short_gm_LV','C6_short_gm_RD','C6_short_gm_RV','C7_short_gm_LD','C7_short_gm_LV','C7_short_gm_RD','C7_short_gm_RV','C5toC7_gm_L','C5toC7_gm_R','C5toC7_CST_L','C5toC7_CST_R','C5toC7_short_gm_RV','C5toC7_short_gm_LV','C5toC7_short_gm_RD','C5toC7_short_gm_LD','C5toC7_short_RV','C5toC7_short_LV','C5toC7_short_RD','C5toC7_short_LD'],\n",
    "             #'maskNames':['C5_short_gm_LV','C5_short_gm_RV','C6_short_gm_LV','C6_short_gm_RV','C7_short_gm_LV','C7_short_gm_RV'],\n",
    "             #'maskNames':['C5toC7_gm_L','C5toC7_gm_R'],\n",
    "             #'maskNames':['C5_short_gm_LD','C5_short_gm_LV','C5_short_gm_RD','C5_short_gm_RV','C6_short_gm_LD','C6_short_gm_LV','C6_short_gm_RD','C6_short_gm_RV','C7_short_gm_LD','C7_short_gm_LV','C7_short_gm_RD','C7_short_gm_RV'],\n",
    "             #'maskNames':['C5toC7_short_gm_RV','C5toC7_short_gm_LV','C5toC7_short_gm_RD','C5toC7_short_gm_LD','C5toC7_short_RV','C5toC7_short_LV','C5toC7_short_RD','C5toC7_short_LD'],\n",
    "             'maskNames':['C5toC7_short_gm_RV','C5toC7_short_gm_LV','C5toC7_short_gm_RD','C5toC7_short_gm_LD'],\n",
    "             #'maskNames':['GM_bin_LD_C5toC7','GM_bin_RD_C5toC7','GM_bin_LV_C5toC7','GM_bin_RV_C5toC7'],\n",
    "             'keep_only_T3':'True',\n",
    "             'list_patients':{\n",
    "                '001':{'sess':['T4'],'side':'R','keep_T3':'False'},\n",
    "                '002':{'sess':['T3','T4'],'side':'R','keep_T3':'True'},\n",
    "                '003':{'sess':['T3','T4'],'side':'L','keep_T3':'True'},\n",
    "                '004':{'sess':['T3'],'side':'L','keep_T3':'False'},\n",
    "                '005':{'sess':['T2','T3'],'side':'R','keep_T3':'True'},\n",
    "                '006':{'sess':['T3'],'side':'L','keep_T3':'True'},\n",
    "                '007':{'sess':['T3'],'side':'R','keep_T3':'True'},\n",
    "                '008':{'sess':['T2','T3'],'side':'L','keep_T3':'True'},\n",
    "                '009':{'sess':['T4'],'side':'L','keep_T3':'False'},\n",
    "                '010':{'sess':['T3','T4'],'side':'R','keep_T3':'True'},\n",
    "                '011':{'sess':['T2','T4'],'side':'R','keep_T3':'False'},\n",
    "                '014':{'sess':['T3','T4'],'side':'R','keep_T3':'True'},\n",
    "                '016':{'sess':['T2','T3'],'side':'R','keep_T3':'True'},\n",
    "                '017':{'sess':['T3'],'side':'L','keep_T3':'False'},\n",
    "                '018':{'sess':['T2','T3'],'side':'L','keep_T3':'False'},\n",
    "                '019':{'sess':['T2'],'side':'R','keep_T3':'False'},\n",
    "                '020':{'sess':['T4'],'side':'L','keep_T3':'False'},\n",
    "                '021':{'sess':['T3'],'side':'L','keep_T3':'True'},\n",
    "                '022':{'sess':['T2','T3'],'side':'R','keep_T3':'True'},\n",
    "                '023':{'sess':['T3'],'side':'R','keep_T3':'True'},\n",
    "                '024':{'sess':['T3'],'side':'R','keep_T3':'False'},\n",
    "                '025':{'sess':['T3'],'side':'R','keep_T3':'True'},\n",
    "                '026':{'sess':['T2','T3'],'side':'L','keep_T3':'True'},\n",
    "                '027':{'sess':['T3'],'side':'L','keep_T3':'False'},\n",
    "                '028':{'sess':['T3'],'side':'R','keep_T3':'True'},\n",
    "                '031':{'sess':['T3'],'side':'L','keep_T3':'True'}},\n",
    "             'acute_only': True # True if we take only acute part of the lesions (for the subjects with old lesions)\n",
    "} "
   ]
  },
  {
   "cell_type": "markdown",
   "id": "88812f25",
   "metadata": {},
   "source": [
    "### Read subject data"
   ]
  },
  {
   "cell_type": "markdown",
   "id": "6572820f",
   "metadata": {},
   "source": [
    "#### Timecourses"
   ]
  },
  {
   "cell_type": "code",
   "execution_count": 76,
   "id": "1a88e252",
   "metadata": {},
   "outputs": [],
   "source": [
    "subs = []\n",
    "sessions = []\n",
    "masks = []\n",
    "tc_mask = np.empty((239,0))\n",
    "for sub in Directories['list_patients']: # Loop through all subjects\n",
    "    for session in Directories['list_patients'][sub]['sess']: # Loop through sessions for a particular subject        \n",
    "        if (Directories['keep_only_T3'] == 'True' and Directories['list_patients'][sub]['keep_T3'] == 'True' and session == 'T3') or Directories['keep_only_T3'] == 'False':\n",
    "            SubDir = Root + Directories['SubRoot'] + sub + '/' + session + Directories['FuncDir']\n",
    "            for mask in Directories['maskNames']: # Loop through masks\n",
    "                subs.append(sub)\n",
    "                sessions.append(session)\n",
    "                masks.append(mask)\n",
    "                tc_mask = np.append(tc_mask,np.array(pd.read_csv(SubDir + Directories['TCDir'] + Directories['SubRoot'] + sub + '_' + session + '_' + mask + '_bp.txt')),axis=1)       \n",
    "\n",
    "colnames = pd.MultiIndex.from_arrays([subs,sessions,masks], names=[\"subjects\",\"sessions\",\"masks\"])\n",
    "tcs_df = pd.DataFrame(tc_mask,columns=colnames)"
   ]
  },
  {
   "cell_type": "code",
   "execution_count": 77,
   "id": "3d420347",
   "metadata": {},
   "outputs": [],
   "source": [
    "# Note: to access a particular element in df: tcs_df.xs((\"T4\",\"C5_short_gm_LD\"),level=(\"sessions\",\"masks\"),axis=1)"
   ]
  },
  {
   "cell_type": "markdown",
   "id": "f6df82f7",
   "metadata": {},
   "source": [
    "#### Lesions"
   ]
  },
  {
   "cell_type": "markdown",
   "id": "ad6bee13",
   "metadata": {},
   "source": [
    "**_Using FSL atlas (binarized at 70%)_**"
   ]
  },
  {
   "cell_type": "code",
   "execution_count": 62,
   "id": "91d4682a",
   "metadata": {},
   "outputs": [],
   "source": [
    "subs = []\n",
    "sessions = []\n",
    "weighted_load_L = []\n",
    "weighted_load_R = []\n",
    "lesion_vol = []\n",
    "\n",
    "# Function for CST load computation\n",
    "def compute_weighted_load(lesion,side):\n",
    "    ''' Computes CST load (weighted, using binarized atlas), see https://onlinelibrary.wiley.com/doi/10.1002/ana.24510\n",
    "    \n",
    "        Parameter\n",
    "        ----------\n",
    "        lesion : 3D array containing the mask of the overlap\n",
    "        side: left (0) or right (1) hemicord\n",
    "\n",
    "        Return\n",
    "        -------\n",
    "        load : weighted load\n",
    "    '''\n",
    "    # ATLAS\n",
    "    if side == 0:\n",
    "        template = nib.load(Directories['LesionDir'] + 'Atlas/FSL_CST_L_resized_bin_thr70.nii.gz')\n",
    "    elif side == 1:\n",
    "        template = nib.load(Directories['LesionDir'] + 'Atlas/FSL_CST_R_resized_bin_thr70.nii.gz')\n",
    "    template_np = template.get_fdata()   \n",
    "    sum_slice = template_np.sum(axis=(0,1)) # Sum of voxels per slice (atlas)\n",
    "    with np.errstate(all='ignore'):\n",
    "        ratio_slice = sum_slice.max() / sum_slice # Maximum number of voxels\n",
    "        \n",
    "    # LESION\n",
    "    sum_slice_lesion = lesion.sum(axis=(0,1)) # Sum of voxel per slice (lesion)\n",
    "    with np.errstate(all='ignore'):\n",
    "        weighted_overlap = np.nansum(sum_slice_lesion * ratio_slice)\n",
    "    return weighted_overlap\n",
    "\n",
    "# Compute load for each subject / session\n",
    "for sub in Directories['list_patients']: # Loop through all subjects\n",
    "    for session in Directories['list_patients'][sub]['sess']: # Loop through sessions for a particular subject\n",
    "        if (Directories['keep_only_T3'] == 'True' and Directories['list_patients'][sub]['keep_T3'] == 'True' and session == 'T3') or Directories['keep_only_T3'] == 'False':\n",
    "            subs.append(sub)\n",
    "            sessions.append(session)\n",
    "            tmp_load = np.zeros((2,1))\n",
    "            for sideix,side in enumerate(['L','R']):\n",
    "                if Directories['acute_only']==True and os.path.isfile(Directories['LesionDir'] + 'Lesions/' + Directories['SubRoot'] + sub + '-' + session + '-acute_only-overlap_FSL_CST_' + side + '.nii.gz'):\n",
    "                    lesion_overlap = nib.load(Directories['LesionDir'] + 'Lesions/' + Directories['SubRoot'] + sub + '-' + session + '-acute_only-overlap_FSL_CST_' + side + '.nii.gz')\n",
    "                else:\n",
    "                    lesion_overlap = nib.load(Directories['LesionDir'] + 'Lesions/' + Directories['SubRoot'] + sub + '-' + session + '-overlap_FSL_CST_' + side + '.nii.gz')\n",
    "                lesion_overlap_np = lesion_overlap.get_fdata()\n",
    "                if side == 'L':\n",
    "                    weighted_load_L.append(compute_weighted_load(lesion_overlap_np,sideix))\n",
    "                elif side =='R':\n",
    "                    weighted_load_R.append(compute_weighted_load(lesion_overlap_np,sideix))\n",
    "\n",
    "            # Add also total volume of lesion\n",
    "            if Directories['acute_only']==True and os.path.isfile(Directories['LesionDir'] + 'Lesions/' + Directories['SubRoot'] + sub + '-' + session + '-acute_only-overlap_FSL_CST_' + side + '.nii.gz'):\n",
    "                lesion = nib.load(Directories['LesionDir'] + 'Lesions/' + Directories['SubRoot'] + sub + '-' + session + '-lesion_acute_only.nii')\n",
    "            else:\n",
    "                lesion = nib.load(Directories['LesionDir'] + 'Lesions/' + Directories['SubRoot'] + sub + '-' + session + '-lesion.nii')\n",
    "            lesion_np = lesion.get_fdata()\n",
    "            lesion_vol.append(np.sum(lesion_np))   \n",
    "            del tmp_load\n",
    "                \n",
    "colnames = [\"sub\",\"sess\",\"CST_L\", \"CST_R\", \"vol\"]\n",
    "lesions_df = pd.DataFrame(list(zip(subs,sessions,weighted_load_L,weighted_load_R,lesion_vol)),columns=colnames)"
   ]
  },
  {
   "cell_type": "code",
   "execution_count": 44,
   "id": "80feefa5",
   "metadata": {},
   "outputs": [
    {
     "data": {
      "text/plain": [
       "array([ 37.49,   0.  ,   0.  ,   0.  ,   0.  ,   0.  ,   0.  ,   0.  ,\n",
       "         8.97,   0.  ,   0.  , 270.  , 124.32,   0.  , 948.93,   0.  ])"
      ]
     },
     "execution_count": 44,
     "metadata": {},
     "output_type": "execute_result"
    }
   ],
   "source": [
    "lesions_df['CST_R'].values"
   ]
  },
  {
   "cell_type": "markdown",
   "id": "40752515",
   "metadata": {},
   "source": [
    "## Correlation analyses"
   ]
  },
  {
   "cell_type": "markdown",
   "id": "3d021564",
   "metadata": {},
   "source": [
    "### Compute correlations"
   ]
  },
  {
   "cell_type": "code",
   "execution_count": 78,
   "id": "3d5aa191",
   "metadata": {},
   "outputs": [],
   "source": [
    "corr_all = np.empty((len(Directories['maskNames'])**2,0)) # One value for each correlation type (i.e., between two masks)\n",
    "subs = [] # For the column names\n",
    "sessions = []\n",
    "masks1 = []\n",
    "masks2 = []\n",
    "for sub in Directories['list_patients']:\n",
    "    for session in Directories['list_patients'][sub]['sess']: # Loop through sessions for a particular subject\n",
    "        if (Directories['keep_only_T3'] == 'True' and Directories['list_patients'][sub]['keep_T3'] == 'True' and session == 'T3') or Directories['keep_only_T3'] == 'False':\n",
    "            subs.append(sub)\n",
    "            sessions.append(session)\n",
    "            tmp_corr = np.zeros((len(Directories['maskNames'])**2,1))\n",
    "            ix = 0\n",
    "            for mask1ix,mask1 in enumerate(Directories['maskNames']):\n",
    "                for mask2ix,mask2 in enumerate(Directories['maskNames']):\n",
    "                        tmp_corr[ix]=np.corrcoef(tcs_df.xs((sub,session,mask1),level=(\"subjects\",\"sessions\",\"masks\"),axis=1),tcs_df.xs((sub,session,mask2),level=(\"subjects\",\"sessions\",\"masks\"),axis=1),rowvar=False)[1,0]\n",
    "                        masks1.append(mask1)\n",
    "                        masks2.append(mask2)\n",
    "                        ix+=1\n",
    "            corr_all=np.append(corr_all,tmp_corr,axis=1)            \n",
    "colnames = pd.MultiIndex.from_arrays([subs,sessions], names=[\"subjects\",\"sessions\"])\n",
    "indnames = pd.MultiIndex.from_arrays([masks1[0:len(Directories['maskNames'])**2],masks2[0:len(Directories['maskNames'])**2]], names=[\"mask1\",\"mask2\"])\n",
    "corrs_df = pd.DataFrame(corr_all,index=indnames,columns=colnames)"
   ]
  },
  {
   "cell_type": "markdown",
   "id": "1e7bb579",
   "metadata": {},
   "source": [
    "### Plot correlation matrix for each time point"
   ]
  },
  {
   "cell_type": "code",
   "execution_count": 79,
   "id": "40228bd9",
   "metadata": {},
   "outputs": [
    {
     "data": {
      "image/png": "[encoded data removed]",
      "text/plain": [
       "<Figure size 1080x360 with 4 Axes>"
      ]
     },
     "metadata": {
      "needs_background": "light"
     },
     "output_type": "display_data"
    }
   ],
   "source": [
    "# First, we identify the unique time points present in the data and sort them\n",
    "sessnames = sorted(corrs_df.columns.get_level_values(level=\"sessions\").unique(), key=lambda x: int(x[-1]))\n",
    "# Then, we compute the average confusion matrix for each timepoint\n",
    "mean_corr = np.zeros((len(sessnames),len(Directories['maskNames']),len(Directories['maskNames'])))\n",
    "fig, axes = plt.subplots(1,3, figsize=(15,5), sharey=True)\n",
    "fig.suptitle('Mean correlations',y=0.94,fontsize='x-large',weight=\"bold\");\n",
    "for sessix,sess in enumerate(sessnames):\n",
    "    mean_corr[sessix,:,:] = np.reshape(np.array(corrs_df.xs(sess,level=\"sessions\",axis=1)).mean(axis=1), (len(Directories['maskNames']), len(Directories['maskNames'])))\n",
    "    sns.heatmap(mean_corr[sessix,:,:],ax=axes[sessix],xticklabels=Directories['maskNames'],yticklabels=Directories['maskNames'],vmin=0,vmax=0.4,square=True,cbar_kws={\"shrink\": 0.72})\n",
    "    axes[sessix].set_title(sess)"
   ]
  },
  {
   "cell_type": "markdown",
   "id": "012cd381",
   "metadata": {},
   "source": [
    "### Evaluate link between CST load and interhemicord FC"
   ]
  },
  {
   "cell_type": "code",
   "execution_count": 54,
   "id": "c6d872ac",
   "metadata": {},
   "outputs": [
    {
     "data": {
      "image/png": "[encoded data removed]",
      "text/plain": [
       "<Figure size 1080x360 with 3 Axes>"
      ]
     },
     "metadata": {
      "needs_background": "light"
     },
     "output_type": "display_data"
    }
   ],
   "source": [
    "fig, axes = plt.subplots(1,3, figsize=(15,5), sharey=True)\n",
    "fig.suptitle('FC vs CST load',fontsize='x-large',weight=\"bold\");\n",
    "for sessix,sess in enumerate(sessnames):\n",
    "    sns.scatterplot(x=np.squeeze(corrs_df.xs(sess,level=\"sessions\",axis=1).xs(('C5toC7_short_gm_LV','C5toC7_short_gm_RV'),level=(\"mask1\",\"mask2\"),axis=0).values),y=lesions_df['CST_L'].values + lesions_df['CST_R'].values,ax=axes[sessix])\n",
    "    axes[sessix].set_title(sess)\n",
    "plt.setp(axes[0], xlabel='correlation');\n",
    "plt.setp(axes[0], ylabel='CST load');"
   ]
  },
  {
   "cell_type": "code",
   "execution_count": 40,
   "id": "ed4e33fd",
   "metadata": {},
   "outputs": [
    {
     "data": {
      "image/png": "[encoded data removed]",
      "text/plain": [
       "<Figure size 1080x360 with 3 Axes>"
      ]
     },
     "metadata": {
      "needs_background": "light"
     },
     "output_type": "display_data"
    }
   ],
   "source": [
    "fig, axes = plt.subplots(1,3, figsize=(15,5), sharey=True)\n",
    "fig.suptitle('FC vs CST load',fontsize='x-large',weight=\"bold\");\n",
    "sns.scatterplot(x=np.absolute(np.squeeze(corrs_df.xs(('C5_short_gm_LD','C5_short_gm_RD'),level=(\"mask1\",\"mask2\"),axis=0).values)),y=(lesions_df.loc[lesions_df['sess']=='T3','CST_L'].values)+(lesions_df.loc[lesions_df['sess']=='T3','CST_R'].values),ax=axes[0])\n",
    "sns.scatterplot(x=np.absolute(np.squeeze(corrs_df.xs(('C6_short_gm_LD','C6_short_gm_RD'),level=(\"mask1\",\"mask2\"),axis=0).values)),y=(lesions_df.loc[lesions_df['sess']=='T3','CST_L'].values)+(lesions_df.loc[lesions_df['sess']=='T3','CST_R'].values),ax=axes[1])\n",
    "sns.scatterplot(x=np.absolute(np.squeeze(corrs_df.xs(('C7_short_gm_LD','C7_short_gm_RD'),level=(\"mask1\",\"mask2\"),axis=0).values)),y=(lesions_df.loc[lesions_df['sess']=='T3','CST_L'].values)+(lesions_df.loc[lesions_df['sess']=='T3','CST_R'].values),ax=axes[2])\n",
    "plt.setp(axes[0], xlabel='correlation');\n",
    "plt.setp(axes[0], ylabel='CST load');"
   ]
  },
  {
   "cell_type": "markdown",
   "id": "41f10977",
   "metadata": {},
   "source": [
    "## Archives"
   ]
  },
  {
   "cell_type": "markdown",
   "id": "9445eeb2",
   "metadata": {},
   "source": [
    "## **_Method 2: Using atlas provided by Elvira (binarized)_**"
   ]
  },
  {
   "cell_type": "code",
   "execution_count": 14,
   "id": "a78902b3",
   "metadata": {},
   "outputs": [
    {
     "ename": "KeyError",
     "evalue": "'list_subjects'",
     "output_type": "error",
     "traceback": [
      "\u001b[0;31m---------------------------------------------------------------------------\u001b[0m",
      "\u001b[0;31mKeyError\u001b[0m                                  Traceback (most recent call last)",
      "\u001b[0;32m/tmp/ipykernel_172303/1074875334.py\u001b[0m in \u001b[0;36m<module>\u001b[0;34m\u001b[0m\n\u001b[1;32m     29\u001b[0m \u001b[0;34m\u001b[0m\u001b[0m\n\u001b[1;32m     30\u001b[0m \u001b[0;31m# Compute load for each subject / session\u001b[0m\u001b[0;34m\u001b[0m\u001b[0;34m\u001b[0m\u001b[0m\n\u001b[0;32m---> 31\u001b[0;31m \u001b[0;32mfor\u001b[0m \u001b[0msub\u001b[0m \u001b[0;32min\u001b[0m \u001b[0mDirectories\u001b[0m\u001b[0;34m[\u001b[0m\u001b[0;34m'list_subjects'\u001b[0m\u001b[0;34m]\u001b[0m\u001b[0;34m:\u001b[0m \u001b[0;31m# Loop through all subjects\u001b[0m\u001b[0;34m\u001b[0m\u001b[0;34m\u001b[0m\u001b[0m\n\u001b[0m\u001b[1;32m     32\u001b[0m     \u001b[0;32mfor\u001b[0m \u001b[0msession\u001b[0m \u001b[0;32min\u001b[0m \u001b[0mDirectories\u001b[0m\u001b[0;34m[\u001b[0m\u001b[0;34m'list_subjects'\u001b[0m\u001b[0;34m]\u001b[0m\u001b[0;34m[\u001b[0m\u001b[0msub\u001b[0m\u001b[0;34m]\u001b[0m\u001b[0;34m:\u001b[0m \u001b[0;31m# Loop through sessions for a particular subject\u001b[0m\u001b[0;34m\u001b[0m\u001b[0;34m\u001b[0m\u001b[0m\n\u001b[1;32m     33\u001b[0m         \u001b[0msubs\u001b[0m\u001b[0;34m.\u001b[0m\u001b[0mappend\u001b[0m\u001b[0;34m(\u001b[0m\u001b[0msub\u001b[0m\u001b[0;34m)\u001b[0m\u001b[0;34m\u001b[0m\u001b[0;34m\u001b[0m\u001b[0m\n",
      "\u001b[0;31mKeyError\u001b[0m: 'list_subjects'"
     ]
    }
   ],
   "source": [
    "subs = []\n",
    "sessions = []\n",
    "weighted_load = np.empty((2,0))\n",
    "\n",
    "# Function for CST load computation\n",
    "def compute_weighted_load(lesion):\n",
    "    ''' Computes CST load (weighted, using binarized atlas), see https://onlinelibrary.wiley.com/doi/10.1002/ana.24510\n",
    "    \n",
    "        Parameter\n",
    "        ----------\n",
    "        lesion : 3D array containing the mask of the overlap\n",
    "\n",
    "        Return\n",
    "        -------\n",
    "        load : weighted load\n",
    "    '''\n",
    "    # ATLAS\n",
    "    template = nib.load(Directories['LesionDir'] + 'Atlas/Cortico_Spinal_Tract_L.nii')\n",
    "    template_np = template.get_fdata()    \n",
    "    sum_slice = template_np.sum(axis=(0,1)) # Sum of voxels per slice (atlas)\n",
    "    with np.errstate(all='ignore'):\n",
    "        ratio_slice = sum_slice.max() / sum_slice # Maximum number of voxels\n",
    "        \n",
    "    # LESION\n",
    "    sum_slice_lesion = lesion.sum(axis=(0,1)) # Sum of voxel per slice (lesion)\n",
    "    with np.errstate(all='ignore'):\n",
    "        weighted_overlap = np.nansum(sum_slice_lesion * ratio_slice)\n",
    "    return weighted_overlap\n",
    "\n",
    "# Compute load for each subject / session\n",
    "for sub in Directories['list_subjects']: # Loop through all subjects\n",
    "    for session in Directories['list_subjects'][sub]: # Loop through sessions for a particular subject\n",
    "        subs.append(sub)\n",
    "        sessions.append(session)\n",
    "        tmp_load = np.zeros((2,1))\n",
    "        for sideix,side in enumerate(['L','R']):\n",
    "            if Directories['acute_only']==True and os.path.isfile(Directories['LesionDir'] + 'Lesions/' + Directories['SubRoot'] + sub + '-' + session + '-acute_only-overlap_CST_' + side + '.nii.gz'):\n",
    "                lesion = nib.load(Directories['LesionDir'] + 'Lesions/' + Directories['SubRoot'] + sub + '-' + session + '-acute_only-overlap_CST_' + side + '.nii.gz')\n",
    "            else:\n",
    "                lesion = nib.load(Directories['LesionDir'] + 'Lesions/' + Directories['SubRoot'] + sub + '-' + session + '-overlap_CST_' + side + '.nii.gz')\n",
    "            lesion_np = lesion.get_fdata()\n",
    "            tmp_load[sideix,-1] = compute_weighted_load(lesion_np)\n",
    "        weighted_load = np.append(weighted_load,tmp_load,axis=1)\n",
    "        del tmp_load\n",
    "colnames = pd.MultiIndex.from_arrays([subs,sessions], names=[\"subjects\",\"sessions\"])\n",
    "lesions_df = pd.DataFrame(weighted_load,index=['Lesion CST L','Lesion CST R'],columns=colnames)"
   ]
  },
  {
   "cell_type": "markdown",
   "id": "2a71cfbe",
   "metadata": {},
   "source": [
    "**_Method 3: Using FSL atlas (probabilistic)_**\n",
    "To finish!"
   ]
  },
  {
   "cell_type": "code",
   "execution_count": null,
   "id": "625c1411",
   "metadata": {},
   "outputs": [],
   "source": [
    "subs = []\n",
    "sessions = []\n",
    "weighted_load = np.empty((2,0))\n",
    "\n",
    "def compute_ratio(atlas,sliceix,intensity)\n",
    "    ''' Computes the weighting ratio for a given slice and a given voxel intensity.\n",
    "    \n",
    "        Parameter\n",
    "        ----------\n",
    "        atlas : 3D array containing the atlas region\n",
    "        sliceix : indices of the slice of interest\n",
    "        intensity : intensity of the voxel of interest\n",
    "\n",
    "        Return\n",
    "        -------\n",
    "        ratio : weighting ratio\n",
    "    '''\n",
    "    # First, binarize atlas at desired intensity\n",
    "    atlas_bin = (atlas >= intensity).astype(np.float_)\n",
    "    atlas_sum = atlas_bin.sum(axis=(0,1)) # Sum of voxels per slice (atlas) \n",
    "\n",
    "    ratio = atlas_sum.max()/atlas_sum[sliceix] # Max nb / nb in slice\n",
    "    \n",
    "    return ratio\n",
    "\n",
    "# Function for CST load computation\n",
    "def compute_weighted_load(lesion):\n",
    "    ''' Computes CST load (weighted, using probabilistic atlas), see https://doi.org/10.1161/STROKEAHA.109.577023\n",
    "    \n",
    "        Parameter\n",
    "        ----------\n",
    "        lesion : 3D array containing the mask of the overlap\n",
    "\n",
    "        Return\n",
    "        -------\n",
    "        load : weighted load\n",
    "    '''\n",
    "    # ATLAS\n",
    "    template_L = nib.load(Directories['LesionDir'] + 'Atlas/FSL_CST_L_resized.nii')\n",
    "    template_L_np = template_L.get_fdata()\n",
    "    template_R = nib.load(Directories['LesionDir'] + 'Atlas/FSL_CST_R_resized.nii')\n",
    "    template_R_np = template_R.get_fdata()\n",
    "    \n",
    "    sum_slice = template_np.sum(axis=(0,1)) # Sum of voxels per slice (atlas)\n",
    "    with np.errstate(all='ignore'):\n",
    "        ratio_slice = sum_slice.max() / sum_slice # Maximum number of voxels\n",
    "        \n",
    "    # LESION\n",
    "    sum_slice_lesion = lesion.sum(axis=(0,1)) # Sum of voxel per slice (lesion)\n",
    "    with np.errstate(all='ignore'):\n",
    "        weighted_overlap = np.nansum(sum_slice_lesion * ratio_slice)\n",
    "    return weighted_overlap\n",
    "\n",
    "# Compute load for each subject / session\n",
    "for sub in Directories['list_subjects']: # Loop through all subjects\n",
    "    for session in Directories['list_subjects'][sub]: # Loop through sessions for a particular subject\n",
    "        subs.append(sub)\n",
    "        sessions.append(session)\n",
    "        tmp_load = np.zeros((2,1))\n",
    "        for sideix,side in enumerate(['L','R']):\n",
    "            if Directories['acute_only']==True and os.path.isfile(Directories['LesionDir'] + 'Lesions/' + Directories['SubRoot'] + sub + '-' + session + '-acute_only-overlap_CST_' + side + '.nii.gz'):\n",
    "                lesion = nib.load(Directories['LesionDir'] + 'Lesions/' + Directories['SubRoot'] + sub + '-' + session + '-acute_only-overlap_CST_' + side + '.nii.gz')\n",
    "            else:\n",
    "                lesion = nib.load(Directories['LesionDir'] + 'Lesions/' + Directories['SubRoot'] + sub + '-' + session + '-overlap_CST_' + side + '.nii.gz')\n",
    "            lesion_np = lesion.get_fdata()\n",
    "            tmp_load[sideix,-1] = compute_weighted_load(lesion_np)\n",
    "        weighted_load = np.append(weighted_load,tmp_load,axis=1)\n",
    "        del tmp_load\n",
    "colnames = pd.MultiIndex.from_arrays([subs,sessions], names=[\"subjects\",\"sessions\"])\n",
    "lesions_df = pd.DataFrame(weighted_load,index=['Lesion CST L','Lesion CST R'],columns=colnames)"
   ]
  }
 ],
 "metadata": {
  "kernelspec": {
   "display_name": "Python 3 (ipykernel)",
   "language": "python",
   "name": "python3"
  },
  "language_info": {
   "codemirror_mode": {
    "name": "ipython",
    "version": 3
   },
   "file_extension": ".py",
   "mimetype": "text/x-python",
   "name": "python",
   "nbconvert_exporter": "python",
   "pygments_lexer": "ipython3",
   "version": "3.9.7"
  }
 },
 "nbformat": 4,
 "nbformat_minor": 5
}
