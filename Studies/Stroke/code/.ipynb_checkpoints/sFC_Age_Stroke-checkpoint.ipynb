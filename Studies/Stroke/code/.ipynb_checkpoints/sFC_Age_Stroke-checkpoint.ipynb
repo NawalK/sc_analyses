{
 "cells": [
  {
   "cell_type": "markdown",
   "id": "b796e7d6",
   "metadata": {},
   "source": [
    "# Static FC analyses Stroke & Elderly"
   ]
  },
  {
   "cell_type": "code",
   "execution_count": 1,
   "id": "868c757c",
   "metadata": {},
   "outputs": [
    {
     "name": "stderr",
     "output_type": "stream",
     "text": [
      "/home/kinany/anaconda3/lib/python3.9/site-packages/outdated/utils.py:14: OutdatedPackageWarning: The package outdated is out of date. Your version is 0.2.1, the latest is 0.2.2.\n",
      "Set the environment variable OUTDATED_IGNORE=1 to disable these warnings.\n",
      "  return warn(\n",
      "/home/kinany/anaconda3/lib/python3.9/site-packages/outdated/utils.py:14: OutdatedPackageWarning: The package pingouin is out of date. Your version is 0.5.1, the latest is 0.5.3.\n",
      "Set the environment variable OUTDATED_IGNORE=1 to disable these warnings.\n",
      "  return warn(\n"
     ]
    }
   ],
   "source": [
    "import sys\n",
    "\n",
    "sys.path.append('/media/miplab-nas2/Data3/Nawal/Tools/StaticFC/')\n",
    "sys.path.append('/media/miplab-nas2/Data3/Nawal/Tools/Clinical/')\n",
    "from static_fc import StaticFC\n",
    "from clinical_analyses import ClinicalAnalyses\n",
    "\n",
    "import pandas as pd\n",
    "import numpy as np\n",
    "import seaborn as sns\n",
    "import matplotlib.pyplot as plt\n",
    "import nibabel as nib\n",
    "import os.path\n",
    "import json\n",
    "\n",
    "# Set numpy to print only 2 decimal digits for neatness\n",
    "np.set_printoptions(precision=2, suppress=True)\n",
    "\n",
    "%matplotlib inline\n",
    "%load_ext autoreload\n",
    "%autoreload 2"
   ]
  },
  {
   "cell_type": "markdown",
   "id": "6707dc98",
   "metadata": {},
   "source": [
    "## 0. Load configuration & patient data"
   ]
  },
  {
   "cell_type": "code",
   "execution_count": 60,
   "id": "38cc1bed",
   "metadata": {},
   "outputs": [],
   "source": [
    "with open('../config/sFC_config_age_stroke_icap_parcellation.json') as config_file:\n",
    "    config = json.load(config_file)"
   ]
  },
  {
   "cell_type": "code",
   "execution_count": 71,
   "id": "e04f8a5a",
   "metadata": {},
   "outputs": [
    {
     "name": "stdout",
     "output_type": "stream",
     "text": [
      "Creating instance for config age_stroke_C5toC7_icap_parcellation\n",
      "overwrite_clinical: True\n"
     ]
    }
   ],
   "source": [
    "patients = ClinicalAnalyses(config)"
   ]
  },
  {
   "cell_type": "code",
   "execution_count": 72,
   "id": "316b2b9d",
   "metadata": {},
   "outputs": [
    {
     "name": "stdout",
     "output_type": "stream",
     "text": [
      "Extracting clinical data...\n",
      "Done!\n"
     ]
    }
   ],
   "source": [
    "clinical_info = patients.get_patient_info()"
   ]
  },
  {
   "cell_type": "code",
   "execution_count": 73,
   "id": "ba876dac",
   "metadata": {},
   "outputs": [
    {
     "data": {
      "image/png": "[encoded data removed]",
      "text/plain": [
       "<Figure size 720x288 with 5 Axes>"
      ]
     },
     "metadata": {
      "needs_background": "light"
     },
     "output_type": "display_data"
    }
   ],
   "source": [
    "patients.plot_info(clinical_info,['fm','mas','pinch','CST','vol'])"
   ]
  },
  {
   "cell_type": "markdown",
   "id": "1b7caeea",
   "metadata": {},
   "source": [
    "## 1. Prepare FC data"
   ]
  },
  {
   "cell_type": "markdown",
   "id": "a480fa5f",
   "metadata": {},
   "source": [
    "#### 1a. Create instance of StaticFC class for further analyses"
   ]
  },
  {
   "cell_type": "code",
   "execution_count": 61,
   "id": "637e27a7",
   "metadata": {},
   "outputs": [
    {
     "name": "stdout",
     "output_type": "stream",
     "text": [
      "Creating instance for config age_stroke_C5toC7_icap_parcellation\n",
      "overwrite_bp: False\n",
      "overwrite_tc: True\n",
      "overwrite_corr: True\n",
      "overwrite_smooth: False\n",
      "overwrite_alff_maps: False\n",
      "overwrite_alff_rois: True\n"
     ]
    }
   ],
   "source": [
    "sFC = StaticFC(config) "
   ]
  },
  {
   "cell_type": "markdown",
   "id": "acd46d74",
   "metadata": {},
   "source": [
    "#### 1b. Filter data (bandpass in range defined in config file)"
   ]
  },
  {
   "cell_type": "code",
   "execution_count": 62,
   "id": "c65f73fe",
   "metadata": {},
   "outputs": [
    {
     "name": "stdout",
     "output_type": "stream",
     "text": [
      "PREPARE DATA\n",
      "Filtering data in the range [0.01-0.13] Hz\n",
      "... Apply filter\n",
      "Overwrite old files: False\n",
      "[Parallel(n_jobs=15)]: Using backend LokyBackend with 15 concurrent workers.\n",
      "[Parallel(n_jobs=15)]: Done   1 tasks      | elapsed:    4.6s\n",
      "[Parallel(n_jobs=15)]: Done   2 out of  22 | elapsed:    4.6s remaining:   45.9s\n",
      "[Parallel(n_jobs=15)]: Done   3 out of  22 | elapsed:    4.6s remaining:   29.0s\n",
      "[Parallel(n_jobs=15)]: Done   4 out of  22 | elapsed:    4.6s remaining:   20.6s\n",
      "[Parallel(n_jobs=15)]: Done   5 out of  22 | elapsed:    4.6s remaining:   15.6s\n",
      "[Parallel(n_jobs=15)]: Done   6 out of  22 | elapsed:    4.6s remaining:   12.2s\n",
      "[Parallel(n_jobs=15)]: Done   7 out of  22 | elapsed:    4.6s remaining:    9.8s\n",
      "[Parallel(n_jobs=15)]: Done   8 out of  22 | elapsed:    4.6s remaining:    8.0s\n",
      "[Parallel(n_jobs=15)]: Done   9 out of  22 | elapsed:    4.6s remaining:    6.6s\n",
      "[Parallel(n_jobs=15)]: Done  10 out of  22 | elapsed:    4.6s remaining:    5.5s\n",
      "[Parallel(n_jobs=15)]: Done  11 out of  22 | elapsed:    4.6s remaining:    4.6s\n",
      "[Parallel(n_jobs=15)]: Done  12 out of  22 | elapsed:    4.6s remaining:    3.8s\n",
      "[Parallel(n_jobs=15)]: Done  13 out of  22 | elapsed:    4.6s remaining:    3.2s\n",
      "[Parallel(n_jobs=15)]: Done  14 out of  22 | elapsed:    4.6s remaining:    2.6s\n",
      "[Parallel(n_jobs=15)]: Done  15 out of  22 | elapsed:    4.6s remaining:    2.2s\n",
      "[Parallel(n_jobs=15)]: Done  16 out of  22 | elapsed:    4.7s remaining:    1.8s\n",
      "[Parallel(n_jobs=15)]: Done  17 out of  22 | elapsed:    4.7s remaining:    1.4s\n",
      "[Parallel(n_jobs=15)]: Done  18 out of  22 | elapsed:    4.7s remaining:    1.0s\n",
      "[Parallel(n_jobs=15)]: Done  19 out of  22 | elapsed:    4.7s remaining:    0.7s\n",
      "[Parallel(n_jobs=15)]: Done  20 out of  22 | elapsed:    4.7s remaining:    0.5s\n",
      "[Parallel(n_jobs=15)]: Done  22 out of  22 | elapsed:    4.7s remaining:    0.0s\n",
      "[Parallel(n_jobs=15)]: Done  22 out of  22 | elapsed:    4.7s finished\n",
      "... Operation performed in 4.721 s\n",
      "... Normalize filtered image\n",
      "Overwrite old files: False\n",
      "[Parallel(n_jobs=15)]: Using backend LokyBackend with 15 concurrent workers.\n",
      "[Parallel(n_jobs=15)]: Done   1 tasks      | elapsed:    0.0s\n",
      "[Parallel(n_jobs=15)]: Batch computation too fast (0.0354s.) Setting batch_size=2.\n",
      "[Parallel(n_jobs=15)]: Done   2 out of  22 | elapsed:    0.0s remaining:    0.4s\n",
      "[Parallel(n_jobs=15)]: Done   3 out of  22 | elapsed:    0.0s remaining:    0.3s\n",
      "[Parallel(n_jobs=15)]: Done   4 out of  22 | elapsed:    0.0s remaining:    0.2s\n",
      "[Parallel(n_jobs=15)]: Done   5 out of  22 | elapsed:    0.1s remaining:    0.2s\n",
      "[Parallel(n_jobs=15)]: Done   6 out of  22 | elapsed:    0.1s remaining:    0.2s\n",
      "[Parallel(n_jobs=15)]: Done   7 out of  22 | elapsed:    0.1s remaining:    0.2s\n",
      "[Parallel(n_jobs=15)]: Done   8 out of  22 | elapsed:    0.1s remaining:    0.1s\n",
      "[Parallel(n_jobs=15)]: Done   9 out of  22 | elapsed:    0.1s remaining:    0.1s\n",
      "[Parallel(n_jobs=15)]: Done  10 out of  22 | elapsed:    0.1s remaining:    0.1s\n",
      "[Parallel(n_jobs=15)]: Done  11 out of  22 | elapsed:    0.1s remaining:    0.1s\n",
      "[Parallel(n_jobs=15)]: Done  12 out of  22 | elapsed:    0.1s remaining:    0.1s\n",
      "[Parallel(n_jobs=15)]: Done  13 out of  22 | elapsed:    0.1s remaining:    0.1s\n",
      "[Parallel(n_jobs=15)]: Done  14 out of  22 | elapsed:    0.1s remaining:    0.1s\n",
      "[Parallel(n_jobs=15)]: Done  15 out of  22 | elapsed:    0.1s remaining:    0.1s\n",
      "[Parallel(n_jobs=15)]: Done  16 out of  22 | elapsed:    0.2s remaining:    0.1s\n",
      "[Parallel(n_jobs=15)]: Done  17 out of  22 | elapsed:    0.2s remaining:    0.0s\n",
      "[Parallel(n_jobs=15)]: Done  18 out of  22 | elapsed:    0.2s remaining:    0.0s\n",
      "[Parallel(n_jobs=15)]: Done  19 out of  22 | elapsed:    0.2s remaining:    0.0s\n",
      "[Parallel(n_jobs=15)]: Done  20 out of  22 | elapsed:    0.2s remaining:    0.0s\n",
      "[Parallel(n_jobs=15)]: Done  22 out of  22 | elapsed:    0.2s remaining:    0.0s\n",
      "[Parallel(n_jobs=15)]: Done  22 out of  22 | elapsed:    0.2s finished\n",
      "... Operation performed in 0.214 s\n",
      "... Flip normalized filtered image\n",
      "Overwrite old files: False\n",
      "[Parallel(n_jobs=15)]: Using backend LokyBackend with 15 concurrent workers.\n",
      "[Parallel(n_jobs=15)]: Done   1 tasks      | elapsed:    0.0s\n",
      "[Parallel(n_jobs=15)]: Batch computation too fast (0.0159s.) Setting batch_size=2.\n",
      "[Parallel(n_jobs=15)]: Done   2 out of   6 | elapsed:    0.0s remaining:    0.1s\n",
      "[Parallel(n_jobs=15)]: Done   3 out of   6 | elapsed:    0.0s remaining:    0.0s\n",
      "[Parallel(n_jobs=15)]: Done   4 out of   6 | elapsed:    0.1s remaining:    0.0s\n",
      "[Parallel(n_jobs=15)]: Done   6 out of   6 | elapsed:    0.1s remaining:    0.0s\n",
      "[Parallel(n_jobs=15)]: Done   6 out of   6 | elapsed:    0.1s finished\n",
      "... Operation performed in 0.063 s\n",
      "...DONE!\n"
     ]
    }
   ],
   "source": [
    "sFC.prepare_data()"
   ]
  },
  {
   "cell_type": "markdown",
   "id": "cee005bb",
   "metadata": {},
   "source": [
    "####  1c. Load timecourses"
   ]
  },
  {
   "cell_type": "code",
   "execution_count": 63,
   "id": "81ff2f1b",
   "metadata": {},
   "outputs": [
    {
     "name": "stdout",
     "output_type": "stream",
     "text": [
      "Timecourses extraction\n",
      "Overwrite old files: True\n",
      "Extracting timecourses for subject SUVA-TIMES-002\n",
      "...Session T3\n",
      "......In iCAP_C5toC7_VR\n",
      "......In iCAP_C5toC7_VL\n",
      "......In iCAP_C5toC7_DR\n",
      "......In iCAP_C5toC7_DL\n",
      "Extracting timecourses for subject SUVA-TIMES-003\n",
      "...Session T3\n",
      "......In iCAP_C5toC7_VR\n",
      "/media/miplab-nas2/Data3/SpinalCord/4_Age_Stroke/Stroke/SUVA-TIMES-008/T3/func/SUVA-TIMES-008-T3-fmri_moco_denoised _bp.nii.gz\n",
      "/media/miplab-nas2/Data3/SpinalCord/4_Age_Stroke/Elderly/sub-012/func//sub-012_fmri_moco_denoised _bp.nii.gz\n",
      "/media/miplab-nas2/Data3/SpinalCord/4_Age_Stroke/Stroke/SUVA-TIMES-022/T3/func/SUVA-TIMES-022-T3-fmri_moco_denoised _bp.nii.gz\n",
      "/media/miplab-nas2/Data3/SpinalCord/4_Age_Stroke/Stroke/SUVA-TIMES-026/T3/func/SUVA-TIMES-026-T3-fmri_moco_denoised _bp.nii.gz\n",
      "/media/miplab-nas2/Data3/SpinalCord/4_Age_Stroke/Stroke/SUVA-TIMES-007/T3/func/SUVA-TIMES-007-T3-fmri_moco_denoised _bp.nii.gz\n",
      "/media/miplab-nas2/Data3/SpinalCord/4_Age_Stroke/Stroke/SUVA-TIMES-021/T3/func/SUVA-TIMES-021-T3-fmri_moco_denoised _bp.nii.gz\n",
      "/media/miplab-nas2/Data3/SpinalCord/4_Age_Stroke/Stroke/SUVA-TIMES-025/T3/func/SUVA-TIMES-025-T3-fmri_moco_denoised _bp.nii.gz\n",
      "/media/miplab-nas2/Data3/SpinalCord/4_Age_Stroke/Elderly/sub-004/func//sub-004_fmri_moco_denoised _bp.nii.gz\n",
      "/media/miplab-nas2/Data3/SpinalCord/4_Age_Stroke/Stroke/SUVA-TIMES-010/T3/func/SUVA-TIMES-010-T3-fmri_moco_denoised _bp.nii.gz\n",
      "/media/miplab-nas2/Data3/SpinalCord/4_Age_Stroke/Elderly/sub-002/func//sub-002_fmri_moco_denoised _bp.nii.gz\n",
      "/media/miplab-nas2/Data3/SpinalCord/4_Age_Stroke/Elderly/sub-001/func//sub-001_fmri_moco_denoised _bp.nii.gz\n",
      "/media/miplab-nas2/Data3/SpinalCord/4_Age_Stroke/Elderly/sub-005/func//sub-005_fmri_moco_denoised _bp.nii.gz\n",
      "/media/miplab-nas2/Data3/SpinalCord/4_Age_Stroke/Stroke/SUVA-TIMES-003/T3/func/SUVA-TIMES-003-T3-fmri_moco_denoised _bp.nii.gz\n",
      "/media/miplab-nas2/Data3/SpinalCord/4_Age_Stroke/Stroke/SUVA-TIMES-006/T3/func/SUVA-TIMES-006-T3-fmri_moco_denoised _bp.nii.gz\n",
      "/media/miplab-nas2/Data3/SpinalCord/4_Age_Stroke/Stroke/SUVA-TIMES-002/T3/func/SUVA-TIMES-002-T3-fmri_moco_denoised _bp.nii.gz\n",
      "/media/miplab-nas2/Data3/SpinalCord/4_Age_Stroke/Stroke/SUVA-TIMES-031/T3/func/SUVA-TIMES-031-T3-fmri_moco_denoised _bp.nii.gz\n",
      "/media/miplab-nas2/Data3/SpinalCord/4_Age_Stroke/Elderly/sub-007/func//sub-007_fmri_moco_denoised _bp.nii.gz\n",
      "/media/miplab-nas2/Data3/SpinalCord/4_Age_Stroke/Stroke/SUVA-TIMES-028/T3/func/SUVA-TIMES-028-T3-fmri_moco_denoised _bp.nii.gz\n",
      "/media/miplab-nas2/Data3/SpinalCord/4_Age_Stroke/Elderly/sub-009/func//sub-009_fmri_moco_denoised _bp.nii.gz\n",
      "/media/miplab-nas2/Data3/SpinalCord/4_Age_Stroke/Stroke/SUVA-TIMES-023/T3/func/SUVA-TIMES-023-T3-fmri_moco_denoised _bp.nii.gz\n",
      "/media/miplab-nas2/Data3/SpinalCord/4_Age_Stroke/Stroke/SUVA-TIMES-014/T3/func/SUVA-TIMES-014-T3-fmri_moco_denoised _bp.nii.gz\n",
      "/media/miplab-nas2/Data3/SpinalCord/4_Age_Stroke/Elderly/sub-011/func//sub-011_fmri_moco_denoised _bp.nii.gz\n",
      "......In iCAP_C5toC7_VL\n",
      "......In iCAP_C5toC7_DR\n",
      "......In iCAP_C5toC7_DL\n",
      "Extracting timecourses for subject SUVA-TIMES-006\n",
      "...Session T3\n",
      "......In iCAP_C5toC7_VR\n",
      "......In iCAP_C5toC7_VL\n",
      "......In iCAP_C5toC7_DR\n",
      "......In iCAP_C5toC7_DL\n",
      "Extracting timecourses for subject SUVA-TIMES-007\n",
      "...Session T3\n",
      "......In iCAP_C5toC7_VR\n",
      "......In iCAP_C5toC7_VL\n",
      "......In iCAP_C5toC7_DR\n",
      "......In iCAP_C5toC7_DL\n",
      "Extracting timecourses for subject SUVA-TIMES-008\n",
      "...Session T3\n",
      "......In iCAP_C5toC7_VR\n",
      "......In iCAP_C5toC7_DR\n",
      "......In iCAP_C5toC7_DL\n",
      "Extracting timecourses for subject SUVA-TIMES-010\n",
      "...Session T3\n",
      "......In iCAP_C5toC7_VR\n",
      "......In iCAP_C5toC7_VL\n",
      "......In iCAP_C5toC7_DR\n",
      "......In iCAP_C5toC7_DL\n",
      "Extracting timecourses for subject SUVA-TIMES-014\n",
      "...Session T3\n",
      "......In iCAP_C5toC7_VR\n",
      "......In iCAP_C5toC7_VL\n",
      "......In iCAP_C5toC7_DR\n",
      "......In iCAP_C5toC7_DL\n",
      "Extracting timecourses for subject SUVA-TIMES-021\n",
      "...Session T3\n",
      "......In iCAP_C5toC7_VR\n",
      "......In iCAP_C5toC7_VL\n",
      "......In iCAP_C5toC7_DR\n",
      "......In iCAP_C5toC7_DL\n",
      "Extracting timecourses for subject SUVA-TIMES-022\n",
      "...Session T3\n",
      "......In iCAP_C5toC7_VR\n",
      "......In iCAP_C5toC7_VL\n",
      "......In iCAP_C5toC7_DR\n",
      "......In iCAP_C5toC7_DL\n",
      "Extracting timecourses for subject SUVA-TIMES-023\n",
      "...Session T3\n",
      "......In iCAP_C5toC7_VR\n",
      "......In iCAP_C5toC7_VL\n",
      "......In iCAP_C5toC7_DR\n",
      "......In iCAP_C5toC7_DL\n",
      "Extracting timecourses for subject SUVA-TIMES-025\n",
      "...Session T3\n",
      "......In iCAP_C5toC7_VR\n",
      "......In iCAP_C5toC7_VL\n",
      "......In iCAP_C5toC7_DR\n",
      "......In iCAP_C5toC7_DL\n",
      "Extracting timecourses for subject SUVA-TIMES-026\n",
      "...Session T3\n",
      "......In iCAP_C5toC7_VR\n",
      "......In iCAP_C5toC7_VL\n",
      "......In iCAP_C5toC7_DR\n",
      "......In iCAP_C5toC7_DL\n",
      "Extracting timecourses for subject SUVA-TIMES-028\n",
      "...Session T3\n",
      "......In iCAP_C5toC7_VR\n",
      "......In iCAP_C5toC7_VL\n",
      "......In iCAP_C5toC7_DR\n",
      "......In iCAP_C5toC7_DL\n",
      "Extracting timecourses for subject SUVA-TIMES-031\n",
      "...Session T3\n",
      "......In iCAP_C5toC7_VR\n",
      "......In iCAP_C5toC7_VL\n",
      "......In iCAP_C5toC7_DR\n",
      "......In iCAP_C5toC7_DL\n",
      "Extracting timecourses for subject sub-001\n",
      "...Session \n",
      "......In iCAP_C5toC7_VR\n",
      "......In iCAP_C5toC7_VL\n",
      "......In iCAP_C5toC7_DR\n",
      "......In iCAP_C5toC7_DL\n",
      "Extracting timecourses for subject sub-002\n",
      "...Session \n",
      "......In iCAP_C5toC7_VR\n",
      "......In iCAP_C5toC7_VL\n",
      "......In iCAP_C5toC7_DR\n",
      "......In iCAP_C5toC7_DL\n",
      "Extracting timecourses for subject sub-004\n",
      "...Session \n",
      "......In iCAP_C5toC7_VR\n",
      "......In iCAP_C5toC7_VL\n",
      "......In iCAP_C5toC7_DR\n",
      "......In iCAP_C5toC7_DL\n",
      "Extracting timecourses for subject sub-005\n",
      "...Session \n",
      "......In iCAP_C5toC7_VR\n",
      "......In iCAP_C5toC7_VL\n",
      "......In iCAP_C5toC7_DR\n",
      "......In iCAP_C5toC7_DL\n",
      "Extracting timecourses for subject sub-007\n",
      "...Session \n",
      "......In iCAP_C5toC7_VR\n",
      "......In iCAP_C5toC7_VL\n",
      "......In iCAP_C5toC7_DR\n",
      "......In iCAP_C5toC7_DL\n",
      "Extracting timecourses for subject sub-009\n",
      "...Session \n",
      "......In iCAP_C5toC7_VR\n",
      "......In iCAP_C5toC7_VL\n",
      "......In iCAP_C5toC7_DR\n",
      "......In iCAP_C5toC7_DL\n",
      "Extracting timecourses for subject sub-011\n",
      "...Session \n",
      "......In iCAP_C5toC7_VR\n",
      "......In iCAP_C5toC7_VL\n",
      "......In iCAP_C5toC7_DR\n",
      "......In iCAP_C5toC7_DL\n",
      "Extracting timecourses for subject sub-012\n",
      "...Session \n",
      "......In iCAP_C5toC7_VR\n",
      "......In iCAP_C5toC7_VL\n",
      "......In iCAP_C5toC7_DR\n",
      "......In iCAP_C5toC7_DL\n"
     ]
    }
   ],
   "source": [
    "tcs = sFC.extract_tcs()"
   ]
  },
  {
   "cell_type": "markdown",
   "id": "1be97098",
   "metadata": {},
   "source": [
    "### 2. Correlations analyses"
   ]
  },
  {
   "cell_type": "markdown",
   "id": "3190d0bf",
   "metadata": {},
   "source": [
    "#### 2a. Computations"
   ]
  },
  {
   "cell_type": "code",
   "execution_count": 64,
   "id": "7fd06b60",
   "metadata": {},
   "outputs": [
    {
     "name": "stdout",
     "output_type": "stream",
     "text": [
      "ROI-TO-ROI CORRELATION\n",
      "Overwrite old files: True\n",
      "...Compute correlations\n"
     ]
    },
    {
     "name": "stderr",
     "output_type": "stream",
     "text": [
      "/media/miplab-nas2/Data3/Nawal/Tools/StaticFC/static_fc.py:241: RuntimeWarning: divide by zero encountered in arctanh\n",
      "  print(f'sub {sub} roi1 {roi1} roi2 {roi2}')\n"
     ]
    },
    {
     "name": "stdout",
     "output_type": "stream",
     "text": [
      "...Compute statistical significance\n"
     ]
    },
    {
     "data": {
      "image/png": "[encoded data removed]",
      "text/plain": [
       "<Figure size 1080x360 with 6 Axes>"
      ]
     },
     "metadata": {
      "needs_background": "light"
     },
     "output_type": "display_data"
    }
   ],
   "source": [
    "corrs_df,corrs_stats_df = sFC.compute_correlations(tcs=tcs)"
   ]
  },
  {
   "cell_type": "code",
   "execution_count": 65,
   "id": "3516d841",
   "metadata": {},
   "outputs": [
    {
     "name": "stdout",
     "output_type": "stream",
     "text": [
      "COMPARE FC PATTERNS BETWEEN GROUPS\n",
      "Group 1: T3\n",
      "Group 2: \n"
     ]
    },
    {
     "name": "stderr",
     "output_type": "stream",
     "text": [
      "/home/kinany/anaconda3/lib/python3.9/site-packages/scipy/stats/_stats_py.py:1218: RuntimeWarning: invalid value encountered in subtract\n",
      "  a_zero_mean = a - mean\n",
      "/home/kinany/anaconda3/lib/python3.9/site-packages/scipy/stats/_stats_py.py:6111: RuntimeWarning: invalid value encountered in double_scalars\n",
      "  d = mean1 - mean2\n"
     ]
    },
    {
     "data": {
      "text/plain": [
       "(              roi1            roi2         p\n",
       " 0   iCAP_C5toC7_VR  iCAP_C5toC7_VR       NaN\n",
       " 1   iCAP_C5toC7_VR  iCAP_C5toC7_VL  0.117668\n",
       " 2   iCAP_C5toC7_VR  iCAP_C5toC7_DR  0.936453\n",
       " 3   iCAP_C5toC7_VR  iCAP_C5toC7_DL  0.771859\n",
       " 4   iCAP_C5toC7_VL  iCAP_C5toC7_VR  0.117668\n",
       " 5   iCAP_C5toC7_VL  iCAP_C5toC7_VL       NaN\n",
       " 6   iCAP_C5toC7_VL  iCAP_C5toC7_DR  0.223651\n",
       " 7   iCAP_C5toC7_VL  iCAP_C5toC7_DL  0.742156\n",
       " 8   iCAP_C5toC7_DR  iCAP_C5toC7_VR  0.936453\n",
       " 9   iCAP_C5toC7_DR  iCAP_C5toC7_VL  0.223651\n",
       " 10  iCAP_C5toC7_DR  iCAP_C5toC7_DR       NaN\n",
       " 11  iCAP_C5toC7_DR  iCAP_C5toC7_DL  0.017109\n",
       " 12  iCAP_C5toC7_DL  iCAP_C5toC7_VR  0.771859\n",
       " 13  iCAP_C5toC7_DL  iCAP_C5toC7_VL  0.742156\n",
       " 14  iCAP_C5toC7_DL  iCAP_C5toC7_DR  0.017109\n",
       " 15  iCAP_C5toC7_DL  iCAP_C5toC7_DL       NaN,\n",
       " array([[  nan, -0.13,  0.01, -0.02],\n",
       "        [-0.13,   nan, -0.06,  0.03],\n",
       "        [ 0.01, -0.06,   nan, -0.17],\n",
       "        [-0.02,  0.03, -0.17,   nan]]))"
      ]
     },
     "execution_count": 65,
     "metadata": {},
     "output_type": "execute_result"
    },
    {
     "data": {
      "image/png": "[encoded data removed]",
      "text/plain": [
       "<Figure size 432x288 with 3 Axes>"
      ]
     },
     "metadata": {
      "needs_background": "light"
     },
     "output_type": "display_data"
    }
   ],
   "source": [
    "sFC.compare_correlations(corrs_df, ['T3',''], paired=False)"
   ]
  },
  {
   "cell_type": "code",
   "execution_count": 66,
   "id": "f450f0f1",
   "metadata": {},
   "outputs": [
    {
     "data": {
      "text/html": [
       "<div>\n",
       "<style scoped>\n",
       "    .dataframe tbody tr th:only-of-type {\n",
       "        vertical-align: middle;\n",
       "    }\n",
       "\n",
       "    .dataframe tbody tr th {\n",
       "        vertical-align: top;\n",
       "    }\n",
       "\n",
       "    .dataframe thead th {\n",
       "        text-align: right;\n",
       "    }\n",
       "</style>\n",
       "<table border=\"1\" class=\"dataframe\">\n",
       "  <thead>\n",
       "    <tr style=\"text-align: right;\">\n",
       "      <th></th>\n",
       "      <th>sub</th>\n",
       "      <th>sess</th>\n",
       "      <th>roi1</th>\n",
       "      <th>roi2</th>\n",
       "      <th>rho_Z</th>\n",
       "    </tr>\n",
       "  </thead>\n",
       "  <tbody>\n",
       "    <tr>\n",
       "      <th>0</th>\n",
       "      <td>SUVA-TIMES-002</td>\n",
       "      <td>T3</td>\n",
       "      <td>iCAP_C5toC7_VR</td>\n",
       "      <td>iCAP_C5toC7_VR</td>\n",
       "      <td>inf</td>\n",
       "    </tr>\n",
       "    <tr>\n",
       "      <th>1</th>\n",
       "      <td>SUVA-TIMES-002</td>\n",
       "      <td>T3</td>\n",
       "      <td>iCAP_C5toC7_VR</td>\n",
       "      <td>iCAP_C5toC7_VL</td>\n",
       "      <td>0.217089</td>\n",
       "    </tr>\n",
       "    <tr>\n",
       "      <th>2</th>\n",
       "      <td>SUVA-TIMES-002</td>\n",
       "      <td>T3</td>\n",
       "      <td>iCAP_C5toC7_VR</td>\n",
       "      <td>iCAP_C5toC7_DR</td>\n",
       "      <td>0.137548</td>\n",
       "    </tr>\n",
       "    <tr>\n",
       "      <th>3</th>\n",
       "      <td>SUVA-TIMES-002</td>\n",
       "      <td>T3</td>\n",
       "      <td>iCAP_C5toC7_VR</td>\n",
       "      <td>iCAP_C5toC7_DL</td>\n",
       "      <td>-0.188573</td>\n",
       "    </tr>\n",
       "    <tr>\n",
       "      <th>4</th>\n",
       "      <td>SUVA-TIMES-002</td>\n",
       "      <td>T3</td>\n",
       "      <td>iCAP_C5toC7_VL</td>\n",
       "      <td>iCAP_C5toC7_VR</td>\n",
       "      <td>0.217089</td>\n",
       "    </tr>\n",
       "    <tr>\n",
       "      <th>...</th>\n",
       "      <td>...</td>\n",
       "      <td>...</td>\n",
       "      <td>...</td>\n",
       "      <td>...</td>\n",
       "      <td>...</td>\n",
       "    </tr>\n",
       "    <tr>\n",
       "      <th>347</th>\n",
       "      <td>sub-012</td>\n",
       "      <td></td>\n",
       "      <td>iCAP_C5toC7_DR</td>\n",
       "      <td>iCAP_C5toC7_DL</td>\n",
       "      <td>0.836943</td>\n",
       "    </tr>\n",
       "    <tr>\n",
       "      <th>348</th>\n",
       "      <td>sub-012</td>\n",
       "      <td></td>\n",
       "      <td>iCAP_C5toC7_DL</td>\n",
       "      <td>iCAP_C5toC7_VR</td>\n",
       "      <td>0.506303</td>\n",
       "    </tr>\n",
       "    <tr>\n",
       "      <th>349</th>\n",
       "      <td>sub-012</td>\n",
       "      <td></td>\n",
       "      <td>iCAP_C5toC7_DL</td>\n",
       "      <td>iCAP_C5toC7_VL</td>\n",
       "      <td>0.496267</td>\n",
       "    </tr>\n",
       "    <tr>\n",
       "      <th>350</th>\n",
       "      <td>sub-012</td>\n",
       "      <td></td>\n",
       "      <td>iCAP_C5toC7_DL</td>\n",
       "      <td>iCAP_C5toC7_DR</td>\n",
       "      <td>0.836943</td>\n",
       "    </tr>\n",
       "    <tr>\n",
       "      <th>351</th>\n",
       "      <td>sub-012</td>\n",
       "      <td></td>\n",
       "      <td>iCAP_C5toC7_DL</td>\n",
       "      <td>iCAP_C5toC7_DL</td>\n",
       "      <td>inf</td>\n",
       "    </tr>\n",
       "  </tbody>\n",
       "</table>\n",
       "<p>352 rows × 5 columns</p>\n",
       "</div>"
      ],
      "text/plain": [
       "                sub sess            roi1            roi2     rho_Z\n",
       "0    SUVA-TIMES-002   T3  iCAP_C5toC7_VR  iCAP_C5toC7_VR       inf\n",
       "1    SUVA-TIMES-002   T3  iCAP_C5toC7_VR  iCAP_C5toC7_VL  0.217089\n",
       "2    SUVA-TIMES-002   T3  iCAP_C5toC7_VR  iCAP_C5toC7_DR  0.137548\n",
       "3    SUVA-TIMES-002   T3  iCAP_C5toC7_VR  iCAP_C5toC7_DL -0.188573\n",
       "4    SUVA-TIMES-002   T3  iCAP_C5toC7_VL  iCAP_C5toC7_VR  0.217089\n",
       "..              ...  ...             ...             ...       ...\n",
       "347         sub-012       iCAP_C5toC7_DR  iCAP_C5toC7_DL  0.836943\n",
       "348         sub-012       iCAP_C5toC7_DL  iCAP_C5toC7_VR  0.506303\n",
       "349         sub-012       iCAP_C5toC7_DL  iCAP_C5toC7_VL  0.496267\n",
       "350         sub-012       iCAP_C5toC7_DL  iCAP_C5toC7_DR  0.836943\n",
       "351         sub-012       iCAP_C5toC7_DL  iCAP_C5toC7_DL       inf\n",
       "\n",
       "[352 rows x 5 columns]"
      ]
     },
     "execution_count": 66,
     "metadata": {},
     "output_type": "execute_result"
    }
   ],
   "source": [
    "corrs_df"
   ]
  },
  {
   "cell_type": "markdown",
   "id": "841d933c",
   "metadata": {},
   "source": [
    "#### 2b. Link with functional connectivity\n",
    "_Note: for the next steps, select corrs_totest(_names) based on config & chosen analyses_"
   ]
  },
  {
   "cell_type": "markdown",
   "id": "471aa2e4",
   "metadata": {},
   "source": [
    "#### Option 1: Interhemispheric FC"
   ]
  },
  {
   "cell_type": "markdown",
   "id": "cd763723",
   "metadata": {},
   "source": [
    "_**If using whole cord**_"
   ]
  },
  {
   "cell_type": "code",
   "execution_count": 101,
   "id": "25d43903",
   "metadata": {},
   "outputs": [
    {
     "data": {
      "text/plain": [
       "[array([[0.21, 0.11, 0.06, 0.03, 0.09, 0.08, 0.12, 0.06, 0.04, 0.13, 0.19,\n",
       "         0.35, 0.09, 0.12]])]"
      ]
     },
     "execution_count": 101,
     "metadata": {},
     "output_type": "execute_result"
    }
   ],
   "source": [
    "corrs_totest"
   ]
  },
  {
   "cell_type": "code",
   "execution_count": 100,
   "id": "17de05c8",
   "metadata": {},
   "outputs": [],
   "source": [
    "vv = [corrs_df[(corrs_df['sess']=='T3') & (corrs_df['roi1']=='iCAP_C5toC7_VR') & (corrs_df['roi2']=='iCAP_C5toC7_VL')]['rho_Z'].values]\n",
    "dd = [corrs_df[(corrs_df['sess']=='T3') & (corrs_df['roi1']=='iCAP_C5toC7_DR') & (corrs_df['roi2']=='iCAP_C5toC7_DL')]['rho_Z'].values]\n",
    "dv_r = [corrs_df[(corrs_df['sess']=='T3') & (corrs_df['roi1']=='iCAP_C5toC7_VR') & (corrs_df['roi2']=='iCAP_C5toC7_DR')]['rho_Z'].values]    \n",
    "dv_l = [corrs_df[(corrs_df['sess']=='T3') & (corrs_df['roi1']=='iCAP_C5toC7_VL') & (corrs_df['roi2']=='iCAP_C5toC7_DL')]['rho_Z'].values]   \n",
    "vr_dl = [corrs_df[(corrs_df['sess']=='T3') & (corrs_df['roi1']=='iCAP_C5toC7_VR') & (corrs_df['roi2']=='iCAP_C5toC7_DL')]['rho_Z'].values]    \n",
    "vl_dr = [corrs_df[(corrs_df['sess']=='T3') & (corrs_df['roi1']=='iCAP_C5toC7_VL') & (corrs_df['roi2']=='iCAP_C5toC7_DR')]['rho_Z'].values]    \n",
    "# For all\n",
    "#corrs_totest = np.transpose(np.concatenate((vv,dd,dv_r,dv_l,vr_dl,vl_dr),axis=0))\n",
    "#corrs_totest_names = ['V-V','D-D','D-V (R)', 'D-V (L)', 'VR-DL', 'VL-DR']\n",
    "\n",
    "# Just for DD VV\n",
    "corrs_totest = np.transpose(np.concatenate((vv,dd),axis=0))\n",
    "corrs_totest_names = ['V-V','D-D']"
   ]
  },
  {
   "cell_type": "markdown",
   "id": "267b5414",
   "metadata": {},
   "source": [
    "_**If using all individual spinal levels**_"
   ]
  },
  {
   "cell_type": "code",
   "execution_count": null,
   "id": "4ef57b3e",
   "metadata": {},
   "outputs": [],
   "source": [
    "c5_vv = [corrs_df[(corrs_df['roi1']=='C5_VR') & (corrs_df['roi2']=='C5_VL')]['rho_Z'].values]\n",
    "c5_dd = [corrs_df[(corrs_df['roi1']=='C5_DR') & (corrs_df['roi2']=='C5_DL')]['rho_Z'].values]\n",
    "c6_vv = [corrs_df[(corrs_df['roi1']=='C6_VR') & (corrs_df['roi2']=='C6_VL')]['rho_Z'].values]\n",
    "c6_dd = [corrs_df[(corrs_df['roi1']=='C6_DR') & (corrs_df['roi2']=='C6_DL')]['rho_Z'].values]\n",
    "c7_vv = [corrs_df[(corrs_df['roi1']=='C7_VR') & (corrs_df['roi2']=='C7_VL')]['rho_Z'].values]\n",
    "c7_dd = [corrs_df[(corrs_df['roi1']=='C7_DR') & (corrs_df['roi2']=='C7_DL')]['rho_Z'].values]\n",
    "corrs_totest = np.transpose(np.concatenate((c5_vv,c5_dd,c6_vv,c6_dd,c7_vv,c7_dd),axis=0))\n",
    "corrs_totest_names = ['C5 V-V','C5 D-D','C6 V-V','C6 D-D','C7 V-V','C7 D-D']"
   ]
  },
  {
   "cell_type": "markdown",
   "id": "9a2197cb",
   "metadata": {},
   "source": [
    "#### Option 2: Significant FC"
   ]
  },
  {
   "cell_type": "markdown",
   "id": "222a86ba",
   "metadata": {},
   "source": [
    "_Note: there were 3 significant correlations: **(1)** C5DR-C5VR, **(2)** C6DL-C6DR, **(3)** C6DR-C6VR_"
   ]
  },
  {
   "cell_type": "code",
   "execution_count": null,
   "id": "9c22903e",
   "metadata": {},
   "outputs": [],
   "source": [
    "C5DR_C5VR = [corrs_df[(corrs_df['sess']=='T3') & (corrs_df['roi1']=='C5_DR') & (corrs_df['roi2']=='C5_VR')]['rho_Z'].values]\n",
    "C6DL_C6DR  = [corrs_df[(corrs_df['sess']=='T3') & (corrs_df['roi1']=='C6_DL') & (corrs_df['roi2']=='C6_DR')]['rho_Z'].values]\n",
    "C6DR_C6VR = [corrs_df[(corrs_df['sess']=='T3') & (corrs_df['roi1']=='C6_DR') & (corrs_df['roi2']=='C6_VR')]['rho_Z'].values]\n",
    "corrs_totest = np.transpose(np.concatenate((C5DR_C5VR,C6DL_C6DR,C6DR_C6VR),axis=0))\n",
    "corrs_totest_names = ['C5DR-C5VR','C6DL-C6DR','C6DR-C6VR']"
   ]
  },
  {
   "cell_type": "markdown",
   "id": "6bc37ffa",
   "metadata": {},
   "source": [
    "#### ! To run for all options"
   ]
  },
  {
   "cell_type": "code",
   "execution_count": 102,
   "id": "937c4938",
   "metadata": {},
   "outputs": [
    {
     "ename": "AttributeError",
     "evalue": "'list' object has no attribute 'shape'",
     "output_type": "error",
     "traceback": [
      "\u001b[0;31m---------------------------------------------------------------------------\u001b[0m",
      "\u001b[0;31mAttributeError\u001b[0m                            Traceback (most recent call last)",
      "Input \u001b[0;32mIn [102]\u001b[0m, in \u001b[0;36m<cell line: 1>\u001b[0;34m()\u001b[0m\n\u001b[0;32m----> 1\u001b[0m \u001b[43mpatients\u001b[49m\u001b[38;5;241;43m.\u001b[39;49m\u001b[43mcompute_correlations\u001b[49m\u001b[43m(\u001b[49m\u001b[43mclinical_data\u001b[49m\u001b[38;5;241;43m=\u001b[39;49m\u001b[43mclinical_info\u001b[49m\u001b[43m,\u001b[49m\u001b[43mclinical_names\u001b[49m\u001b[38;5;241;43m=\u001b[39;49m\u001b[43m[\u001b[49m\u001b[38;5;124;43m'\u001b[39;49m\u001b[38;5;124;43mfm\u001b[39;49m\u001b[38;5;124;43m'\u001b[39;49m\u001b[43m,\u001b[49m\u001b[38;5;124;43m'\u001b[39;49m\u001b[38;5;124;43mmas\u001b[39;49m\u001b[38;5;124;43m'\u001b[39;49m\u001b[43m,\u001b[49m\u001b[38;5;124;43m'\u001b[39;49m\u001b[38;5;124;43mpinch\u001b[39;49m\u001b[38;5;124;43m'\u001b[39;49m\u001b[43m,\u001b[49m\u001b[38;5;124;43m'\u001b[39;49m\u001b[38;5;124;43mCST\u001b[39;49m\u001b[38;5;124;43m'\u001b[39;49m\u001b[43m,\u001b[49m\u001b[38;5;124;43m'\u001b[39;49m\u001b[38;5;124;43mvol\u001b[39;49m\u001b[38;5;124;43m'\u001b[39;49m\u001b[43m]\u001b[49m\u001b[43m,\u001b[49m\u001b[43mtotest_values\u001b[49m\u001b[38;5;241;43m=\u001b[39;49m\u001b[43mcorrs_totest\u001b[49m\u001b[43m,\u001b[49m\u001b[43mtotest_names\u001b[49m\u001b[38;5;241;43m=\u001b[39;49m\u001b[43mcorrs_totest_names\u001b[49m\u001b[43m)\u001b[49m\n",
      "File \u001b[0;32m/media/miplab-nas2/Data3/Nawal/Tools/Clinical/clinical_analyses.py:129\u001b[0m, in \u001b[0;36mClinicalAnalyses.compute_correlations\u001b[0;34m(self, clinical_data, clinical_names, totest_values, totest_names, rm_confounds, plot)\u001b[0m\n\u001b[1;32m    111\u001b[0m \u001b[38;5;28;01mdef\u001b[39;00m \u001b[38;5;21mcompute_correlations\u001b[39m(\u001b[38;5;28mself\u001b[39m, clinical_data, clinical_names, totest_values, totest_names, rm_confounds\u001b[38;5;241m=\u001b[39m\u001b[38;5;28;01mTrue\u001b[39;00m, plot\u001b[38;5;241m=\u001b[39m\u001b[38;5;28;01mTrue\u001b[39;00m):\n\u001b[1;32m    112\u001b[0m     \u001b[38;5;124;03m'''Compute correlation between clinical metrics and values of interest \u001b[39;00m\n\u001b[1;32m    113\u001b[0m \n\u001b[1;32m    114\u001b[0m \u001b[38;5;124;03m    Inputs\u001b[39;00m\n\u001b[0;32m   (...)\u001b[0m\n\u001b[1;32m    127\u001b[0m \u001b[38;5;124;03m        Plot correlation matrices if True (default)\u001b[39;00m\n\u001b[1;32m    128\u001b[0m \u001b[38;5;124;03m    '''\u001b[39;00m \n\u001b[0;32m--> 129\u001b[0m     \u001b[38;5;28;01mif\u001b[39;00m \u001b[43mtotest_values\u001b[49m\u001b[38;5;241;43m.\u001b[39;49m\u001b[43mshape\u001b[49m[\u001b[38;5;241m1\u001b[39m] \u001b[38;5;241m==\u001b[39m \u001b[38;5;28mlen\u001b[39m(totest_names):\n\u001b[1;32m    130\u001b[0m         \u001b[38;5;28;01mif\u001b[39;00m totest_values\u001b[38;5;241m.\u001b[39mshape[\u001b[38;5;241m0\u001b[39m] \u001b[38;5;241m==\u001b[39m clinical_data\u001b[38;5;241m.\u001b[39mshape[\u001b[38;5;241m0\u001b[39m]:\n\u001b[1;32m    131\u001b[0m             clinical_totest \u001b[38;5;241m=\u001b[39m clinical_data\u001b[38;5;241m.\u001b[39mcopy() \u001b[38;5;66;03m# Copy clinical dataframe\u001b[39;00m\n",
      "\u001b[0;31mAttributeError\u001b[0m: 'list' object has no attribute 'shape'"
     ]
    }
   ],
   "source": [
    "patients.compute_correlations(clinical_data=clinical_info,clinical_names=['fm','mas','pinch','CST','vol'],totest_values=corrs_totest,totest_names=corrs_totest_names)\n"
   ]
  },
  {
   "cell_type": "code",
   "execution_count": 160,
   "id": "29a106b3",
   "metadata": {},
   "outputs": [],
   "source": [
    "frames_df = pd.read_csv('/media/miplab-nas2/Data3/SpinalCord/4_Age_Stroke/iCAPs_results/PAM50_C5toC7_14P_Alpha_5_95_Fraction_0DOT05/K_30_Dist_cosine_Folds_20/Frames.csv',header=None, names=['iCAP1','iCAP2','iCAP3','iCAP4','iCAP5','iCAP6','iCAP7','iCAP8','iCAP9','iCAP10','iCAP11','iCAP12','iCAP13','iCAP14','iCAP15','iCAP16','iCAP17','iCAP18','iCAP19','iCAP20','iCAP21','iCAP22','iCAP23','iCAP24','iCAP25','iCAP26','iCAP27','iCAP28','iCAP29','iCAP30'])"
   ]
  },
  {
   "cell_type": "code",
   "execution_count": 168,
   "id": "1b39af18",
   "metadata": {},
   "outputs": [],
   "source": [
    "frames = np.loadtxt('/media/miplab-nas2/Data3/SpinalCord/4_Age_Stroke/iCAPs_results/PAM50_C5toC7_14P_Alpha_5_95_Fraction_0DOT05/K_30_Dist_cosine_Folds_20/Frames.csv',delimiter=\",\")"
   ]
  },
  {
   "cell_type": "code",
   "execution_count": 185,
   "id": "3c63f2d4",
   "metadata": {},
   "outputs": [
    {
     "data": {
      "text/plain": [
       "array([[14., 11., 13., 10.],\n",
       "       [17., 21., 16., 14.],\n",
       "       [10., 11., 11.,  5.],\n",
       "       [18., 19., 18., 10.],\n",
       "       [27., 17.,  9.,  9.],\n",
       "       [ 9., 14., 16.,  6.],\n",
       "       [29., 22., 13.,  8.],\n",
       "       [23., 13., 12., 10.],\n",
       "       [17., 17., 12., 14.],\n",
       "       [20., 11., 11.,  6.],\n",
       "       [16., 24., 14., 19.],\n",
       "       [15., 20., 13.,  6.],\n",
       "       [18., 13.,  6., 18.],\n",
       "       [11.,  8., 14., 15.]])"
      ]
     },
     "execution_count": 185,
     "metadata": {},
     "output_type": "execute_result"
    }
   ],
   "source": [
    "frames[:,[3,6,16,21]]"
   ]
  },
  {
   "cell_type": "code",
   "execution_count": 180,
   "id": "0b9806f5",
   "metadata": {},
   "outputs": [
    {
     "data": {
      "text/plain": [
       "[130]"
      ]
     },
     "execution_count": 180,
     "metadata": {},
     "output_type": "execute_result"
    }
   ],
   "source": [
    "t=clinical_correlations['p']<0.01\n",
    "[i for i, x in enumerate(t) if x]"
   ]
  },
  {
   "cell_type": "code",
   "execution_count": 188,
   "id": "d72cf224",
   "metadata": {},
   "outputs": [
    {
     "data": {
      "image/png": "[encoded data removed]",
      "text/plain": [
       "<Figure size 1080x360 with 8 Axes>"
      ]
     },
     "metadata": {
      "needs_background": "light"
     },
     "output_type": "display_data"
    }
   ],
   "source": [
    "clinical_correlations=patients.compute_correlations(clinical_data=clinical_info,clinical_names=['CST','vol'],totest_values=frames[:,[3,6,16,21]],totest_names=['iCAP3','iCAP6','iCAP16','iCAP21'])"
   ]
  },
  {
   "cell_type": "code",
   "execution_count": 189,
   "id": "95d81d6f",
   "metadata": {},
   "outputs": [
    {
     "data": {
      "text/html": [
       "<div>\n",
       "<style scoped>\n",
       "    .dataframe tbody tr th:only-of-type {\n",
       "        vertical-align: middle;\n",
       "    }\n",
       "\n",
       "    .dataframe tbody tr th {\n",
       "        vertical-align: top;\n",
       "    }\n",
       "\n",
       "    .dataframe thead th {\n",
       "        text-align: right;\n",
       "    }\n",
       "</style>\n",
       "<table border=\"1\" class=\"dataframe\">\n",
       "  <thead>\n",
       "    <tr style=\"text-align: right;\">\n",
       "      <th></th>\n",
       "      <th>tested</th>\n",
       "      <th>clinical</th>\n",
       "      <th>rho</th>\n",
       "      <th>p</th>\n",
       "    </tr>\n",
       "  </thead>\n",
       "  <tbody>\n",
       "    <tr>\n",
       "      <th>0</th>\n",
       "      <td>iCAP3</td>\n",
       "      <td>CST</td>\n",
       "      <td>-0.295225</td>\n",
       "      <td>0.351547</td>\n",
       "    </tr>\n",
       "    <tr>\n",
       "      <th>1</th>\n",
       "      <td>iCAP6</td>\n",
       "      <td>CST</td>\n",
       "      <td>0.332495</td>\n",
       "      <td>0.290981</td>\n",
       "    </tr>\n",
       "    <tr>\n",
       "      <th>2</th>\n",
       "      <td>iCAP16</td>\n",
       "      <td>CST</td>\n",
       "      <td>0.594227</td>\n",
       "      <td>0.041598</td>\n",
       "    </tr>\n",
       "    <tr>\n",
       "      <th>3</th>\n",
       "      <td>iCAP21</td>\n",
       "      <td>CST</td>\n",
       "      <td>-0.205937</td>\n",
       "      <td>0.520788</td>\n",
       "    </tr>\n",
       "    <tr>\n",
       "      <th>4</th>\n",
       "      <td>iCAP3</td>\n",
       "      <td>vol</td>\n",
       "      <td>0.012047</td>\n",
       "      <td>0.970358</td>\n",
       "    </tr>\n",
       "    <tr>\n",
       "      <th>5</th>\n",
       "      <td>iCAP6</td>\n",
       "      <td>vol</td>\n",
       "      <td>-0.116399</td>\n",
       "      <td>0.718662</td>\n",
       "    </tr>\n",
       "    <tr>\n",
       "      <th>6</th>\n",
       "      <td>iCAP16</td>\n",
       "      <td>vol</td>\n",
       "      <td>-0.677699</td>\n",
       "      <td>0.015448</td>\n",
       "    </tr>\n",
       "    <tr>\n",
       "      <th>7</th>\n",
       "      <td>iCAP21</td>\n",
       "      <td>vol</td>\n",
       "      <td>0.460771</td>\n",
       "      <td>0.131674</td>\n",
       "    </tr>\n",
       "  </tbody>\n",
       "</table>\n",
       "</div>"
      ],
      "text/plain": [
       "   tested clinical       rho         p\n",
       "0   iCAP3      CST -0.295225  0.351547\n",
       "1   iCAP6      CST  0.332495  0.290981\n",
       "2  iCAP16      CST  0.594227  0.041598\n",
       "3  iCAP21      CST -0.205937  0.520788\n",
       "4   iCAP3      vol  0.012047  0.970358\n",
       "5   iCAP6      vol -0.116399  0.718662\n",
       "6  iCAP16      vol -0.677699  0.015448\n",
       "7  iCAP21      vol  0.460771  0.131674"
      ]
     },
     "execution_count": 189,
     "metadata": {},
     "output_type": "execute_result"
    }
   ],
   "source": [
    "clinical_correlations"
   ]
  },
  {
   "cell_type": "code",
   "execution_count": 179,
   "id": "63674ef4",
   "metadata": {},
   "outputs": [
    {
     "data": {
      "image/png": "[encoded data removed]",
      "text/plain": [
       "<Figure size 1080x360 with 150 Axes>"
      ]
     },
     "metadata": {
      "needs_background": "light"
     },
     "output_type": "display_data"
    }
   ],
   "source": [
    "clinical_correlations=patients.compute_correlations(clinical_data=clinical_info,clinical_names=['fm','mas','pinch','CST','vol'],totest_values=frames,totest_names=['iCAP1','iCAP2','iCAP3','iCAP4','iCAP5','iCAP6','iCAP7','iCAP8','iCAP9','iCAP10','iCAP11','iCAP12','iCAP13','iCAP14','iCAP15','iCAP16','iCAP17','iCAP18','iCAP19','iCAP20','iCAP21','iCAP22','iCAP23','iCAP24','iCAP25','iCAP26','iCAP27','iCAP28','iCAP29','iCAP30'])"
   ]
  },
  {
   "cell_type": "markdown",
   "id": "68f8cc05",
   "metadata": {},
   "source": [
    "#### Test with classification"
   ]
  },
  {
   "cell_type": "code",
   "execution_count": 86,
   "id": "c642c254",
   "metadata": {},
   "outputs": [],
   "source": [
    "# Extract corr for controls (already done above for patients)\n",
    "vv = [corrs_df[(corrs_df['sess']=='') & (corrs_df['roi1']=='mask_midC5toC7_gm_VR') & (corrs_df['roi2']=='mask_midC5toC7_gm_VL')]['rho_Z'].values]\n",
    "dd = [corrs_df[(corrs_df['sess']=='') & (corrs_df['roi1']=='mask_midC5toC7_gm_DR') & (corrs_df['roi2']=='mask_midC5toC7_gm_DL')]['rho_Z'].values]\n",
    "dv_r = [corrs_df[(corrs_df['sess']=='') & (corrs_df['roi1']=='mask_midC5toC7_gm_VR') & (corrs_df['roi2']=='mask_midC5toC7_gm_DR')]['rho_Z'].values]    \n",
    "dv_l = [corrs_df[(corrs_df['sess']=='') & (corrs_df['roi1']=='mask_midC5toC7_gm_VL') & (corrs_df['roi2']=='mask_midC5toC7_gm_DL')]['rho_Z'].values]   \n",
    "vr_dl = [corrs_df[(corrs_df['sess']=='') & (corrs_df['roi1']=='mask_midC5toC7_gm_VR') & (corrs_df['roi2']=='mask_midC5toC7_gm_DL')]['rho_Z'].values]    \n",
    "vl_dr = [corrs_df[(corrs_df['sess']=='') & (corrs_df['roi1']=='mask_midC5toC7_gm_VL') & (corrs_df['roi2']=='mask_midC5toC7_gm_DR')]['rho_Z'].values]    \n",
    "corrs_totest_H = np.transpose(np.concatenate((vv,dd,dv_r,dv_l,vr_dl,vl_dr),axis=0))\n"
   ]
  },
  {
   "cell_type": "code",
   "execution_count": 107,
   "id": "5ac6dfe3",
   "metadata": {},
   "outputs": [],
   "source": [
    "# Create dataframe\n",
    "corrs_totest_P_withgrp = np.hstack((corrs_totest_P, 2*np.ones((corrs_totest_P.shape[0], 1))))\n",
    "corrs_totest_H_withgrp = np.hstack((corrs_totest_H, np.ones((corrs_totest_H.shape[0], 1))))\n",
    "data_classif = np.concatenate([corrs_totest_P_withgrp, corrs_totest_H_withgrp],axis=0)\n",
    "col_names = ['V-V','D-D','D-V (R)', 'D-V (L)', 'VR-DL', 'VL-DR', 'grp']\n",
    "data_classif_df = pd.DataFrame(data=data_classif, columns=col_names)"
   ]
  },
  {
   "cell_type": "code",
   "execution_count": 110,
   "id": "a2ce97c9",
   "metadata": {},
   "outputs": [],
   "source": [
    "data_classif_df['grp'] = data_classif_df['grp'].astype('int')"
   ]
  },
  {
   "cell_type": "code",
   "execution_count": 121,
   "id": "fb244d3a",
   "metadata": {},
   "outputs": [],
   "source": [
    "X = data_classif_df[col_names[:-1]]\n",
    "y = data_classif_df[col_names[-1]]"
   ]
  },
  {
   "cell_type": "code",
   "execution_count": 135,
   "id": "b96b1f03",
   "metadata": {},
   "outputs": [],
   "source": [
    "# Feature Scaling \n",
    "from sklearn.preprocessing import StandardScaler \n",
    "sc = StandardScaler() \n",
    "X = sc.fit_transform(X) "
   ]
  },
  {
   "cell_type": "code",
   "execution_count": 136,
   "id": "54a439e4",
   "metadata": {},
   "outputs": [
    {
     "data": {
      "text/html": [
       "<style>#sk-container-id-1 {color: black;background-color: white;}#sk-container-id-1 pre{padding: 0;}#sk-container-id-1 div.sk-toggleable {background-color: white;}#sk-container-id-1 label.sk-toggleable__label {cursor: pointer;display: block;width: 100%;margin-bottom: 0;padding: 0.3em;box-sizing: border-box;text-align: center;}#sk-container-id-1 label.sk-toggleable__label-arrow:before {content: \"▸\";float: left;margin-right: 0.25em;color: #696969;}#sk-container-id-1 label.sk-toggleable__label-arrow:hover:before {color: black;}#sk-container-id-1 div.sk-estimator:hover label.sk-toggleable__label-arrow:before {color: black;}#sk-container-id-1 div.sk-toggleable__content {max-height: 0;max-width: 0;overflow: hidden;text-align: left;background-color: #f0f8ff;}#sk-container-id-1 div.sk-toggleable__content pre {margin: 0.2em;color: black;border-radius: 0.25em;background-color: #f0f8ff;}#sk-container-id-1 input.sk-toggleable__control:checked~div.sk-toggleable__content {max-height: 200px;max-width: 100%;overflow: auto;}#sk-container-id-1 input.sk-toggleable__control:checked~label.sk-toggleable__label-arrow:before {content: \"▾\";}#sk-container-id-1 div.sk-estimator input.sk-toggleable__control:checked~label.sk-toggleable__label {background-color: #d4ebff;}#sk-container-id-1 div.sk-label input.sk-toggleable__control:checked~label.sk-toggleable__label {background-color: #d4ebff;}#sk-container-id-1 input.sk-hidden--visually {border: 0;clip: rect(1px 1px 1px 1px);clip: rect(1px, 1px, 1px, 1px);height: 1px;margin: -1px;overflow: hidden;padding: 0;position: absolute;width: 1px;}#sk-container-id-1 div.sk-estimator {font-family: monospace;background-color: #f0f8ff;border: 1px dotted black;border-radius: 0.25em;box-sizing: border-box;margin-bottom: 0.5em;}#sk-container-id-1 div.sk-estimator:hover {background-color: #d4ebff;}#sk-container-id-1 div.sk-parallel-item::after {content: \"\";width: 100%;border-bottom: 1px solid gray;flex-grow: 1;}#sk-container-id-1 div.sk-label:hover label.sk-toggleable__label {background-color: #d4ebff;}#sk-container-id-1 div.sk-serial::before {content: \"\";position: absolute;border-left: 1px solid gray;box-sizing: border-box;top: 0;bottom: 0;left: 50%;z-index: 0;}#sk-container-id-1 div.sk-serial {display: flex;flex-direction: column;align-items: center;background-color: white;padding-right: 0.2em;padding-left: 0.2em;position: relative;}#sk-container-id-1 div.sk-item {position: relative;z-index: 1;}#sk-container-id-1 div.sk-parallel {display: flex;align-items: stretch;justify-content: center;background-color: white;position: relative;}#sk-container-id-1 div.sk-item::before, #sk-container-id-1 div.sk-parallel-item::before {content: \"\";position: absolute;border-left: 1px solid gray;box-sizing: border-box;top: 0;bottom: 0;left: 50%;z-index: -1;}#sk-container-id-1 div.sk-parallel-item {display: flex;flex-direction: column;z-index: 1;position: relative;background-color: white;}#sk-container-id-1 div.sk-parallel-item:first-child::after {align-self: flex-end;width: 50%;}#sk-container-id-1 div.sk-parallel-item:last-child::after {align-self: flex-start;width: 50%;}#sk-container-id-1 div.sk-parallel-item:only-child::after {width: 0;}#sk-container-id-1 div.sk-dashed-wrapped {border: 1px dashed gray;margin: 0 0.4em 0.5em 0.4em;box-sizing: border-box;padding-bottom: 0.4em;background-color: white;}#sk-container-id-1 div.sk-label label {font-family: monospace;font-weight: bold;display: inline-block;line-height: 1.2em;}#sk-container-id-1 div.sk-label-container {text-align: center;}#sk-container-id-1 div.sk-container {/* jupyter's `normalize.less` sets `[hidden] { display: none; }` but bootstrap.min.css set `[hidden] { display: none !important; }` so we also need the `!important` here to be able to override the default hidden behavior on the sphinx rendered scikit-learn.org. See: https://github.com/scikit-learn/scikit-learn/issues/21755 */display: inline-block !important;position: relative;}#sk-container-id-1 div.sk-text-repr-fallback {display: none;}</style><div id=\"sk-container-id-1\" class=\"sk-top-container\"><div class=\"sk-text-repr-fallback\"><pre>SVC(random_state=0)</pre><b>In a Jupyter environment, please rerun this cell to show the HTML representation or trust the notebook. <br />On GitHub, the HTML representation is unable to render, please try loading this page with nbviewer.org.</b></div><div class=\"sk-container\" hidden><div class=\"sk-item\"><div class=\"sk-estimator sk-toggleable\"><input class=\"sk-toggleable__control sk-hidden--visually\" id=\"sk-estimator-id-1\" type=\"checkbox\" checked><label for=\"sk-estimator-id-1\" class=\"sk-toggleable__label sk-toggleable__label-arrow\">SVC</label><div class=\"sk-toggleable__content\"><pre>SVC(random_state=0)</pre></div></div></div></div></div>"
      ],
      "text/plain": [
       "SVC(random_state=0)"
      ]
     },
     "execution_count": 136,
     "metadata": {},
     "output_type": "execute_result"
    }
   ],
   "source": [
    "# Fitting Kernel SVM to the Training set \n",
    "from sklearn.svm import SVC \n",
    "classifier = SVC(kernel = 'rbf', random_state = 0) \n",
    "classifier.fit(X, y) \n"
   ]
  },
  {
   "cell_type": "code",
   "execution_count": 139,
   "id": "dd49349a",
   "metadata": {},
   "outputs": [
    {
     "data": {
      "text/plain": [
       "0.0721687836487032"
      ]
     },
     "execution_count": 139,
     "metadata": {},
     "output_type": "execute_result"
    }
   ],
   "source": [
    "# Applying k-Fold Cross Validation \n",
    "from sklearn.model_selection import cross_val_score \n",
    "accuracies = cross_val_score(estimator = classifier, X = X, y = y, cv = 8) \n",
    "accuracies.mean() \n",
    "accuracies.std()"
   ]
  },
  {
   "cell_type": "markdown",
   "id": "41123d8e",
   "metadata": {},
   "source": [
    "#### 3. ALFF analyses"
   ]
  },
  {
   "cell_type": "code",
   "execution_count": 83,
   "id": "b6b24a54",
   "metadata": {},
   "outputs": [
    {
     "name": "stdout",
     "output_type": "stream",
     "text": [
      "ALFF MAPS COMPUTATION\n",
      "Overwrite old files: False\n",
      "... Smooth normalized filtered image that do not need to be flipped\n",
      "Overwrite old files: False\n",
      "[Parallel(n_jobs=15)]: Using backend LokyBackend with 15 concurrent workers.\n",
      "[Parallel(n_jobs=15)]: Done   1 tasks      | elapsed:    8.9s\n",
      "[Parallel(n_jobs=15)]: Done   2 out of  16 | elapsed:    8.9s remaining:  1.0min\n",
      "[Parallel(n_jobs=15)]: Done   3 out of  16 | elapsed:    8.9s remaining:   38.7s\n",
      "[Parallel(n_jobs=15)]: Done   4 out of  16 | elapsed:    8.9s remaining:   26.8s\n",
      "[Parallel(n_jobs=15)]: Done   5 out of  16 | elapsed:    8.9s remaining:   19.7s\n",
      "[Parallel(n_jobs=15)]: Done   6 out of  16 | elapsed:    8.9s remaining:   14.9s\n",
      "[Parallel(n_jobs=15)]: Done   7 out of  16 | elapsed:    8.9s remaining:   11.5s\n",
      "[Parallel(n_jobs=15)]: Done   8 out of  16 | elapsed:    9.0s remaining:    9.0s\n",
      "[Parallel(n_jobs=15)]: Done   9 out of  16 | elapsed:    9.0s remaining:    7.0s\n",
      "[Parallel(n_jobs=15)]: Done  10 out of  16 | elapsed:    9.0s remaining:    5.4s\n",
      "[Parallel(n_jobs=15)]: Done  11 out of  16 | elapsed:    9.0s remaining:    4.1s\n",
      "[Parallel(n_jobs=15)]: Done  12 out of  16 | elapsed:    9.0s remaining:    3.0s\n",
      "[Parallel(n_jobs=15)]: Done  13 out of  16 | elapsed:    9.0s remaining:    2.1s\n",
      "[Parallel(n_jobs=15)]: Done  14 out of  16 | elapsed:    9.0s remaining:    1.3s\n",
      "[Parallel(n_jobs=15)]: Done  16 out of  16 | elapsed:    9.0s remaining:    0.0s\n",
      "[Parallel(n_jobs=15)]: Done  16 out of  16 | elapsed:    9.0s finished\n",
      "... Operation performed in 8.990 s\n",
      "... Smooth normalized filtered image that need to be flipped\n",
      "Overwrite old files: False\n",
      "[Parallel(n_jobs=15)]: Using backend LokyBackend with 15 concurrent workers.\n",
      "[Parallel(n_jobs=15)]: Done   1 tasks      | elapsed:    0.0s\n",
      "[Parallel(n_jobs=15)]: Batch computation too fast (0.0158s.) Setting batch_size=2.\n",
      "[Parallel(n_jobs=15)]: Done   2 out of   6 | elapsed:    0.0s remaining:    0.1s\n",
      "[Parallel(n_jobs=15)]: Done   3 out of   6 | elapsed:    0.0s remaining:    0.0s\n",
      "[Parallel(n_jobs=15)]: Done   4 out of   6 | elapsed:    0.1s remaining:    0.0s\n",
      "[Parallel(n_jobs=15)]: Done   6 out of   6 | elapsed:    0.1s remaining:    0.0s\n",
      "[Parallel(n_jobs=15)]: Done   6 out of   6 | elapsed:    0.1s finished\n",
      "... Operation performed in 0.073 s\n",
      "... Running on data that do not need to be flipped\n",
      "[Parallel(n_jobs=15)]: Using backend LokyBackend with 15 concurrent workers.\n",
      "[Parallel(n_jobs=15)]: Done   1 tasks      | elapsed:    0.0s\n",
      "[Parallel(n_jobs=15)]: Batch computation too fast (0.0100s.) Setting batch_size=2.\n",
      "[Parallel(n_jobs=15)]: Done   2 out of  16 | elapsed:    0.0s remaining:    0.1s\n",
      "[Parallel(n_jobs=15)]: Done   3 out of  16 | elapsed:    0.0s remaining:    0.1s\n",
      "[Parallel(n_jobs=15)]: Done   4 out of  16 | elapsed:    0.0s remaining:    0.0s\n",
      "[Parallel(n_jobs=15)]: Done   5 out of  16 | elapsed:    0.0s remaining:    0.0s\n",
      "[Parallel(n_jobs=15)]: Done   6 out of  16 | elapsed:    0.0s remaining:    0.0s\n",
      "[Parallel(n_jobs=15)]: Done   7 out of  16 | elapsed:    0.0s remaining:    0.0s\n",
      "[Parallel(n_jobs=15)]: Done   8 out of  16 | elapsed:    0.0s remaining:    0.0s\n",
      "[Parallel(n_jobs=15)]: Done   9 out of  16 | elapsed:    0.0s remaining:    0.0s\n",
      "[Parallel(n_jobs=15)]: Done  10 out of  16 | elapsed:    0.0s remaining:    0.0s\n",
      "[Parallel(n_jobs=15)]: Done  11 out of  16 | elapsed:    0.0s remaining:    0.0s\n",
      "[Parallel(n_jobs=15)]: Done  12 out of  16 | elapsed:    0.0s remaining:    0.0s\n",
      "[Parallel(n_jobs=15)]: Done  13 out of  16 | elapsed:    0.0s remaining:    0.0s\n",
      "[Parallel(n_jobs=15)]: Done  14 out of  16 | elapsed:    0.0s remaining:    0.0s\n",
      "[Parallel(n_jobs=15)]: Done  16 out of  16 | elapsed:    0.0s remaining:    0.0s\n",
      "[Parallel(n_jobs=15)]: Done  16 out of  16 | elapsed:    0.0s finished\n",
      "... Operation performed in 0.025 s\n",
      "... Running on data that need to be flipped\n",
      "[Parallel(n_jobs=15)]: Using backend LokyBackend with 15 concurrent workers.\n",
      "[Parallel(n_jobs=15)]: Done   1 tasks      | elapsed:    0.0s\n",
      "[Parallel(n_jobs=15)]: Batch computation too fast (0.0084s.) Setting batch_size=2.\n",
      "[Parallel(n_jobs=15)]: Done   2 out of   6 | elapsed:    0.0s remaining:    0.0s\n",
      "[Parallel(n_jobs=15)]: Done   3 out of   6 | elapsed:    0.0s remaining:    0.0s\n",
      "[Parallel(n_jobs=15)]: Done   4 out of   6 | elapsed:    0.0s remaining:    0.0s\n",
      "[Parallel(n_jobs=15)]: Done   6 out of   6 | elapsed:    0.0s remaining:    0.0s\n",
      "[Parallel(n_jobs=15)]: Done   6 out of   6 | elapsed:    0.0s finished\n",
      "... Operation performed in 0.016 s\n",
      "...DONE!\n"
     ]
    }
   ],
   "source": [
    "sFC.compute_alff_maps()"
   ]
  },
  {
   "cell_type": "code",
   "execution_count": 84,
   "id": "9256c1d1",
   "metadata": {},
   "outputs": [
    {
     "name": "stdout",
     "output_type": "stream",
     "text": [
      "ALFF IN ROIS\n",
      "Overwrite old files: True\n",
      "Extracting ALFF for subject SUVA-TIMES-002\n",
      "...Session T3\n",
      "230310-07:59:08,667 nipype.interface INFO:\n",
      "\t stdout 2023-03-10T07:59:08.666989:2.786321 \n",
      "230310-07:59:09,373 nipype.interface INFO:\n",
      "\t stdout 2023-03-10T07:59:09.373343:2.870059 \n",
      "230310-07:59:10,0 nipype.interface INFO:\n",
      "\t stdout 2023-03-10T07:59:10.000310:2.995577 \n",
      "230310-07:59:10,590 nipype.interface INFO:\n",
      "\t stdout 2023-03-10T07:59:10.589920:2.970355 \n",
      "Extracting ALFF for subject SUVA-TIMES-003\n",
      "...Session T3\n",
      "230310-07:59:11,380 nipype.interface INFO:\n",
      "\t stdout 2023-03-10T07:59:11.380108:3.620286 \n",
      "230310-07:59:11,979 nipype.interface INFO:\n",
      "\t stdout 2023-03-10T07:59:11.978908:3.321278 \n",
      "230310-07:59:12,553 nipype.interface INFO:\n",
      "\t stdout 2023-03-10T07:59:12.553053:3.859465 \n",
      "230310-07:59:13,164 nipype.interface INFO:\n",
      "\t stdout 2023-03-10T07:59:13.164721:3.775532 \n",
      "Extracting ALFF for subject SUVA-TIMES-006\n",
      "...Session T3\n",
      "230310-07:59:13,995 nipype.interface INFO:\n",
      "\t stdout 2023-03-10T07:59:13.995728:2.933754 \n",
      "230310-07:59:14,597 nipype.interface INFO:\n",
      "\t stdout 2023-03-10T07:59:14.597579:2.746935 \n",
      "230310-07:59:15,260 nipype.interface INFO:\n",
      "\t stdout 2023-03-10T07:59:15.260585:2.602556 \n",
      "230310-07:59:15,857 nipype.interface INFO:\n",
      "\t stdout 2023-03-10T07:59:15.856988:2.553877 \n",
      "Extracting ALFF for subject SUVA-TIMES-007\n",
      "...Session T3\n",
      "230310-07:59:16,625 nipype.interface INFO:\n",
      "\t stdout 2023-03-10T07:59:16.625552:2.396234 \n",
      "230310-07:59:17,216 nipype.interface INFO:\n",
      "\t stdout 2023-03-10T07:59:17.216656:2.523458 \n",
      "230310-07:59:17,814 nipype.interface INFO:\n",
      "\t stdout 2023-03-10T07:59:17.813811:2.458654 \n",
      "230310-07:59:18,418 nipype.interface INFO:\n",
      "\t stdout 2023-03-10T07:59:18.418661:2.605188 \n",
      "Extracting ALFF for subject SUVA-TIMES-008\n",
      "...Session T3\n",
      "230310-07:59:19,266 nipype.interface INFO:\n",
      "\t stdout 2023-03-10T07:59:19.266321:2.255563 \n",
      "230310-07:59:19,842 nipype.interface INFO:\n",
      "\t stdout 2023-03-10T07:59:19.842620:2.372656 \n",
      "230310-07:59:20,475 nipype.interface INFO:\n",
      "\t stdout 2023-03-10T07:59:20.475200:2.307224 \n",
      "230310-07:59:21,55 nipype.interface INFO:\n",
      "\t stdout 2023-03-10T07:59:21.055381:2.329209 \n",
      "Extracting ALFF for subject SUVA-TIMES-010\n",
      "...Session T3\n",
      "230310-07:59:21,961 nipype.interface INFO:\n",
      "\t stdout 2023-03-10T07:59:21.961771:1.575911 \n",
      "230310-07:59:22,601 nipype.interface INFO:\n",
      "\t stdout 2023-03-10T07:59:22.601100:1.663538 \n",
      "230310-07:59:23,261 nipype.interface INFO:\n",
      "\t stdout 2023-03-10T07:59:23.260770:1.640652 \n",
      "230310-07:59:23,893 nipype.interface INFO:\n",
      "\t stdout 2023-03-10T07:59:23.893465:1.721837 \n",
      "Extracting ALFF for subject SUVA-TIMES-014\n",
      "...Session T3\n",
      "230310-07:59:24,737 nipype.interface INFO:\n",
      "\t stdout 2023-03-10T07:59:24.737096:4.091872 \n",
      "230310-07:59:25,347 nipype.interface INFO:\n",
      "\t stdout 2023-03-10T07:59:25.346873:4.322510 \n",
      "230310-07:59:25,926 nipype.interface INFO:\n",
      "\t stdout 2023-03-10T07:59:25.926327:4.165304 \n",
      "230310-07:59:26,539 nipype.interface INFO:\n",
      "\t stdout 2023-03-10T07:59:26.539098:3.952087 \n",
      "Extracting ALFF for subject SUVA-TIMES-021\n",
      "...Session T3\n",
      "230310-07:59:27,342 nipype.interface INFO:\n",
      "\t stdout 2023-03-10T07:59:27.342467:3.745437 \n",
      "230310-07:59:28,1 nipype.interface INFO:\n",
      "\t stdout 2023-03-10T07:59:28.000822:3.561279 \n",
      "230310-07:59:28,627 nipype.interface INFO:\n",
      "\t stdout 2023-03-10T07:59:28.627266:3.606857 \n",
      "230310-07:59:29,241 nipype.interface INFO:\n",
      "\t stdout 2023-03-10T07:59:29.241510:3.530052 \n",
      "Extracting ALFF for subject SUVA-TIMES-022\n",
      "...Session T3\n",
      "230310-07:59:30,32 nipype.interface INFO:\n",
      "\t stdout 2023-03-10T07:59:30.032554:2.499763 \n",
      "230310-07:59:30,667 nipype.interface INFO:\n",
      "\t stdout 2023-03-10T07:59:30.667300:2.608606 \n",
      "230310-07:59:31,324 nipype.interface INFO:\n",
      "\t stdout 2023-03-10T07:59:31.324274:2.455764 \n",
      "230310-07:59:31,966 nipype.interface INFO:\n",
      "\t stdout 2023-03-10T07:59:31.966547:2.523972 \n",
      "Extracting ALFF for subject SUVA-TIMES-023\n",
      "...Session T3\n",
      "230310-07:59:32,809 nipype.interface INFO:\n",
      "\t stdout 2023-03-10T07:59:32.809718:2.738206 \n",
      "230310-07:59:33,461 nipype.interface INFO:\n",
      "\t stdout 2023-03-10T07:59:33.461479:2.639098 \n",
      "230310-07:59:34,115 nipype.interface INFO:\n",
      "\t stdout 2023-03-10T07:59:34.115417:2.674463 \n",
      "230310-07:59:34,727 nipype.interface INFO:\n",
      "\t stdout 2023-03-10T07:59:34.726940:2.513298 \n",
      "Extracting ALFF for subject SUVA-TIMES-025\n",
      "...Session T3\n",
      "230310-07:59:35,919 nipype.interface INFO:\n",
      "\t stdout 2023-03-10T07:59:35.919280:2.799894 \n",
      "230310-07:59:36,555 nipype.interface INFO:\n",
      "\t stdout 2023-03-10T07:59:36.555459:2.643786 \n",
      "230310-07:59:37,148 nipype.interface INFO:\n",
      "\t stdout 2023-03-10T07:59:37.147981:2.860699 \n",
      "230310-07:59:37,804 nipype.interface INFO:\n",
      "\t stdout 2023-03-10T07:59:37.804697:2.738534 \n",
      "Extracting ALFF for subject SUVA-TIMES-026\n",
      "...Session T3\n",
      "230310-07:59:38,625 nipype.interface INFO:\n",
      "\t stdout 2023-03-10T07:59:38.625566:2.986481 \n",
      "230310-07:59:39,244 nipype.interface INFO:\n",
      "\t stdout 2023-03-10T07:59:39.243791:2.683846 \n",
      "230310-07:59:39,885 nipype.interface INFO:\n",
      "\t stdout 2023-03-10T07:59:39.885313:2.797472 \n",
      "230310-07:59:40,463 nipype.interface INFO:\n",
      "\t stdout 2023-03-10T07:59:40.462889:2.622936 \n",
      "Extracting ALFF for subject SUVA-TIMES-028\n",
      "...Session T3\n",
      "230310-07:59:41,264 nipype.interface INFO:\n",
      "\t stdout 2023-03-10T07:59:41.264521:2.394376 \n",
      "230310-07:59:41,896 nipype.interface INFO:\n",
      "\t stdout 2023-03-10T07:59:41.895806:2.541273 \n",
      "230310-07:59:42,544 nipype.interface INFO:\n",
      "\t stdout 2023-03-10T07:59:42.544460:1.988082 \n",
      "230310-07:59:43,174 nipype.interface INFO:\n",
      "\t stdout 2023-03-10T07:59:43.174030:2.086562 \n",
      "Extracting ALFF for subject SUVA-TIMES-031\n",
      "...Session T3\n",
      "230310-07:59:44,17 nipype.interface INFO:\n",
      "\t stdout 2023-03-10T07:59:44.017197:2.055819 \n",
      "230310-07:59:44,663 nipype.interface INFO:\n",
      "\t stdout 2023-03-10T07:59:44.663396:2.151817 \n",
      "230310-07:59:45,285 nipype.interface INFO:\n",
      "\t stdout 2023-03-10T07:59:45.285744:2.219364 \n",
      "230310-07:59:45,893 nipype.interface INFO:\n",
      "\t stdout 2023-03-10T07:59:45.893067:2.208990 \n",
      "Extracting ALFF for subject sub-001\n",
      "...Session \n",
      "230310-07:59:46,718 nipype.interface INFO:\n",
      "\t stdout 2023-03-10T07:59:46.718495:2.865695 \n",
      "230310-07:59:47,359 nipype.interface INFO:\n",
      "\t stdout 2023-03-10T07:59:47.358999:3.111347 \n",
      "230310-07:59:48,28 nipype.interface INFO:\n",
      "\t stdout 2023-03-10T07:59:48.028575:2.806803 \n",
      "230310-07:59:48,661 nipype.interface INFO:\n",
      "\t stdout 2023-03-10T07:59:48.661692:2.904486 \n",
      "Extracting ALFF for subject sub-002\n",
      "...Session \n",
      "230310-07:59:49,480 nipype.interface INFO:\n",
      "\t stdout 2023-03-10T07:59:49.480027:2.589689 \n",
      "230310-07:59:50,94 nipype.interface INFO:\n",
      "\t stdout 2023-03-10T07:59:50.094200:2.695229 \n",
      "230310-07:59:50,681 nipype.interface INFO:\n",
      "\t stdout 2023-03-10T07:59:50.681154:2.704669 \n",
      "230310-07:59:51,269 nipype.interface INFO:\n",
      "\t stdout 2023-03-10T07:59:51.269117:2.758682 \n",
      "Extracting ALFF for subject sub-004\n",
      "...Session \n",
      "230310-07:59:52,49 nipype.interface INFO:\n",
      "\t stdout 2023-03-10T07:59:52.049019:2.744921 \n",
      "230310-07:59:52,654 nipype.interface INFO:\n",
      "\t stdout 2023-03-10T07:59:52.654545:2.447472 \n",
      "230310-07:59:53,263 nipype.interface INFO:\n",
      "\t stdout 2023-03-10T07:59:53.263707:2.895791 \n",
      "230310-07:59:53,878 nipype.interface INFO:\n",
      "\t stdout 2023-03-10T07:59:53.878347:2.784198 \n",
      "Extracting ALFF for subject sub-005\n",
      "...Session \n",
      "230310-07:59:54,661 nipype.interface INFO:\n",
      "\t stdout 2023-03-10T07:59:54.661699:2.478674 \n",
      "230310-07:59:55,296 nipype.interface INFO:\n",
      "\t stdout 2023-03-10T07:59:55.296196:2.428023 \n",
      "230310-07:59:55,956 nipype.interface INFO:\n",
      "\t stdout 2023-03-10T07:59:55.956219:2.547816 \n",
      "230310-07:59:56,606 nipype.interface INFO:\n",
      "\t stdout 2023-03-10T07:59:56.606483:2.461907 \n",
      "Extracting ALFF for subject sub-007\n",
      "...Session \n",
      "230310-07:59:57,462 nipype.interface INFO:\n",
      "\t stdout 2023-03-10T07:59:57.462027:2.675166 \n",
      "230310-07:59:58,88 nipype.interface INFO:\n",
      "\t stdout 2023-03-10T07:59:58.088310:2.608560 \n",
      "230310-07:59:58,711 nipype.interface INFO:\n",
      "\t stdout 2023-03-10T07:59:58.711402:2.723159 \n",
      "230310-07:59:59,325 nipype.interface INFO:\n",
      "\t stdout 2023-03-10T07:59:59.325111:2.532933 \n",
      "Extracting ALFF for subject sub-009\n",
      "...Session \n",
      "230310-08:00:00,121 nipype.interface INFO:\n",
      "\t stdout 2023-03-10T08:00:00.120787:3.034872 \n",
      "230310-08:00:00,745 nipype.interface INFO:\n",
      "\t stdout 2023-03-10T08:00:00.745172:2.893286 \n",
      "230310-08:00:01,365 nipype.interface INFO:\n",
      "\t stdout 2023-03-10T08:00:01.365405:2.807098 \n",
      "230310-08:00:01,948 nipype.interface INFO:\n",
      "\t stdout 2023-03-10T08:00:01.947827:2.738031 \n"
     ]
    },
    {
     "name": "stdout",
     "output_type": "stream",
     "text": [
      "Extracting ALFF for subject sub-011\n",
      "...Session \n",
      "230310-08:00:02,738 nipype.interface INFO:\n",
      "\t stdout 2023-03-10T08:00:02.738234:2.913221 \n",
      "230310-08:00:03,356 nipype.interface INFO:\n",
      "\t stdout 2023-03-10T08:00:03.355831:2.988704 \n",
      "230310-08:00:03,936 nipype.interface INFO:\n",
      "\t stdout 2023-03-10T08:00:03.936689:2.805968 \n",
      "230310-08:00:04,565 nipype.interface INFO:\n",
      "\t stdout 2023-03-10T08:00:04.565422:2.812623 \n",
      "Extracting ALFF for subject sub-012\n",
      "...Session \n",
      "230310-08:00:05,313 nipype.interface INFO:\n",
      "\t stdout 2023-03-10T08:00:05.313720:3.061135 \n",
      "230310-08:00:05,913 nipype.interface INFO:\n",
      "\t stdout 2023-03-10T08:00:05.912897:2.820858 \n",
      "230310-08:00:06,513 nipype.interface INFO:\n",
      "\t stdout 2023-03-10T08:00:06.513381:3.649138 \n",
      "230310-08:00:07,81 nipype.interface INFO:\n",
      "\t stdout 2023-03-10T08:00:07.081004:3.344598 \n"
     ]
    },
    {
     "data": {
      "text/html": [
       "<div>\n",
       "<style scoped>\n",
       "    .dataframe tbody tr th:only-of-type {\n",
       "        vertical-align: middle;\n",
       "    }\n",
       "\n",
       "    .dataframe tbody tr th {\n",
       "        vertical-align: top;\n",
       "    }\n",
       "\n",
       "    .dataframe thead th {\n",
       "        text-align: right;\n",
       "    }\n",
       "</style>\n",
       "<table border=\"1\" class=\"dataframe\">\n",
       "  <thead>\n",
       "    <tr style=\"text-align: right;\">\n",
       "      <th></th>\n",
       "      <th>sub</th>\n",
       "      <th>sess</th>\n",
       "      <th>roi</th>\n",
       "      <th>alff</th>\n",
       "    </tr>\n",
       "  </thead>\n",
       "  <tbody>\n",
       "    <tr>\n",
       "      <th>0</th>\n",
       "      <td>SUVA-TIMES-002</td>\n",
       "      <td>T3</td>\n",
       "      <td>iCAP_C5toC7_VR</td>\n",
       "      <td>2.786321</td>\n",
       "    </tr>\n",
       "    <tr>\n",
       "      <th>1</th>\n",
       "      <td>SUVA-TIMES-002</td>\n",
       "      <td>T3</td>\n",
       "      <td>iCAP_C5toC7_VL</td>\n",
       "      <td>2.870059</td>\n",
       "    </tr>\n",
       "    <tr>\n",
       "      <th>2</th>\n",
       "      <td>SUVA-TIMES-002</td>\n",
       "      <td>T3</td>\n",
       "      <td>iCAP_C5toC7_DR</td>\n",
       "      <td>2.995577</td>\n",
       "    </tr>\n",
       "    <tr>\n",
       "      <th>3</th>\n",
       "      <td>SUVA-TIMES-002</td>\n",
       "      <td>T3</td>\n",
       "      <td>iCAP_C5toC7_DL</td>\n",
       "      <td>2.970355</td>\n",
       "    </tr>\n",
       "    <tr>\n",
       "      <th>4</th>\n",
       "      <td>SUVA-TIMES-003</td>\n",
       "      <td>T3</td>\n",
       "      <td>iCAP_C5toC7_VR</td>\n",
       "      <td>3.620286</td>\n",
       "    </tr>\n",
       "    <tr>\n",
       "      <th>...</th>\n",
       "      <td>...</td>\n",
       "      <td>...</td>\n",
       "      <td>...</td>\n",
       "      <td>...</td>\n",
       "    </tr>\n",
       "    <tr>\n",
       "      <th>83</th>\n",
       "      <td>sub-011</td>\n",
       "      <td></td>\n",
       "      <td>iCAP_C5toC7_DL</td>\n",
       "      <td>2.812623</td>\n",
       "    </tr>\n",
       "    <tr>\n",
       "      <th>84</th>\n",
       "      <td>sub-012</td>\n",
       "      <td></td>\n",
       "      <td>iCAP_C5toC7_VR</td>\n",
       "      <td>3.061135</td>\n",
       "    </tr>\n",
       "    <tr>\n",
       "      <th>85</th>\n",
       "      <td>sub-012</td>\n",
       "      <td></td>\n",
       "      <td>iCAP_C5toC7_VL</td>\n",
       "      <td>2.820858</td>\n",
       "    </tr>\n",
       "    <tr>\n",
       "      <th>86</th>\n",
       "      <td>sub-012</td>\n",
       "      <td></td>\n",
       "      <td>iCAP_C5toC7_DR</td>\n",
       "      <td>3.649138</td>\n",
       "    </tr>\n",
       "    <tr>\n",
       "      <th>87</th>\n",
       "      <td>sub-012</td>\n",
       "      <td></td>\n",
       "      <td>iCAP_C5toC7_DL</td>\n",
       "      <td>3.344598</td>\n",
       "    </tr>\n",
       "  </tbody>\n",
       "</table>\n",
       "<p>88 rows × 4 columns</p>\n",
       "</div>"
      ],
      "text/plain": [
       "               sub sess             roi      alff\n",
       "0   SUVA-TIMES-002   T3  iCAP_C5toC7_VR  2.786321\n",
       "1   SUVA-TIMES-002   T3  iCAP_C5toC7_VL  2.870059\n",
       "2   SUVA-TIMES-002   T3  iCAP_C5toC7_DR  2.995577\n",
       "3   SUVA-TIMES-002   T3  iCAP_C5toC7_DL  2.970355\n",
       "4   SUVA-TIMES-003   T3  iCAP_C5toC7_VR  3.620286\n",
       "..             ...  ...             ...       ...\n",
       "83         sub-011       iCAP_C5toC7_DL  2.812623\n",
       "84         sub-012       iCAP_C5toC7_VR  3.061135\n",
       "85         sub-012       iCAP_C5toC7_VL  2.820858\n",
       "86         sub-012       iCAP_C5toC7_DR  3.649138\n",
       "87         sub-012       iCAP_C5toC7_DL  3.344598\n",
       "\n",
       "[88 rows x 4 columns]"
      ]
     },
     "execution_count": 84,
     "metadata": {},
     "output_type": "execute_result"
    },
    {
     "data": {
      "image/png": "[encoded data removed]",
      "text/plain": [
       "<Figure size 720x432 with 1 Axes>"
      ]
     },
     "metadata": {
      "needs_background": "light"
     },
     "output_type": "display_data"
    }
   ],
   "source": [
    "sFC.compute_alff_rois()"
   ]
  },
  {
   "cell_type": "code",
   "execution_count": null,
   "id": "049b63bb",
   "metadata": {},
   "outputs": [],
   "source": []
  }
 ],
 "metadata": {
  "kernelspec": {
   "display_name": "Python 3 (ipykernel)",
   "language": "python",
   "name": "python3"
  },
  "language_info": {
   "codemirror_mode": {
    "name": "ipython",
    "version": 3
   },
   "file_extension": ".py",
   "mimetype": "text/x-python",
   "name": "python",
   "nbconvert_exporter": "python",
   "pygments_lexer": "ipython3",
   "version": "3.9.12"
  }
 },
 "nbformat": 4,
 "nbformat_minor": 5
}
