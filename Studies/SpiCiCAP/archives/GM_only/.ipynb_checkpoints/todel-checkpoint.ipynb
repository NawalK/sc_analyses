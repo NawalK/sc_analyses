{
 "cells": [
  {
   "cell_type": "markdown",
   "metadata": {},
   "source": [
    "# <font color=#f4665a>  BMPD : Spinal Cord fMRI denoising </font>"
   ]
  },
  {
   "cell_type": "markdown",
   "metadata": {},
   "source": [
    "### Project: BMPD\n",
    "@ author: Caroline Landelle, caroline.landelle@mcgill.ca // landelle.caroline@gmail.com\n",
    "https://docs.google.com/spreadsheets/d/12EKgE6-lZ5C0OC_ec8EEtTKHIeUBmjOI8rhFVgoohhE/edit#gid=648822160\n",
    "\n",
    "**Description:** This notebook provides code for BOLD signal fMRI resting-state denoising for the SP-Parkdata. \n",
    "\n",
    "**Toolbox required:** Matlab, SPM, Tapas PhysiO Toolbox\n",
    "https://github.com/translationalneuromodeling/tapas/tree/master/PhysIO\n",
    "https://www.sciencedirect.com/science/article/pii/S016502701630259X\n",
    "\n",
    "**Inputs**:  \n",
    "This notebook required this the following prepross anatomical, fmri images and physiological recoridings\n",
    "\n",
    "\n",
    "**Ouputs**:\n",
    "See the output description at each step of the Notebook."
   ]
  },
  {
   "cell_type": "markdown",
   "metadata": {},
   "source": [
    "## <font color=#f4665a> I. Imports & Variables initialization </font> \n",
    "### <font color=#f4665a> I.1. Imports </font>"
   ]
  },
  {
   "cell_type": "code",
   "execution_count": 6,
   "metadata": {},
   "outputs": [],
   "source": [
    "import matlab.engine\n",
    "import gzip, json\n",
    "import os, sys, re, fnmatch\n",
    "import numpy as np\n",
    "import pandas as pd\n",
    "import nibabel as nb\n",
    "import shutil\n",
    "\n",
    "# Bids Images\n",
    "#import bids.grabbids\n",
    "from bids.layout import BIDSLayout\n",
    "\n",
    "# Spinal cord Toolbox\n",
    "sys.path.append(\"/cerebro/cerebro1/dataset/bmpd/derivatives/thibault_test/code/toolbox/spinalcordtoolbox-5.0.0\")\n",
    "sys.path.append(\"/cerebro/cerebro1/dataset/bmpd/derivatives/thibault_test/code/toolbox/spinalcordtoolbox-5.0.0/scripts\") \n",
    "### Mac Caro:\n",
    "#sys.path.append('/Users/carolinelandelle/sct/scripts')\n",
    "#sys.path.append('/Users/carolinelandelle/sct')\n",
    "#os.environ[\"PATH\"] += os.pathsep + '/Users/carolinelandelle/sct/bin'\n",
    "#os.environ[\"PATH\"] += os.pathsep + '/usr/local/fsl/bin'\n",
    "\n",
    "from sct_image import Image #compute_dice #,find_zmin_zmax\n",
    "from spinalcordtoolbox.math import binarize\n",
    "from spinalcordtoolbox.utils.sys import run_proc\n",
    "\n",
    "#plots\n",
    "from scipy.io import loadmat\n",
    "import matplotlib.gridspec as GridSpec\n",
    "import matplotlib.pyplot as plt"
   ]
  },
  {
   "cell_type": "markdown",
   "metadata": {},
   "source": [
    "### <font color=#f4665a>  I.2 Define directories and initialize variables </font>\n",
    "Directories must be modified if the analyses are not process on cerebro"
   ]
  },
  {
   "cell_type": "code",
   "execution_count": 7,
   "metadata": {},
   "outputs": [],
   "source": [
    "# I.2.1 Directories\n",
    "Root='/cerebro/cerebro1/dataset/' \n",
    "Directories={'RawDataDir':Root + 'bmpd/rawdata/',\n",
    "             'OutputDir': Root + 'bmpd/derivatives/spinalcord_processing/',\n",
    "             'DenoisingDir': Root + 'bmpd/derivatives/Func_denoising/',\n",
    "             'SourceData':Root + 'bmpd/sourcedata/',\n",
    "             'DicomDir': Root + 'bmpd/derivatives/2021-02_last_dicom_AP_acq/rawdata_func_dicom/',\n",
    "             'funcDir':'func/',\n",
    "             'AnatDir':'anat/',\n",
    "             'Tasks':['rest'], # task\n",
    "             'Runs':['/'], # the runs if there is many for one given task\n",
    "             'Rest_runs':['1'],\n",
    "             'list_subjects':[]}\n",
    "\n",
    "\n",
    "#Directories['list_subjects']=['P004','P005','P006','P007','P008','P009','P010']\n",
    "#Directories['list_subjects']=['P011','P012','P013','P014','P015','P016','P017','P018','P019','P020']\n",
    "#Directories['list_subjects']=['P021','P022','P023','P024','P025','P026','P027','P029','P030']\n",
    "#Directories['list_subjects']=['P031','P032','P033','P035','P036','P038','P039','P040']\n",
    "#Directories['list_subjects']=['P041','P042','P043','P045','P046','P047','P048','P049']\n",
    "#Directories['list_subjects']=['P052','P053','P055','P056','P059','P060']\n",
    "#Directories['list_subjects']=['P061','P062','P064','P065','P066','P067','P068','P069','P070']\n",
    "#Directories['list_subjects']=['P071','P072','P073','P075','P076','P077','P078','P079']\n",
    "#Directories['list_subjects']=['P080','P081','P082','P084','P085','P086','P087','P088','P089','P090']\n",
    "#Directories['list_subjects']=['P091','P092','P093','P094','P095','P096']\n",
    "Directories['list_subjects']=['P108']"
   ]
  },
  {
   "cell_type": "markdown",
   "metadata": {},
   "source": [
    "### <font color=#f4665a> I.3. Select files </font>"
   ]
  },
  {
   "cell_type": "code",
   "execution_count": 8,
   "metadata": {},
   "outputs": [
    {
     "name": "stdout",
     "output_type": "stream",
     "text": [
      "Define directories and initialize variables: Done\n",
      "Participants to be processed ['P108']\n"
     ]
    }
   ],
   "source": [
    "SubDir_Physio_files={} # Subject directory for physio files\n",
    "SubDir_func={}\n",
    "SubDir_Denoising={} # Subject directory for denoising files (ie outputs)\n",
    "\n",
    "SubDir_SourceData={}\n",
    "Files_T1w_CSF={'brain':{},'spinalcord':{}} # T1w image \n",
    "Files_json={}\n",
    "Files_func={'brain':{},'brain_mean':{},'spinalcord':{},'spinalcord_mean':{}} # Functional images related to sc slices\n",
    "Files_Physio={}\n",
    "Dir_Dicom={}\n",
    "Files_Dicom={}\n",
    "Files_json={} # json files (.json) => param acquisition\n",
    "fMRI_params={} # will contain parameter acquisition (TR, SliceTiming...)\n",
    "Physio_File={}\n",
    "Motion_Files={'brain':{},'spinalcord':{}}\n",
    "Files_warp={'brain':{},'spinalcord':{}}\n",
    "Files_func_Dir={'MOCO':{'brain':{},'spinalcord':{}},\n",
    "               'Coreg':{'brain':{},'spinalcord':{}}}\n",
    "\n",
    "for subject_name in Directories['list_subjects']:\n",
    "    Dicom_files=os.listdir(Directories['DicomDir'] + '/sub-' + subject_name + '/')\n",
    "    Dicom_files.sort()\n",
    "    layout_raw = BIDSLayout(Directories['RawDataDir'] + 'sub-' + subject_name, validate=False,ignore=[re.compile('func/.*_physio.json')]) # processing derivatives\n",
    "    layout_processed = BIDSLayout(Directories['OutputDir'] + 'sub-' + subject_name , validate=False) # processing derivatives\n",
    "    SubDir_func[subject_name]= Directories['OutputDir'] + 'sub-' + subject_name + '/func/'\n",
    "   \n",
    "    SubDir_Physio_files[subject_name]= Directories['SourceData']  + '/' + subject_name +  '/pmu/'\n",
    "    \n",
    "    Files_func_Dir['MOCO']['spinalcord'][subject_name]={}\n",
    "    Files_func_Dir['MOCO']['brain'][subject_name]={}\n",
    "    Files_func_Dir['Coreg']['spinalcord'][subject_name]={}\n",
    "    Files_func_Dir['Coreg']['brain'][subject_name]={}\n",
    "    \n",
    "    Files_func['spinalcord'][subject_name]={}\n",
    "    Files_func['spinalcord_mean'][subject_name]={}\n",
    "    Files_func['brain'][subject_name]={}\n",
    "    Files_func['brain_mean'][subject_name]={}\n",
    "    \n",
    "    Files_Physio[subject_name]={}\n",
    "    Dir_Dicom[subject_name]={}\n",
    "    Files_Dicom[subject_name]={}\n",
    "    Files_json[subject_name]={}\n",
    "    Motion_Files['brain'][subject_name]={}\n",
    "    Motion_Files['spinalcord'][subject_name]={}\n",
    "    Files_warp['spinalcord'][subject_name]={}\n",
    "    Files_warp['brain'][subject_name]={}\n",
    "    \n",
    "    \n",
    "    Files_T1w_CSF['brain'][subject_name]=Directories['OutputDir'] + 'sub-' + subject_name + '/anat/brain/segmentation/mri/' + fnmatch.filter(os.listdir(Directories['OutputDir'] + 'sub-' + subject_name + '/anat/brain/segmentation/mri/'),'p3*brain.nii')[0]\n",
    "    Files_T1w_CSF['spinalcord'][subject_name]=Directories['OutputDir'] + 'sub-' + subject_name + '/anat/T1w_sc_coreg_new_CL/template_in_T1w/template/PAM50_csf.nii.gz'\n",
    "   \n",
    "    fMRI_params[subject_name]={}\n",
    "    \n",
    "    dicoms=os.listdir(Directories['DicomDir'] + '/sub-' + subject_name + '/')\n",
    "    dicoms.sort()\n",
    "    # name of physio file are not the same for all subjects\n",
    " \n",
    "    for task in Directories['Tasks']:\n",
    "        if task == 'rest':\n",
    "            dicoms_rest=fnmatch.filter(dicoms,'*rest*')\n",
    "            for run in range(0,len(Directories['Rest_runs'])):\n",
    "                Files_Physio[subject_name][run]={}\n",
    "                Files_json[subject_name][run]={}\n",
    "                Motion_Files['spinalcord'][subject_name][run]=SubDir_func[subject_name] + Directories['Runs'][run] + '3_MOCO/spinalcord/moco_params.txt'\n",
    "                Dir_Dicom[subject_name][run]={}\n",
    "                Files_Dicom[subject_name][run]={}\n",
    "                Files_func_Dir['MOCO']['spinalcord'][subject_name][run]=Directories['OutputDir'] + 'sub-' + subject_name + '/func/3_MOCO/spinalcord/'\n",
    "                Files_func_Dir['MOCO']['brain'][subject_name][run]=Directories['OutputDir'] + 'sub-' + subject_name + '/func/3_MOCO/brain/'\n",
    "                Files_func_Dir['Coreg']['spinalcord'][subject_name][run]=Directories['OutputDir'] + 'sub-' + subject_name + '/func/5_Coregistration/spinalcord/'\n",
    "                Files_func_Dir['Coreg']['brain'][subject_name][run]=Directories['OutputDir'] + 'sub-' + subject_name + '/func/5_Coregistration/brain/'\n",
    "                \n",
    "                Files_func['spinalcord'][subject_name][run]=Files_func_Dir['MOCO']['spinalcord'][subject_name][run] +  '/' + fnmatch.filter(os.listdir(Files_func_Dir['MOCO']['spinalcord'][subject_name][run]),'*moco_croppedXY.nii.gz')[0]\n",
    "                Files_func['spinalcord_mean'][subject_name][run]=Files_func_Dir['MOCO']['spinalcord'][subject_name][run] +  '/' + fnmatch.filter(os.listdir(Files_func_Dir['MOCO']['spinalcord'][subject_name][run]),'*moco_mean_croppedXY.nii.gz')[0]\n",
    "                Files_func['spinalcord'][subject_name][run]=layout_processed.get(subject=subject_name, task=task,suffix='croppedXY', extension='.nii.gz', return_type='filename')[0]\n",
    "                Files_func['brain'][subject_name][run]=Files_func_Dir['MOCO']['brain'][subject_name][run] +  '/' + fnmatch.filter(os.listdir(Files_func_Dir['MOCO']['brain'][subject_name][run]),'*moco.nii.gz')[0]\n",
    "                Files_func['brain_mean'][subject_name][run]=Files_func_Dir['MOCO']['brain'][subject_name][run] +  '/' + fnmatch.filter(os.listdir(Files_func_Dir['MOCO']['brain'][subject_name][run]),'*moco_mean.nii.gz')[0]\n",
    "                \n",
    "                Files_json[subject_name][run]=layout_raw.get(subject=subject_name, task=task, suffix='bold', extension='.json',return_type='filename')[0]\n",
    "\n",
    "                Files_Physio[subject_name][run]['Physio_resp']= subject_name + '_rest.resp' #'_corrected.resp'\n",
    "                Files_Physio[subject_name][run]['Physio_puls']= subject_name + '_rest.puls' #'_corrected.puls'\n",
    "                Files_Physio[subject_name][run]['Physio_ext']= subject_name + '_rest.ext' #'_corrected.ext'\n",
    "                Files_Physio[subject_name][run]['BIDS']= Directories['RawDataDir'] + 'sub-' + subject_name + '/func/sub-' + subject_name + '_task-rest_physio.tsv.gz'\n",
    "                if subject_name=='P057' or subject_name=='P037' or subject_name=='P058' or subject_name=='P099':\n",
    "                    Files_Physio[subject_name][run]['BIDS']= Directories['RawDataDir'] + 'sub-' + subject_name + '/func/sub-' + subject_name + '_task-rest_run-02_physio.tsv.gz'\n",
    "                    Files_Physio[subject_name][run]['BIDS_copy']= Directories['DenoisingDir'] + 'sub-' + subject_name + '/sub-' + subject_name + '_task-rest_run-02_physio.tsv.gz'\n",
    "                elif subject_name=='P051':\n",
    "                    Files_Physio[subject_name][run]['BIDS']= Directories['RawDataDir'] + 'sub-' + subject_name + '/func/sub-' + subject_name + '_task-rest_run-01_physio.tsv.gz'\n",
    "                    Files_Physio[subject_name][run]['BIDS_copy']= Directories['DenoisingDir'] + 'sub-' + subject_name + '/sub-' + subject_name + '_task-rest_run-01_physio.tsv.gz'\n",
    "              \n",
    "                else:\n",
    "                    Files_Physio[subject_name][run]['BIDS']= Directories['RawDataDir'] + 'sub-' + subject_name + '/func/sub-' + subject_name + '_task-rest_physio.tsv.gz'\n",
    "                    Files_Physio[subject_name][run]['BIDS_copy']= Directories['DenoisingDir'] + 'sub-' + subject_name + '/sub-' + subject_name + '_task-rest_physio.tsv.gz'\n",
    "                \n",
    "                Motion_Files['brain'][subject_name][run]=layout_processed.get(subject=subject_name, task=task, \n",
    "                                                                              extension='nii.gz.par', return_type='filename')[0]\n",
    "                \n",
    "                Files_warp['spinalcord'][subject_name][run]=Files_func_Dir['Coreg']['spinalcord'][subject_name][run] +  '/' + fnmatch.filter(os.listdir(Files_func_Dir['Coreg']['spinalcord'][subject_name][run]),'warp*')[0]\n",
    "                Files_warp['brain'][subject_name][run]=Files_func_Dir['Coreg']['brain'][subject_name][run] +  '/' + fnmatch.filter(os.listdir(Files_func_Dir['Coreg']['brain'][subject_name][run]),'*reg.mat')[0]\n",
    "\n",
    "                \n",
    "                R = re.compile(\".*task*.\")\n",
    "                Func_dir_Dicom = [folder for folder in os.listdir(Directories['DicomDir']  + 'sub-' + subject_name + '/')  if R.match(folder)]\n",
    "                \n",
    "                Dir_Dicom[subject_name][run]=Directories['DicomDir']  + 'sub-' + subject_name + '/' + Func_dir_Dicom[0]\n",
    "                Files_Dicom[subject_name][run]=Dir_Dicom[subject_name][run] + '/' + fnmatch.filter(os.listdir(Dir_Dicom[subject_name][run]),'*265*')[0]\n",
    "                with open(Files_json[subject_name][run]) as g:\n",
    "                    fMRI_params[subject_name][run] = json.load(g)\n",
    "        \n",
    "        \n",
    "#print(Files_Dicom[subject_name][run])\n",
    "print('Define directories and initialize variables: Done')\n",
    "print('Participants to be processed ' + str(Directories['list_subjects']))"
   ]
  },
  {
   "cell_type": "markdown",
   "metadata": {},
   "source": [
    "### <font color=#f4665a> II. Coregister brain and spinal cord csf images in func space  \n",
    "This step is necessary to apply denoising in these regions.  \n",
    "I decided to apply the transofrmation in this direction as it will be faster that coreg the func to the T1w.  \n",
    "- i = CSF (Pam50 in anat), PAM50_csf.nii.gz  \n",
    "- d= mean moco image, *moco_croppedXY.nii.gz\n",
    "- o= name of the output, PAM50_csf_inFunc.nii.gz\n",
    "- w= inverse warp file func to anat, *mean_coreg_in_template_inv.nii.gz"
   ]
  },
  {
   "cell_type": "code",
   "execution_count": 9,
   "metadata": {},
   "outputs": [
    {
     "name": "stdout",
     "output_type": "stream",
     "text": [
      "CSF SC already warp in anat\n",
      "CSF brain already warp in anat\n"
     ]
    }
   ],
   "source": [
    "Files_T1w_CSF['brain_inFunc']={}\n",
    "Files_T1w_CSF['spinalcord_inFunc']={}\n",
    "for subject_name in Directories['list_subjects']:\n",
    "    for structure in ['spinalcord','brain']:\n",
    "        \n",
    "# Spinalcord Coregistration________________________\n",
    "        if structure == 'spinalcord':\n",
    "            Files_T1w_CSF['spinalcord_inFunc'][subject_name]=Directories['OutputDir'] + 'sub-' + subject_name + '/anat/T1w_sc_coreg_new_CL/template_in_T1w/template/PAM50_csf_inFunc.nii.gz'\n",
    "            #/!\\/!\\/!\\/!\\\n",
    "            #DO NOT RERUN THIS STEP, if you need to please recheck after CSF in Func and correct the image if necessary\n",
    "            # If you run this step for the first time please check CSF in Func and correct if necessary\n",
    "            if not os.path.exists(Files_T1w_CSF['spinalcord_inFunc'][subject_name]):\n",
    "                # Apply transformation CSF in anat to CSF in Func\n",
    "                run_proc('sct_apply_transfo -i {} -d {} -o {} -w {} '.format(Files_T1w_CSF['spinalcord'][subject_name],\n",
    "                                                             Files_func['spinalcord_mean'][subject_name][run],\n",
    "                                                             Files_T1w_CSF['spinalcord_inFunc'][subject_name],\n",
    "                                                             Files_warp['spinalcord'][subject_name][run]))\n",
    "                \n",
    "                # transform the output image in a binary image\n",
    "                run_proc('fslmaths {} -thr 0.5 -bin {}'.format(Files_T1w_CSF['spinalcord_inFunc'][subject_name],\n",
    "                                                             Files_T1w_CSF['spinalcord_inFunc'][subject_name],\n",
    "                                                             ))\n",
    "            else:\n",
    "                print('CSF SC already warp in anat')\n",
    "                \n",
    "# Brain Coregistration ________________________\n",
    "        if structure == 'brain':\n",
    "            Files_T1w_CSF['brain_inFunc'][subject_name]=Directories['OutputDir'] + 'sub-' + subject_name + '/anat/brain/segmentation/mri/p3sub-' + subject_name + '_csfT1w_brain_inFunc.nii.gz'\n",
    "            if not os.path.exists(Files_T1w_CSF['brain_inFunc'][subject_name]):\n",
    "                inv_warp=Files_warp['brain'][subject_name][run].split('.mat')[0] + '_inv.mat'\n",
    "            # Create inverse warpfield from anat to func\n",
    "                run_proc('convert_xfm -omat {} -inverse {}'.format(inv_warp,Files_warp['brain'][subject_name][run]))\n",
    "            # Apply transformation CSF in anat to CSF in Func\n",
    "                run_proc('flirt -in {} -ref {} -o {} -omat {} -dof 6'.format(Files_T1w_CSF['brain'][subject_name],\n",
    "                                                                             Files_func['brain_mean'][subject_name][run],\n",
    "                                                                             Files_T1w_CSF['brain_inFunc'][subject_name],\n",
    "                                                                             inv_warp))\n",
    "             # transform the output image in a binary image                                                                                 \n",
    "                run_proc('fslmaths {} -thr 0.5 -bin {}'.format(Files_T1w_CSF['brain_inFunc'][subject_name],\n",
    "                                                               Files_T1w_CSF['brain_inFunc'][subject_name]))\n",
    "            else:\n",
    "                print('CSF brain already warp in anat')\n",
    "          "
   ]
  },
  {
   "cell_type": "markdown",
   "metadata": {},
   "source": [
    "### <font color=#f4665a> II. Create directories and Unzip files\n",
    "#### <font color=#f4665a> II.1 Create denoising directories\n",
    "'denoising/Tapas' in individual derivative folder"
   ]
  },
  {
   "cell_type": "code",
   "execution_count": 10,
   "metadata": {},
   "outputs": [
    {
     "name": "stdout",
     "output_type": "stream",
     "text": [
      "Denoising folder created for P108\n"
     ]
    }
   ],
   "source": [
    "for subject_name in Directories['list_subjects']:   \n",
    "    SubDir_Denoising[subject_name]={}\n",
    "    \n",
    "    for run in range(0,len(Directories['Runs'])):\n",
    "        SubDir_Denoising[subject_name][run]= Directories['DenoisingDir'] + 'sub-' + subject_name + '/' \n",
    "        if not os.path.exists(SubDir_Denoising[subject_name][run]):\n",
    "            os.mkdir(SubDir_Denoising[subject_name][run])\n",
    "            os.mkdir(SubDir_Denoising[subject_name][run] + '/spinalcord')\n",
    "            os.mkdir(SubDir_Denoising[subject_name][run] + '/spinalcord/Tapas')\n",
    "            os.mkdir(SubDir_Denoising[subject_name][run] + '/brain')\n",
    "            os.mkdir(SubDir_Denoising[subject_name][run] + '/brain/Tapas')\n",
    "            print('Denoising folder created for ' + subject_name)\n",
    "        else:\n",
    "            print('Denoising folder already exists for ' + subject_name)"
   ]
  },
  {
   "cell_type": "markdown",
   "metadata": {},
   "source": [
    "#### <font color=#f4665a> II.2 Unzip files for SPM & Create .txt files from .tsv file"
   ]
  },
  {
   "cell_type": "code",
   "execution_count": 11,
   "metadata": {},
   "outputs": [
    {
     "name": "stdout",
     "output_type": "stream",
     "text": [
      "Run: unzip for func datas for sub: P108 run: /\n",
      "Unzip func done for P108\n",
      "*******************************************\n",
      "unzip done for func datas for sub: P108 run: /\n",
      "Run: unzip for func datas for sub: P108 run: /\n",
      "Unzip func done for P108\n",
      "*******************************************\n",
      "unzip done for func datas for sub: P108 run: /\n",
      "Run: bin and unzip brain CSF  for sub: P108\n",
      "Unzip CSF done for P108\n",
      "*******************************************\n",
      "bin CSF and unzip done for brain seg, sub: P108\n",
      "Run: unzip for func datas for sub: P108 run: /\n",
      "Unzip func done for P108\n",
      "*******************************************\n",
      "unzip done for func datas for sub: P108 run: /\n",
      "Run: unzip for func datas for sub: P108 run: /\n",
      "Unzip func done for P108\n",
      "*******************************************\n",
      "unzip done for func datas for sub: P108 run: /\n",
      "Run: bin and unzip brain CSF  for sub: P108\n",
      "Unzip CSF done for P108\n",
      "*******************************************\n",
      "bin CSF and unzip done for brain seg, sub: P108\n"
     ]
    }
   ],
   "source": [
    "for subject_name in Directories['list_subjects']:\n",
    "    \n",
    "    for structure in ['spinalcord','brain']:\n",
    "        for run in range(0,len(Directories['Runs'])):\n",
    "    # Unzip func file\n",
    "            if not os.path.exists(Files_func[structure][subject_name][run].split('.')[0] + '.nii'):\n",
    "                print('Run: unzip for func datas for sub: ' + subject_name + ' run: ' + Directories['Runs'][run])\n",
    "                input = gzip.GzipFile(Files_func[structure][subject_name][run], 'rb')\n",
    "                s = input.read()\n",
    "                input.close()\n",
    "                output = open(Files_func[structure][subject_name][run].split('.')[0] + '.nii', 'wb')\n",
    "                output.write(s)\n",
    "                output.close()\n",
    "                print('Unzip func done for ' + subject_name)\n",
    "                del input, s, output\n",
    "                print('*******************************************')\n",
    "                print('unzip done for func datas for sub: ' + subject_name + ' run: ' + Directories['Runs'][run])\n",
    "            else:\n",
    "                print('*******************************************')\n",
    "                print('unzip already done for func '+ structure + ' datas for sub: ' + subject_name + ' run: ' + Directories['Runs'][run])\n",
    "    \n",
    "    # Unzip func file\n",
    "            if not os.path.exists(Files_func[structure + \"_mean\"][subject_name][run].split('.')[0] + '.nii'):\n",
    "                print('Run: unzip for func datas for sub: ' + subject_name + ' run: ' + Directories['Runs'][run])\n",
    "                input = gzip.GzipFile(Files_func[structure + \"_mean\"][subject_name][run], 'rb')\n",
    "                s = input.read()\n",
    "                input.close()\n",
    "                output = open(Files_func[structure + \"_mean\"][subject_name][run].split('.')[0] + '.nii', 'wb')\n",
    "                output.write(s)\n",
    "                output.close()\n",
    "                print('Unzip func done for ' + subject_name)\n",
    "                del input, s, output\n",
    "                print('*******************************************')\n",
    "                print('unzip done for func datas for sub: ' + subject_name + ' run: ' + Directories['Runs'][run])\n",
    "            else:\n",
    "                print('*******************************************')\n",
    "                print('unzip already done for func '+ structure + ' datas for sub: ' + subject_name + ' run: ' + Directories['Runs'][run])\n",
    "\n",
    "           \n",
    "    # Unzip CSF files \n",
    "        if not os.path.exists(Files_T1w_CSF[structure + '_inFunc'][subject_name].split('.')[0] + '.nii'):\n",
    "            print('Run: bin and unzip brain CSF  for sub: ' + subject_name )\n",
    "            input = gzip.GzipFile(Files_T1w_CSF[structure + '_inFunc'][subject_name], 'rb')\n",
    "            s = input.read()\n",
    "            input.close()\n",
    "            output = open(Files_T1w_CSF[structure + '_inFunc'][subject_name].split('.')[0] + '.nii', 'wb')\n",
    "            output.write(s)\n",
    "            output.close()\n",
    "            print('Unzip CSF done for ' + subject_name)\n",
    "            del input, s, output\n",
    "            print('*******************************************')\n",
    "            print('bin CSF and unzip done for brain seg, sub: ' + subject_name)\n",
    "        else:\n",
    "            print('*******************************************')\n",
    "            print('bin CSF and unzip already done for ' + structure + ' seg, sub: ' + subject_name)\n",
    "            \n",
    "   "
   ]
  },
  {
   "cell_type": "markdown",
   "metadata": {},
   "source": [
    "#### <font color=#f4665a> II.3 Copy .tsv file from raw to denoising directory"
   ]
  },
  {
   "cell_type": "code",
   "execution_count": 12,
   "metadata": {},
   "outputs": [
    {
     "name": "stdout",
     "output_type": "stream",
     "text": [
      "Run: unzip for func datas for sub: P108 run: /\n"
     ]
    }
   ],
   "source": [
    "for subject_name in Directories['list_subjects']:\n",
    "    for run in range(0,len(Directories['Runs'])):\n",
    "        shutil.copyfile(Files_Physio[subject_name][run]['BIDS'], Files_Physio[subject_name][run]['BIDS_copy'])\n",
    "        if not os.path.exists(Files_Physio[subject_name][run]['BIDS_copy'].split('.')[0] + '.tsv'):\n",
    "                print('Run: unzip for func datas for sub: ' + subject_name + ' run: ' + Directories['Runs'][run])\n",
    "                input = gzip.GzipFile(Files_Physio[subject_name][run]['BIDS_copy'], 'rb')\n",
    "                s = input.read()\n",
    "                input.close()\n",
    "                output = open(Files_Physio[subject_name][run]['BIDS_copy'].split('.')[0] + '.tsv', 'wb')\n",
    "                output.write(s)\n",
    "                output.close()\n",
    "      "
   ]
  },
  {
   "cell_type": "markdown",
   "metadata": {},
   "source": [
    "## <font color=#f4665a> III. Run Denoising </font>\n",
    "<font color=#efb017> **Intputs:** </font>\n",
    "- Func coreg \n",
    "- fMRI parameters: TR and number of slices  \n",
    "- Func coreg  \n",
    "- fMRI parameters: TR and number of slices  \n",
    "- Dicom from last volume => extract the timing to syncronised scan and physio  \n",
    "- Mask CSF => for Compcor  \n",
    "- Physio files: .puls and .resp  \n",
    "    \n",
    "<font color=#efb017> **Outputs:** </font>\n",
    "*New_2020_MK_CL/denoising/sub-SXX/run/structure/Tapas*  \n",
    ">  .mat => output from Tapas (c,r,pulse,hv,rvt...)  \n",
    "> .png => visual output from tapas  \n",
    "> .txt => regressor files each column = 1 regressor   \n",
    "\n",
    "> *Physiological recordings:*  \n",
    "> -- 6 Cardiac regressors (3*(Cos+Sin))  \n",
    "> --  8 Resp regressors (4*(Cos+Sin))  \n",
    "> --  4 Interaction regressors (4*1)  \n",
    "> --  1 heart rate variability (HR) regressor  \n",
    "> --  1 respiratory volume per time (RV) regressor  \n",
    ">\n",
    "> *Masks of the white matter and CSF were used to extract the specific time series from these regions. In order to eliminate the non-neural aspects of the signal, we used the COMPCOR approach:*  \n",
    "> -- 6 CompCor regressors   \n",
    "\n",
    "\n",
    "  "
   ]
  },
  {
   "cell_type": "code",
   "execution_count": 13,
   "metadata": {},
   "outputs": [
    {
     "name": "stdout",
     "output_type": "stream",
     "text": [
      "Tapas Done\n",
      "for P108 run: / spinalcord\n",
      "**************************************************\n"
     ]
    },
    {
     "name": "stderr",
     "output_type": "stream",
     "text": [
      "/cerebro/cerebro1/dataset/bmpd/derivatives/thibault_test/code/toolbox/bmpd_python/lib/python3.6/site-packages/ipykernel_launcher.py:60: UserWarning: In Matplotlib 3.3 individual lines on a stem plot will be added as a LineCollection instead of individual lines. This significantly improves the performance of a stem plot. To remove this warning and switch to the new behaviour, set the \"use_line_collection\" keyword argument to True.\n"
     ]
    },
    {
     "name": "stdout",
     "output_type": "stream",
     "text": [
      "Tapas Done\n",
      "for P108 run: / brain\n",
      "**************************************************\n"
     ]
    },
    {
     "name": "stderr",
     "output_type": "stream",
     "text": [
      "/cerebro/cerebro1/dataset/bmpd/derivatives/thibault_test/code/toolbox/bmpd_python/lib/python3.6/site-packages/ipykernel_launcher.py:60: UserWarning: In Matplotlib 3.3 individual lines on a stem plot will be added as a LineCollection instead of individual lines. This significantly improves the performance of a stem plot. To remove this warning and switch to the new behaviour, set the \"use_line_collection\" keyword argument to True.\n"
     ]
    }
   ],
   "source": [
    "eng = matlab.engine.start_matlab()\n",
    "for subject_name in range(len(Directories['list_subjects'])):\n",
    "    subject_name=Directories['list_subjects'][subject_name]\n",
    "    for structure in ['spinalcord','brain']:\n",
    "\n",
    "# II.1. Run TAPAS_________________________________________\n",
    "        for run in range(0,len(Directories['Runs'])):\n",
    "            PhysioDir=Directories['DenoisingDir'] + 'sub-' + subject_name + '/' + Directories['Runs'][run] + '/'+ structure + '/Tapas/'\n",
    "            nb_slices = nb.load(Files_func[structure][subject_name][run].split('.')[0] + '.nii').shape[2]\n",
    "            if not os.path.exists(PhysioDir + subject_name + '_denoise_26_reg_Physio.txt'):\n",
    "                print(eng.BMPD_TapasPhysiO(subject_name,\n",
    "                                           Files_func_Dir['MOCO'][structure][subject_name][run],\n",
    "                                           Files_func[structure][subject_name][run].split('/')[-1].split('.')[0] + '.nii',\n",
    "                                           fMRI_params[subject_name][run],\n",
    "                                           nb_slices,\n",
    "                                           Files_Dicom[subject_name][run],\n",
    "                                           Files_T1w_CSF[structure + '_inFunc'][subject_name].split('.')[0] + '.nii',\n",
    "                                           Files_Physio[subject_name][run]['BIDS_copy'].split('.')[0]+ '.tsv', #SubDir_Physio_files[subject_name] + Files_Physio[subject_name][run]['Physio_puls'],\n",
    "                                           Files_Physio[subject_name][run]['BIDS_copy'].split('.')[0]+ '.tsv', #SubDir_Physio_files[subject_name] +Files_Physio[subject_name][run]['Physio_resp'],\n",
    "                                           PhysioDir))\n",
    "\n",
    "                print('for ' + subject_name + ' run: ' + Directories['Runs'][run] + ' ' + structure )\n",
    "                print('**************************************************')\n",
    "            else:\n",
    "                print('Tapas already done for ' + subject_name + ' run: ' + Directories['Runs'][run] + ' ' + structure )\n",
    "                print('**************************************************')\n",
    "\n",
    "                \n",
    "            mat_file={}\n",
    "            load_mat= loadmat(PhysioDir + subject_name + '_denoise_26_reg_Physio.mat')\n",
    "            mat_file_load=load_mat['physio']['ons_secs'][0][0][0][0]\n",
    "            mat_file[run]={'t':mat_file_load[0],'t_start':mat_file_load[1],\n",
    "                           'c':mat_file_load[2],'r':mat_file_load[3], # raw recordings accross time\n",
    "                           'c_scaling':mat_file_load[4], 'r_scaling':mat_file_load[5], # 3 data / secondes\n",
    "                           'c_is_reliable':mat_file_load[6],'r_is_reliable':mat_file_load[7],\n",
    "                           'c_pulse':mat_file_load[8], # peaks / secondes\n",
    "                           'fr':mat_file_load[9],\n",
    "                           'c_sample_phase':mat_file_load[10],\n",
    "                           'hr':mat_file_load[12], # heart rate / secondes\n",
    "                           'rvt':mat_file_load[13]} # respiratory volume per time (per secondes)\n",
    "       \n",
    "    # II.3 Convert .mat in .txt files_______________________________________\n",
    "            np.savetxt(PhysioDir  +  '/sub-' + subject_name +  '_raw_resp.txt', mat_file[run]['r'])\n",
    "            np.savetxt(PhysioDir +  '/sub-' + subject_name +  '_raw_card.txt', mat_file[run]['c'])\n",
    "            np.savetxt(PhysioDir   +  '/sub-' + subject_name + '_hr.txt', mat_file[run]['hr'])\n",
    "            np.savetxt(PhysioDir   +  '/sub-' + subject_name +  '_rvt.txt', mat_file[run]['rvt'])\n",
    "  \n",
    "    # II.3 Plots physio and save figures_________________________________________\n",
    "    \n",
    "            for run in range(0,len(Directories['Runs'])):\n",
    "                fig=plt.figure(figsize=(20, 5), facecolor='w', edgecolor='k')\n",
    "                gs=GridSpec.GridSpec(2,2,figure=fig) # 2 rows, 3 columns\n",
    "                ax1=fig.add_subplot(gs[0,0]) # First row, first column\n",
    "                ax2=fig.add_subplot(gs[0,1]) # First row, second column\n",
    "                ax3=fig.add_subplot(gs[1,:]) # Second row, span all columns\n",
    "                fig.tight_layout()\n",
    "        \n",
    "                if not os.path.exists(PhysioDir  + 'sub-' + subject_name + '_' + Directories['Runs'][run] + '_Physio.png'):\n",
    "                    fig.subplots_adjust(hspace = .5, wspace=0.1)\n",
    "                    ax3.stem((mat_file[run]['c_pulse'][0:]),np.ones(len(mat_file[run]['c_pulse'][0:])),'lightpink',markerfmt=' ', basefmt=' ' )\n",
    "            \n",
    "                    ax3.plot((mat_file[run]['t'][1:]),mat_file[run]['c'][1:],color='crimson')\n",
    "                    ax1.plot(np.arange(start=0, stop=len(mat_file[run]['c_sample_phase'])),(mat_file[run]['c_sample_phase']+70) ,color='crimson')\n",
    "           \n",
    "                    ax1.plot(mat_file[run]['hr'],color='black')\n",
    "                    ax2.plot(np.arange(start=0, stop=len(mat_file[run]['t']))/400/1.55,mat_file[run]['r'])\n",
    "                    ax2.plot(mat_file[run]['rvt'],color='black')\n",
    "                    ax1.set_title('sub-' + subject_name + ' '+ Directories['Runs'][run],fontsize=20)\n",
    "            \n",
    "                    ax3.set_ylabel(\"Card / Peak Cardio \",fontsize=12)\n",
    "                    ax1.set_ylabel(\"resample card / Hear rate \",fontsize=12)\n",
    "                    ax1.set_xlabel(\"Volumes\",fontsize=12)\n",
    "                    ax2.set_ylabel(\"Respiration and  RVT\",fontsize=12) # rvt= respiratory volume per time\n",
    "                    ax2.set_xlabel(\"Volumes\",fontsize=12)\n",
    "                    ax3.set_xlabel(\"Time (sec)\",fontsize=12)\n",
    "            \n",
    "                    plt.savefig(PhysioDir  + 'sub-' + subject_name + '_Physio.png', dpi=300, bbox_inches = 'tight')\n",
    "                    plt.close()"
   ]
  },
  {
   "cell_type": "markdown",
   "metadata": {},
   "source": [
    "## <font color=#f4665a> IV. Run Denoising reports </font>\n",
    "Create a GLM with each component for denoising use as a regressor:\n",
    "- Con1: RETROICOR Cardiac pulse\n",
    "- Con2: RETROICOR Respiration \n",
    "- Con3: RETROICOR RespirationxCardiac pulse\n",
    "- Con4: HRV\n",
    "- Con5: RVT\n",
    "- Con6: CompCor"
   ]
  },
  {
   "cell_type": "code",
   "execution_count": 14,
   "metadata": {},
   "outputs": [
    {
     "name": "stdout",
     "output_type": "stream",
     "text": [
      "GLM done\n"
     ]
    }
   ],
   "source": [
    "for subject_name in range(len(Directories['list_subjects'])):\n",
    "    eng = matlab.engine.start_matlab()\n",
    "    subject_name=Directories['list_subjects'][subject_name]\n",
    "    for structure in ['brain']:\n",
    "# II.1. Create directory_________________________________________\n",
    "        if not os.path.exists(SubDir_Denoising[subject_name][run] + '/' + structure + '/Tapas/GLM'):\n",
    "            os.mkdir(SubDir_Denoising[subject_name][run] + '/' + structure + '/Tapas/GLM')\n",
    "# II.2. Run GLM and report_________________________________________\n",
    "        for run in range(0,1):#len(Directories['Runs'])):\n",
    "            PhysioDir=SubDir_Denoising[subject_name][run] + '/' + structure + '/Tapas/'\n",
    "            \n",
    "            if not os.path.exists(PhysioDir + '/Contrast_denoising_report.ps'):\n",
    "                nb_slices = nb.load(Files_func[structure][subject_name][run].split('.')[0] + '.nii').shape[2]\n",
    "                print(eng.BMPD_TapasPhysiO_report(subject_name,\n",
    "                                                  Directories['DenoisingDir'],\n",
    "                                                  structure,\n",
    "                                                  Files_func_Dir['MOCO'][structure][subject_name][run],\n",
    "                                                  Files_func[structure][subject_name][run].split('/')[-1].split('.')[0] + '.nii',\n",
    "                                                  Files_func[structure + '_mean'][subject_name][run].split('/')[-1].split('.')[0] + '.nii',\n",
    "                                                  PhysioDir,\n",
    "                                                 '_denoise_26_reg_Physio.mat',\n",
    "                                                 fMRI_params[subject_name][run],\n",
    "                                                 nb_slices))\n",
    "            "
   ]
  },
  {
   "cell_type": "code",
   "execution_count": null,
   "metadata": {},
   "outputs": [],
   "source": []
  },
  {
   "cell_type": "code",
   "execution_count": null,
   "metadata": {},
   "outputs": [],
   "source": []
  }
 ],
 "metadata": {
  "kernelspec": {
   "display_name": "Python 3 (ipykernel)",
   "language": "python",
   "name": "python3"
  },
  "language_info": {
   "codemirror_mode": {
    "name": "ipython",
    "version": 3
   },
   "file_extension": ".py",
   "mimetype": "text/x-python",
   "name": "python",
   "nbconvert_exporter": "python",
   "pygments_lexer": "ipython3",
   "version": "3.9.7"
  },
  "varInspector": {
   "cols": {
    "lenName": 16,
    "lenType": 16,
    "lenVar": 40
   },
   "kernels_config": {
    "python": {
     "delete_cmd_postfix": "",
     "delete_cmd_prefix": "del ",
     "library": "var_list.py",
     "varRefreshCmd": "print(var_dic_list())"
    },
    "r": {
     "delete_cmd_postfix": ") ",
     "delete_cmd_prefix": "rm(",
     "library": "var_list.r",
     "varRefreshCmd": "cat(var_dic_list()) "
    }
   },
   "oldHeight": 185,
   "position": {
    "height": "40px",
    "left": "908px",
    "right": "20px",
    "top": "29px",
    "width": "338px"
   },
   "types_to_exclude": [
    "module",
    "function",
    "builtin_function_or_method",
    "instance",
    "_Feature"
   ],
   "varInspector_section_display": "none",
   "window_display": true
  }
 },
 "nbformat": 4,
 "nbformat_minor": 4
}
