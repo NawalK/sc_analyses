{
 "cells": [
  {
   "cell_type": "code",
   "execution_count": 6,
   "id": "aab67fe4",
   "metadata": {},
   "outputs": [],
   "source": [
    "from os import sys\n",
    "sys.path.append('/media/miplab-nas2/Data3/Nawal/Tools/iCAPs/')\n",
    "from consensus_clustering import ConsensusClustering\n",
    "import numpy as np\n",
    "import nibabel as nb\n",
    "import matplotlib.pyplot as plt\n",
    "import seaborn as sns\n",
    "import pandas as pd\n",
    "from scipy.io import loadmat\n",
    "from numpy import median\n",
    "import importlib"
   ]
  },
  {
   "cell_type": "markdown",
   "id": "ce766d85",
   "metadata": {},
   "source": [
    "### Parameters"
   ]
  },
  {
   "cell_type": "code",
   "execution_count": null,
   "id": "52f41c5e",
   "metadata": {},
   "outputs": [],
   "source": [
    "Metadata = {\n",
    "    'root': '/media/miplab-nas2/Data/SpinalCord/3_RestingState/LongRecordings/Cervical/iCAPs_results/',\n",
    "    'icap_folder': 'PAM50_light_gm_19sub_Alpha_5_950DOT05/',\n",
    "    'cons_folder': 'SubsampleType_items_Fraction_0DOT8_nFolds_10_Dist_cosine',\n",
    "    'k': [*range(5,21)],\n",
    "            }"
   ]
  },
  {
   "cell_type": "markdown",
   "id": "c4501e2f",
   "metadata": {},
   "source": [
    "### Define number of K (consensus clustering)"
   ]
  },
  {
   "cell_type": "markdown",
   "id": "37876582",
   "metadata": {},
   "source": [
    "**1. Instantiate consensus clustering object**"
   ]
  },
  {
   "cell_type": "code",
   "execution_count": null,
   "id": "91345b7d",
   "metadata": {},
   "outputs": [],
   "source": [
    "consensus = ConsensusClustering(pathname=Metadata['root']+Metadata['icap_folder'], k_range=Metadata['k'], consname=Metadata['cons_folder'])"
   ]
  },
  {
   "cell_type": "markdown",
   "id": "b263a509",
   "metadata": {},
   "source": [
    "**2. Plot average consensus**"
   ]
  },
  {
   "cell_type": "code",
   "execution_count": null,
   "id": "cb85f50a",
   "metadata": {},
   "outputs": [],
   "source": [
    "consensus.plot_avg_consensus()"
   ]
  },
  {
   "cell_type": "markdown",
   "id": "e03b0ad8",
   "metadata": {},
   "source": [
    "**$\\Rightarrow$ From that, I focus on K = 6, 9, 11, 14**"
   ]
  },
  {
   "cell_type": "markdown",
   "id": "11f48d71",
   "metadata": {},
   "source": [
    "**3. Plot CDF**"
   ]
  },
  {
   "cell_type": "code",
   "execution_count": null,
   "id": "de8828ef",
   "metadata": {},
   "outputs": [],
   "source": [
    "consensus.plot_cdf([6,9,11,14])"
   ]
  }
 ],
 "metadata": {
  "kernelspec": {
   "display_name": "Python 3 (ipykernel)",
   "language": "python",
   "name": "python3"
  },
  "language_info": {
   "codemirror_mode": {
    "name": "ipython",
    "version": 3
   },
   "file_extension": ".py",
   "mimetype": "text/x-python",
   "name": "python",
   "nbconvert_exporter": "python",
   "pygments_lexer": "ipython3",
   "version": "3.9.7"
  }
 },
 "nbformat": 4,
 "nbformat_minor": 5
}
